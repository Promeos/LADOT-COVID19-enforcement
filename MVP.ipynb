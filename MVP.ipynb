{
 "cells": [
  {
   "cell_type": "markdown",
   "metadata": {},
   "source": [
    "# Acquire\n",
    "\n",
    "Let's acquire the parking citations data from our file.\n",
    "1. Import libraries.\n",
    "1. Load the dataset.\n",
    "1. Display the shape and first/last 2 rows.\n",
    "1. Display general infomation about the dataset - w/ the # of unique values in each column.\n",
    "1. Display the number of missing values in each column.\n",
    "1. Descriptive statistics for all numeric features."
   ]
  },
  {
   "cell_type": "code",
   "execution_count": 1,
   "metadata": {},
   "outputs": [],
   "source": [
    "# Import libraries\n",
    "import numpy as np\n",
    "import pandas as pd\n",
    "import matplotlib.pyplot as plt\n",
    "import seaborn as sns\n",
    "import sys\n",
    "import time\n",
    "import folium\n",
    "import unicodedata\n",
    "import re\n",
    "import json\n",
    "\n",
    "from tqdm.notebook import tqdm\n",
    "\n",
    "# Insert path to the source folder.\n",
    "sys.path.insert(1, 'src/')\n",
    "import acquire\n",
    "import prepare\n",
    "\n",
    "# Filter warnings\n",
    "from warnings import filterwarnings\n",
    "filterwarnings('ignore')"
   ]
  },
  {
   "cell_type": "markdown",
   "metadata": {},
   "source": [
    "## Street Sweeper Citations\n",
    "Data: [Los Angeles Parking Citations](https://www.kaggle.com/cityofLA/los-angeles-parking-citations)<br>\n",
    "Load the dataset and filter for:\n",
    "- Citations issued from 2017-01-01 to 2020-12-22.\n",
    "- Street Sweeping violations - `Violation Description` == \"NO PARK/STREET CLEAN\""
   ]
  },
  {
   "cell_type": "code",
   "execution_count": 2,
   "metadata": {},
   "outputs": [],
   "source": [
    "df = acquire.get_sweep_data()"
   ]
  },
  {
   "cell_type": "code",
   "execution_count": 3,
   "metadata": {},
   "outputs": [
    {
     "name": "stdout",
     "output_type": "stream",
     "text": [
      "(1882464, 22)\n",
      "<class 'pandas.core.frame.DataFrame'>\n",
      "RangeIndex: 1882464 entries, 0 to 1882463\n",
      "Data columns (total 22 columns):\n",
      " #   Column                  Dtype  \n",
      "---  ------                  -----  \n",
      " 0   Ticket number           object \n",
      " 1   Issue Date              object \n",
      " 2   Issue time              float64\n",
      " 3   Meter Id                object \n",
      " 4   Marked Time             float64\n",
      " 5   RP State Plate          object \n",
      " 6   Plate Expiry Date       float64\n",
      " 7   VIN                     object \n",
      " 8   Make                    object \n",
      " 9   Body Style              object \n",
      " 10  Color                   object \n",
      " 11  Location                object \n",
      " 12  Route                   object \n",
      " 13  Agency                  float64\n",
      " 14  Violation code          object \n",
      " 15  Violation Description   object \n",
      " 16  Fine amount             float64\n",
      " 17  Latitude                float64\n",
      " 18  Longitude               float64\n",
      " 19  Agency Description      object \n",
      " 20  Color Description       object \n",
      " 21  Body Style Description  object \n",
      "dtypes: float64(7), object(15)\n",
      "memory usage: 316.0+ MB\n"
     ]
    }
   ],
   "source": [
    "print(df.shape)\n",
    "df.info()"
   ]
  },
  {
   "cell_type": "code",
   "execution_count": 4,
   "metadata": {},
   "outputs": [
    {
     "data": {
      "text/html": [
       "<div>\n",
       "<style scoped>\n",
       "    .dataframe tbody tr th:only-of-type {\n",
       "        vertical-align: middle;\n",
       "    }\n",
       "\n",
       "    .dataframe tbody tr th {\n",
       "        vertical-align: top;\n",
       "    }\n",
       "\n",
       "    .dataframe thead th {\n",
       "        text-align: right;\n",
       "    }\n",
       "</style>\n",
       "<table border=\"1\" class=\"dataframe\">\n",
       "  <thead>\n",
       "    <tr style=\"text-align: right;\">\n",
       "      <th></th>\n",
       "      <th>Ticket number</th>\n",
       "      <th>Issue Date</th>\n",
       "      <th>Issue time</th>\n",
       "      <th>Meter Id</th>\n",
       "      <th>Marked Time</th>\n",
       "      <th>RP State Plate</th>\n",
       "      <th>Plate Expiry Date</th>\n",
       "      <th>VIN</th>\n",
       "      <th>Make</th>\n",
       "      <th>Body Style</th>\n",
       "      <th>...</th>\n",
       "      <th>Route</th>\n",
       "      <th>Agency</th>\n",
       "      <th>Violation code</th>\n",
       "      <th>Violation Description</th>\n",
       "      <th>Fine amount</th>\n",
       "      <th>Latitude</th>\n",
       "      <th>Longitude</th>\n",
       "      <th>Agency Description</th>\n",
       "      <th>Color Description</th>\n",
       "      <th>Body Style Description</th>\n",
       "    </tr>\n",
       "  </thead>\n",
       "  <tbody>\n",
       "    <tr>\n",
       "      <th>0</th>\n",
       "      <td>4343388033</td>\n",
       "      <td>2018-10-25T00:00:00.000</td>\n",
       "      <td>1204.0</td>\n",
       "      <td>NaN</td>\n",
       "      <td>NaN</td>\n",
       "      <td>CA</td>\n",
       "      <td>201802.0</td>\n",
       "      <td>NaN</td>\n",
       "      <td>MNNI</td>\n",
       "      <td>PA</td>\n",
       "      <td>...</td>\n",
       "      <td>00472</td>\n",
       "      <td>54.0</td>\n",
       "      <td>80.69BS</td>\n",
       "      <td>NO PARK/STREET CLEAN</td>\n",
       "      <td>73.0</td>\n",
       "      <td>6.477238e+06</td>\n",
       "      <td>1.854036e+06</td>\n",
       "      <td>NaN</td>\n",
       "      <td>NaN</td>\n",
       "      <td>NaN</td>\n",
       "    </tr>\n",
       "    <tr>\n",
       "      <th>1</th>\n",
       "      <td>4343388055</td>\n",
       "      <td>2018-10-25T00:00:00.000</td>\n",
       "      <td>1211.0</td>\n",
       "      <td>NaN</td>\n",
       "      <td>NaN</td>\n",
       "      <td>CA</td>\n",
       "      <td>201902.0</td>\n",
       "      <td>NaN</td>\n",
       "      <td>TOYT</td>\n",
       "      <td>PA</td>\n",
       "      <td>...</td>\n",
       "      <td>00472</td>\n",
       "      <td>54.0</td>\n",
       "      <td>80.69BS</td>\n",
       "      <td>NO PARK/STREET CLEAN</td>\n",
       "      <td>73.0</td>\n",
       "      <td>6.477999e+06</td>\n",
       "      <td>1.851994e+06</td>\n",
       "      <td>NaN</td>\n",
       "      <td>NaN</td>\n",
       "      <td>NaN</td>\n",
       "    </tr>\n",
       "  </tbody>\n",
       "</table>\n",
       "<p>2 rows × 22 columns</p>\n",
       "</div>"
      ],
      "text/plain": [
       "  Ticket number               Issue Date  Issue time Meter Id  Marked Time  \\\n",
       "0    4343388033  2018-10-25T00:00:00.000      1204.0      NaN          NaN   \n",
       "1    4343388055  2018-10-25T00:00:00.000      1211.0      NaN          NaN   \n",
       "\n",
       "  RP State Plate  Plate Expiry Date  VIN  Make Body Style  ...  Route Agency  \\\n",
       "0             CA           201802.0  NaN  MNNI         PA  ...  00472   54.0   \n",
       "1             CA           201902.0  NaN  TOYT         PA  ...  00472   54.0   \n",
       "\n",
       "  Violation code  Violation Description Fine amount      Latitude  \\\n",
       "0        80.69BS   NO PARK/STREET CLEAN        73.0  6.477238e+06   \n",
       "1        80.69BS   NO PARK/STREET CLEAN        73.0  6.477999e+06   \n",
       "\n",
       "      Longitude  Agency Description  Color Description Body Style Description  \n",
       "0  1.854036e+06                 NaN                NaN                    NaN  \n",
       "1  1.851994e+06                 NaN                NaN                    NaN  \n",
       "\n",
       "[2 rows x 22 columns]"
      ]
     },
     "execution_count": 4,
     "metadata": {},
     "output_type": "execute_result"
    }
   ],
   "source": [
    "df.head(2)"
   ]
  },
  {
   "cell_type": "code",
   "execution_count": 5,
   "metadata": {},
   "outputs": [
    {
     "data": {
      "text/html": [
       "<div>\n",
       "<style scoped>\n",
       "    .dataframe tbody tr th:only-of-type {\n",
       "        vertical-align: middle;\n",
       "    }\n",
       "\n",
       "    .dataframe tbody tr th {\n",
       "        vertical-align: top;\n",
       "    }\n",
       "\n",
       "    .dataframe thead th {\n",
       "        text-align: right;\n",
       "    }\n",
       "</style>\n",
       "<table border=\"1\" class=\"dataframe\">\n",
       "  <thead>\n",
       "    <tr style=\"text-align: right;\">\n",
       "      <th></th>\n",
       "      <th>Ticket number</th>\n",
       "      <th>Issue Date</th>\n",
       "      <th>Issue time</th>\n",
       "      <th>Meter Id</th>\n",
       "      <th>Marked Time</th>\n",
       "      <th>RP State Plate</th>\n",
       "      <th>Plate Expiry Date</th>\n",
       "      <th>VIN</th>\n",
       "      <th>Make</th>\n",
       "      <th>Body Style</th>\n",
       "      <th>...</th>\n",
       "      <th>Route</th>\n",
       "      <th>Agency</th>\n",
       "      <th>Violation code</th>\n",
       "      <th>Violation Description</th>\n",
       "      <th>Fine amount</th>\n",
       "      <th>Latitude</th>\n",
       "      <th>Longitude</th>\n",
       "      <th>Agency Description</th>\n",
       "      <th>Color Description</th>\n",
       "      <th>Body Style Description</th>\n",
       "    </tr>\n",
       "  </thead>\n",
       "  <tbody>\n",
       "    <tr>\n",
       "      <th>1882462</th>\n",
       "      <td>4522167742</td>\n",
       "      <td>2020-12-22T00:00:00.000</td>\n",
       "      <td>1046.0</td>\n",
       "      <td>NaN</td>\n",
       "      <td>NaN</td>\n",
       "      <td>CA</td>\n",
       "      <td>202010.0</td>\n",
       "      <td>NaN</td>\n",
       "      <td>SUBA</td>\n",
       "      <td>PA</td>\n",
       "      <td>...</td>\n",
       "      <td>00300</td>\n",
       "      <td>53.0</td>\n",
       "      <td>80.69BS</td>\n",
       "      <td>NO PARK/STREET CLEAN</td>\n",
       "      <td>73.0</td>\n",
       "      <td>6.380484e+06</td>\n",
       "      <td>1.895415e+06</td>\n",
       "      <td>53 - DOT - VALLEY</td>\n",
       "      <td>GREY</td>\n",
       "      <td>PASSENGER CAR</td>\n",
       "    </tr>\n",
       "    <tr>\n",
       "      <th>1882463</th>\n",
       "      <td>4523214220</td>\n",
       "      <td>2020-12-22T00:00:00.000</td>\n",
       "      <td>833.0</td>\n",
       "      <td>NaN</td>\n",
       "      <td>NaN</td>\n",
       "      <td>CA</td>\n",
       "      <td>NaN</td>\n",
       "      <td>NaN</td>\n",
       "      <td>JAGU</td>\n",
       "      <td>PA</td>\n",
       "      <td>...</td>\n",
       "      <td>00553</td>\n",
       "      <td>55.0</td>\n",
       "      <td>80.69BS</td>\n",
       "      <td>NO PARK/STREET CLEAN</td>\n",
       "      <td>73.0</td>\n",
       "      <td>6.478186e+06</td>\n",
       "      <td>1.808237e+06</td>\n",
       "      <td>55 - DOT - SOUTHERN</td>\n",
       "      <td>BEIGE</td>\n",
       "      <td>PASSENGER CAR</td>\n",
       "    </tr>\n",
       "  </tbody>\n",
       "</table>\n",
       "<p>2 rows × 22 columns</p>\n",
       "</div>"
      ],
      "text/plain": [
       "        Ticket number               Issue Date  Issue time Meter Id  \\\n",
       "1882462    4522167742  2020-12-22T00:00:00.000      1046.0      NaN   \n",
       "1882463    4523214220  2020-12-22T00:00:00.000       833.0      NaN   \n",
       "\n",
       "         Marked Time RP State Plate  Plate Expiry Date  VIN  Make Body Style  \\\n",
       "1882462          NaN             CA           202010.0  NaN  SUBA         PA   \n",
       "1882463          NaN             CA                NaN  NaN  JAGU         PA   \n",
       "\n",
       "         ...  Route Agency Violation code  Violation Description Fine amount  \\\n",
       "1882462  ...  00300   53.0        80.69BS   NO PARK/STREET CLEAN        73.0   \n",
       "1882463  ...  00553   55.0        80.69BS   NO PARK/STREET CLEAN        73.0   \n",
       "\n",
       "             Latitude     Longitude   Agency Description  Color Description  \\\n",
       "1882462  6.380484e+06  1.895415e+06    53 - DOT - VALLEY               GREY   \n",
       "1882463  6.478186e+06  1.808237e+06  55 - DOT - SOUTHERN              BEIGE   \n",
       "\n",
       "        Body Style Description  \n",
       "1882462          PASSENGER CAR  \n",
       "1882463          PASSENGER CAR  \n",
       "\n",
       "[2 rows x 22 columns]"
      ]
     },
     "execution_count": 5,
     "metadata": {},
     "output_type": "execute_result"
    }
   ],
   "source": [
    "df.tail(2)"
   ]
  },
  {
   "cell_type": "code",
   "execution_count": 6,
   "metadata": {},
   "outputs": [
    {
     "data": {
      "text/html": [
       "<div>\n",
       "<style scoped>\n",
       "    .dataframe tbody tr th:only-of-type {\n",
       "        vertical-align: middle;\n",
       "    }\n",
       "\n",
       "    .dataframe tbody tr th {\n",
       "        vertical-align: top;\n",
       "    }\n",
       "\n",
       "    .dataframe thead th {\n",
       "        text-align: right;\n",
       "    }\n",
       "</style>\n",
       "<table border=\"1\" class=\"dataframe\">\n",
       "  <thead>\n",
       "    <tr style=\"text-align: right;\">\n",
       "      <th></th>\n",
       "      <th>Issue time</th>\n",
       "      <th>Marked Time</th>\n",
       "      <th>Plate Expiry Date</th>\n",
       "      <th>Agency</th>\n",
       "      <th>Fine amount</th>\n",
       "      <th>Latitude</th>\n",
       "      <th>Longitude</th>\n",
       "    </tr>\n",
       "  </thead>\n",
       "  <tbody>\n",
       "    <tr>\n",
       "      <th>count</th>\n",
       "      <td>1.882426e+06</td>\n",
       "      <td>0.0</td>\n",
       "      <td>1.719841e+06</td>\n",
       "      <td>1.882464e+06</td>\n",
       "      <td>1.882460e+06</td>\n",
       "      <td>1.882464e+06</td>\n",
       "      <td>1.882464e+06</td>\n",
       "    </tr>\n",
       "    <tr>\n",
       "      <th>mean</th>\n",
       "      <td>1.013076e+03</td>\n",
       "      <td>NaN</td>\n",
       "      <td>1.922022e+05</td>\n",
       "      <td>5.338664e+01</td>\n",
       "      <td>7.299998e+01</td>\n",
       "      <td>5.919254e+06</td>\n",
       "      <td>1.701929e+06</td>\n",
       "    </tr>\n",
       "    <tr>\n",
       "      <th>std</th>\n",
       "      <td>1.861187e+02</td>\n",
       "      <td>NaN</td>\n",
       "      <td>4.308395e+04</td>\n",
       "      <td>1.997974e+00</td>\n",
       "      <td>1.546120e-02</td>\n",
       "      <td>1.762232e+06</td>\n",
       "      <td>4.860292e+05</td>\n",
       "    </tr>\n",
       "    <tr>\n",
       "      <th>min</th>\n",
       "      <td>5.000000e+00</td>\n",
       "      <td>NaN</td>\n",
       "      <td>1.000000e+00</td>\n",
       "      <td>1.000000e+00</td>\n",
       "      <td>5.300000e+01</td>\n",
       "      <td>9.999900e+04</td>\n",
       "      <td>9.999900e+04</td>\n",
       "    </tr>\n",
       "    <tr>\n",
       "      <th>25%</th>\n",
       "      <td>8.420000e+02</td>\n",
       "      <td>NaN</td>\n",
       "      <td>2.018010e+05</td>\n",
       "      <td>5.100000e+01</td>\n",
       "      <td>7.300000e+01</td>\n",
       "      <td>6.424639e+06</td>\n",
       "      <td>1.825621e+06</td>\n",
       "    </tr>\n",
       "    <tr>\n",
       "      <th>50%</th>\n",
       "      <td>1.018000e+03</td>\n",
       "      <td>NaN</td>\n",
       "      <td>2.018100e+05</td>\n",
       "      <td>5.400000e+01</td>\n",
       "      <td>7.300000e+01</td>\n",
       "      <td>6.452519e+06</td>\n",
       "      <td>1.843891e+06</td>\n",
       "    </tr>\n",
       "    <tr>\n",
       "      <th>75%</th>\n",
       "      <td>1.209000e+03</td>\n",
       "      <td>NaN</td>\n",
       "      <td>2.019090e+05</td>\n",
       "      <td>5.500000e+01</td>\n",
       "      <td>7.300000e+01</td>\n",
       "      <td>6.472699e+06</td>\n",
       "      <td>1.859551e+06</td>\n",
       "    </tr>\n",
       "    <tr>\n",
       "      <th>max</th>\n",
       "      <td>2.355000e+03</td>\n",
       "      <td>NaN</td>\n",
       "      <td>9.201020e+05</td>\n",
       "      <td>5.800000e+01</td>\n",
       "      <td>7.300000e+01</td>\n",
       "      <td>6.513045e+06</td>\n",
       "      <td>1.940266e+06</td>\n",
       "    </tr>\n",
       "  </tbody>\n",
       "</table>\n",
       "</div>"
      ],
      "text/plain": [
       "         Issue time  Marked Time  Plate Expiry Date        Agency  \\\n",
       "count  1.882426e+06          0.0       1.719841e+06  1.882464e+06   \n",
       "mean   1.013076e+03          NaN       1.922022e+05  5.338664e+01   \n",
       "std    1.861187e+02          NaN       4.308395e+04  1.997974e+00   \n",
       "min    5.000000e+00          NaN       1.000000e+00  1.000000e+00   \n",
       "25%    8.420000e+02          NaN       2.018010e+05  5.100000e+01   \n",
       "50%    1.018000e+03          NaN       2.018100e+05  5.400000e+01   \n",
       "75%    1.209000e+03          NaN       2.019090e+05  5.500000e+01   \n",
       "max    2.355000e+03          NaN       9.201020e+05  5.800000e+01   \n",
       "\n",
       "        Fine amount      Latitude     Longitude  \n",
       "count  1.882460e+06  1.882464e+06  1.882464e+06  \n",
       "mean   7.299998e+01  5.919254e+06  1.701929e+06  \n",
       "std    1.546120e-02  1.762232e+06  4.860292e+05  \n",
       "min    5.300000e+01  9.999900e+04  9.999900e+04  \n",
       "25%    7.300000e+01  6.424639e+06  1.825621e+06  \n",
       "50%    7.300000e+01  6.452519e+06  1.843891e+06  \n",
       "75%    7.300000e+01  6.472699e+06  1.859551e+06  \n",
       "max    7.300000e+01  6.513045e+06  1.940266e+06  "
      ]
     },
     "execution_count": 6,
     "metadata": {},
     "output_type": "execute_result"
    }
   ],
   "source": [
    "df.describe()"
   ]
  },
  {
   "cell_type": "code",
   "execution_count": 7,
   "metadata": {
    "scrolled": false
   },
   "outputs": [
    {
     "data": {
      "image/png": "[encoded data removed]",
      "text/plain": [
       "<Figure size 1152x576 with 9 Axes>"
      ]
     },
     "metadata": {
      "needs_background": "light"
     },
     "output_type": "display_data"
    }
   ],
   "source": [
    "df.hist(figsize=(16, 8))\n",
    "plt.tight_layout();"
   ]
  },
  {
   "cell_type": "markdown",
   "metadata": {},
   "source": [
    "__Initial findings__\n",
    "- `Issue time` and `Marked Time` are quasi-normally distributed. Note: Poisson Distribution\n",
    "- It's interesting to see the distribution of our activity on earth follows a normal distribution.\n",
    "- Agencies 50+ write the most parking citations.\n",
    "- Most fine amounts are less than $100.00\n",
    "- There are a few license plates that are null or invalid entrys."
   ]
  },
  {
   "cell_type": "markdown",
   "metadata": {},
   "source": [
    "# Prepare"
   ]
  },
  {
   "cell_type": "markdown",
   "metadata": {},
   "source": [
    "- Remove spaces + capitalization in each column name\n",
    "- Cast `Plate Expiry Date` to datetime data type.\n",
    "- Cast `Issue Date` and `Issue Time` to datetime data types.\n",
    "- Drop columns missing >=74.42\\% of their values. \n",
    "- Drop missing values."
   ]
  },
  {
   "cell_type": "code",
   "execution_count": 8,
   "metadata": {
    "scrolled": false
   },
   "outputs": [
    {
     "data": {
      "text/html": [
       "<div>\n",
       "<style scoped>\n",
       "    .dataframe tbody tr th:only-of-type {\n",
       "        vertical-align: middle;\n",
       "    }\n",
       "\n",
       "    .dataframe tbody tr th {\n",
       "        vertical-align: top;\n",
       "    }\n",
       "\n",
       "    .dataframe thead th {\n",
       "        text-align: right;\n",
       "    }\n",
       "</style>\n",
       "<table border=\"1\" class=\"dataframe\">\n",
       "  <thead>\n",
       "    <tr style=\"text-align: right;\">\n",
       "      <th></th>\n",
       "      <th>issue_date</th>\n",
       "      <th>issue_time</th>\n",
       "      <th>rp_state_plate</th>\n",
       "      <th>plate_expiry_date</th>\n",
       "      <th>make</th>\n",
       "      <th>body_style</th>\n",
       "      <th>color</th>\n",
       "      <th>location</th>\n",
       "      <th>route</th>\n",
       "      <th>agency</th>\n",
       "      <th>violation_code</th>\n",
       "      <th>violation_description</th>\n",
       "      <th>fine_amount</th>\n",
       "      <th>latitude</th>\n",
       "      <th>longitude</th>\n",
       "      <th>day_of_week</th>\n",
       "      <th>issue_year</th>\n",
       "      <th>issue_hour</th>\n",
       "      <th>issue_minute</th>\n",
       "    </tr>\n",
       "  </thead>\n",
       "  <tbody>\n",
       "    <tr>\n",
       "      <th>0</th>\n",
       "      <td>2017-01-03</td>\n",
       "      <td>10:53:00</td>\n",
       "      <td>CA</td>\n",
       "      <td>2017-07-01</td>\n",
       "      <td>VOLK</td>\n",
       "      <td>PA</td>\n",
       "      <td>MR</td>\n",
       "      <td>2400 PATRICIA AVENUE</td>\n",
       "      <td>00108</td>\n",
       "      <td>51</td>\n",
       "      <td>80.69BS</td>\n",
       "      <td>NO PARK/STREET CLEAN</td>\n",
       "      <td>73.0</td>\n",
       "      <td>34.0452</td>\n",
       "      <td>-118.4190</td>\n",
       "      <td>Tuesday</td>\n",
       "      <td>2017</td>\n",
       "      <td>10</td>\n",
       "      <td>53</td>\n",
       "    </tr>\n",
       "    <tr>\n",
       "      <th>1</th>\n",
       "      <td>2017-01-03</td>\n",
       "      <td>11:03:00</td>\n",
       "      <td>CA</td>\n",
       "      <td>2016-07-01</td>\n",
       "      <td>TOYT</td>\n",
       "      <td>PA</td>\n",
       "      <td>BK</td>\n",
       "      <td>121 76TH PL E</td>\n",
       "      <td>00553</td>\n",
       "      <td>55</td>\n",
       "      <td>80.69BS</td>\n",
       "      <td>NO PARK/STREET CLEAN</td>\n",
       "      <td>73.0</td>\n",
       "      <td>33.9705</td>\n",
       "      <td>-118.2735</td>\n",
       "      <td>Tuesday</td>\n",
       "      <td>2017</td>\n",
       "      <td>11</td>\n",
       "      <td>3</td>\n",
       "    </tr>\n",
       "    <tr>\n",
       "      <th>2</th>\n",
       "      <td>2017-01-03</td>\n",
       "      <td>12:10:00</td>\n",
       "      <td>CA</td>\n",
       "      <td>2017-12-01</td>\n",
       "      <td>TOYT</td>\n",
       "      <td>PA</td>\n",
       "      <td>SL</td>\n",
       "      <td>151 78TH ST W</td>\n",
       "      <td>00553</td>\n",
       "      <td>55</td>\n",
       "      <td>80.69BS</td>\n",
       "      <td>NO PARK/STREET CLEAN</td>\n",
       "      <td>73.0</td>\n",
       "      <td>33.9689</td>\n",
       "      <td>-118.2750</td>\n",
       "      <td>Tuesday</td>\n",
       "      <td>2017</td>\n",
       "      <td>12</td>\n",
       "      <td>10</td>\n",
       "    </tr>\n",
       "    <tr>\n",
       "      <th>3</th>\n",
       "      <td>2017-01-03</td>\n",
       "      <td>12:14:00</td>\n",
       "      <td>CA</td>\n",
       "      <td>2017-09-01</td>\n",
       "      <td>HOND</td>\n",
       "      <td>PA</td>\n",
       "      <td>GY</td>\n",
       "      <td>247 78TH ST W</td>\n",
       "      <td>00553</td>\n",
       "      <td>55</td>\n",
       "      <td>80.69BS</td>\n",
       "      <td>NO PARK/STREET CLEAN</td>\n",
       "      <td>73.0</td>\n",
       "      <td>33.9689</td>\n",
       "      <td>-118.2771</td>\n",
       "      <td>Tuesday</td>\n",
       "      <td>2017</td>\n",
       "      <td>12</td>\n",
       "      <td>14</td>\n",
       "    </tr>\n",
       "    <tr>\n",
       "      <th>4</th>\n",
       "      <td>2017-01-03</td>\n",
       "      <td>12:15:00</td>\n",
       "      <td>CA</td>\n",
       "      <td>2017-03-01</td>\n",
       "      <td>HYUN</td>\n",
       "      <td>PA</td>\n",
       "      <td>RD</td>\n",
       "      <td>253 78TH ST W</td>\n",
       "      <td>00553</td>\n",
       "      <td>55</td>\n",
       "      <td>80.69BS</td>\n",
       "      <td>NO PARK/STREET CLEAN</td>\n",
       "      <td>73.0</td>\n",
       "      <td>33.9689</td>\n",
       "      <td>-118.2773</td>\n",
       "      <td>Tuesday</td>\n",
       "      <td>2017</td>\n",
       "      <td>12</td>\n",
       "      <td>15</td>\n",
       "    </tr>\n",
       "  </tbody>\n",
       "</table>\n",
       "</div>"
      ],
      "text/plain": [
       "  issue_date issue_time rp_state_plate plate_expiry_date  make body_style  \\\n",
       "0 2017-01-03   10:53:00             CA        2017-07-01  VOLK         PA   \n",
       "1 2017-01-03   11:03:00             CA        2016-07-01  TOYT         PA   \n",
       "2 2017-01-03   12:10:00             CA        2017-12-01  TOYT         PA   \n",
       "3 2017-01-03   12:14:00             CA        2017-09-01  HOND         PA   \n",
       "4 2017-01-03   12:15:00             CA        2017-03-01  HYUN         PA   \n",
       "\n",
       "  color              location  route  agency violation_code  \\\n",
       "0    MR  2400 PATRICIA AVENUE  00108      51        80.69BS   \n",
       "1    BK         121 76TH PL E  00553      55        80.69BS   \n",
       "2    SL         151 78TH ST W  00553      55        80.69BS   \n",
       "3    GY         247 78TH ST W  00553      55        80.69BS   \n",
       "4    RD         253 78TH ST W  00553      55        80.69BS   \n",
       "\n",
       "  violation_description  fine_amount  latitude  longitude day_of_week  \\\n",
       "0  NO PARK/STREET CLEAN         73.0   34.0452  -118.4190     Tuesday   \n",
       "1  NO PARK/STREET CLEAN         73.0   33.9705  -118.2735     Tuesday   \n",
       "2  NO PARK/STREET CLEAN         73.0   33.9689  -118.2750     Tuesday   \n",
       "3  NO PARK/STREET CLEAN         73.0   33.9689  -118.2771     Tuesday   \n",
       "4  NO PARK/STREET CLEAN         73.0   33.9689  -118.2773     Tuesday   \n",
       "\n",
       "   issue_year  issue_hour  issue_minute  \n",
       "0        2017          10            53  \n",
       "1        2017          11             3  \n",
       "2        2017          12            10  \n",
       "3        2017          12            14  \n",
       "4        2017          12            15  "
      ]
     },
     "execution_count": 8,
     "metadata": {},
     "output_type": "execute_result"
    }
   ],
   "source": [
    "df_citations = prepare.prep_sweep_data(df)\n",
    "df_citations.head()"
   ]
  },
  {
   "cell_type": "code",
   "execution_count": 9,
   "metadata": {},
   "outputs": [
    {
     "name": "stdout",
     "output_type": "stream",
     "text": [
      "<class 'pandas.core.frame.DataFrame'>\n",
      "RangeIndex: 1634569 entries, 0 to 1634568\n",
      "Data columns (total 19 columns):\n",
      " #   Column                 Non-Null Count    Dtype         \n",
      "---  ------                 --------------    -----         \n",
      " 0   issue_date             1634569 non-null  datetime64[ns]\n",
      " 1   issue_time             1634569 non-null  object        \n",
      " 2   rp_state_plate         1634569 non-null  object        \n",
      " 3   plate_expiry_date      1634569 non-null  datetime64[ns]\n",
      " 4   make                   1634569 non-null  object        \n",
      " 5   body_style             1634569 non-null  object        \n",
      " 6   color                  1634569 non-null  object        \n",
      " 7   location               1634569 non-null  object        \n",
      " 8   route                  1634569 non-null  object        \n",
      " 9   agency                 1634569 non-null  int64         \n",
      " 10  violation_code         1634569 non-null  object        \n",
      " 11  violation_description  1634569 non-null  object        \n",
      " 12  fine_amount            1634569 non-null  float64       \n",
      " 13  latitude               1634569 non-null  float64       \n",
      " 14  longitude              1634569 non-null  float64       \n",
      " 15  day_of_week            1634569 non-null  object        \n",
      " 16  issue_year             1634569 non-null  int64         \n",
      " 17  issue_hour             1634569 non-null  int64         \n",
      " 18  issue_minute           1634569 non-null  int64         \n",
      "dtypes: datetime64[ns](2), float64(3), int64(4), object(10)\n",
      "memory usage: 236.9+ MB\n"
     ]
    }
   ],
   "source": [
    "df_citations.info()"
   ]
  },
  {
   "cell_type": "markdown",
   "metadata": {},
   "source": [
    "# Exploratory Data Analysis"
   ]
  },
  {
   "cell_type": "code",
   "execution_count": 10,
   "metadata": {},
   "outputs": [],
   "source": [
    "# Filter street sweeping data for citations issued between\n",
    "# 8am and 2pm, 8 and 14 respectively.\n",
    "\n",
    "df_citation_times = df_citations.loc[(df_citations.issue_hour >= 8)&(df_citations.issue_hour < 14)]"
   ]
  },
  {
   "cell_type": "markdown",
   "metadata": {},
   "source": [
    "What time are most parking citations issued?"
   ]
  },
  {
   "cell_type": "code",
   "execution_count": 11,
   "metadata": {},
   "outputs": [
    {
     "data": {
      "image/png": "[encoded data removed]",
      "text/plain": [
       "<Figure size 576x576 with 1 Axes>"
      ]
     },
     "metadata": {
      "needs_background": "light"
     },
     "output_type": "display_data"
    }
   ],
   "source": [
    "sns.set_context('talk')\n",
    "\n",
    "# Issue Hour Plot\n",
    "df_citation_times.issue_hour.value_counts().sort_index().plot.bar(figsize=(8, 8))\n",
    "\n",
    "# Axis labels\n",
    "plt.title('Most Street Sweeping Citations are Issued at 8am')\n",
    "plt.xlabel('Issue Hour (24HR)')\n",
    "plt.ylabel('# of Citations (in thousands)')\n",
    "\n",
    "# Chart Formatting\n",
    "plt.xticks(rotation=0)\n",
    "plt.yticks(range(100_000, 400_001,100_000), ['100', '200', '300', '400'])\n",
    "plt.show()"
   ]
  },
  {
   "cell_type": "code",
   "execution_count": 12,
   "metadata": {},
   "outputs": [
    {
     "data": {
      "image/png": "[encoded data removed]",
      "text/plain": [
       "<Figure size 1440x648 with 1 Axes>"
      ]
     },
     "metadata": {
      "needs_background": "light"
     },
     "output_type": "display_data"
    }
   ],
   "source": [
    "sns.set_context('talk')\n",
    "\n",
    "# Issue Minute Plot\n",
    "df_citation_times.issue_minute.value_counts().sort_index().plot.bar(figsize=(20, 9))\n",
    "\n",
    "# Axis labels\n",
    "plt.title('Most Street Sweeping Citations are Issued in the First 30 Minutes')\n",
    "plt.xlabel('Issue Minute')\n",
    "plt.ylabel('# of Citations (in thousands)')\n",
    "# plt.axvspan(0, 30, facecolor='grey', alpha=0.1)\n",
    "\n",
    "# Chart Formatting\n",
    "plt.xticks(rotation=0)\n",
    "plt.yticks(range(5_000, 40_001, 5_000), ['5', '10', '15', '20', '25', '30', '35', '40'])\n",
    "plt.tight_layout()\n",
    "plt.show()"
   ]
  },
  {
   "cell_type": "markdown",
   "metadata": {},
   "source": [
    "## Post-Covid Enforcement Analysis"
   ]
  },
  {
   "cell_type": "code",
   "execution_count": 13,
   "metadata": {},
   "outputs": [],
   "source": [
    "df_covid = df_citations.loc[df_citations.issue_date >= '2020-10-15']\n",
    "df_covid.reset_index(drop=True, inplace=True)"
   ]
  },
  {
   "cell_type": "code",
   "execution_count": 14,
   "metadata": {},
   "outputs": [
    {
     "data": {
      "text/html": [
       "<div>\n",
       "<style scoped>\n",
       "    .dataframe tbody tr th:only-of-type {\n",
       "        vertical-align: middle;\n",
       "    }\n",
       "\n",
       "    .dataframe tbody tr th {\n",
       "        vertical-align: top;\n",
       "    }\n",
       "\n",
       "    .dataframe thead th {\n",
       "        text-align: right;\n",
       "    }\n",
       "</style>\n",
       "<table border=\"1\" class=\"dataframe\">\n",
       "  <thead>\n",
       "    <tr style=\"text-align: right;\">\n",
       "      <th></th>\n",
       "      <th>issue_date</th>\n",
       "      <th>issue_time</th>\n",
       "      <th>rp_state_plate</th>\n",
       "      <th>plate_expiry_date</th>\n",
       "      <th>make</th>\n",
       "      <th>body_style</th>\n",
       "      <th>color</th>\n",
       "      <th>location</th>\n",
       "      <th>route</th>\n",
       "      <th>agency</th>\n",
       "      <th>violation_code</th>\n",
       "      <th>violation_description</th>\n",
       "      <th>fine_amount</th>\n",
       "      <th>latitude</th>\n",
       "      <th>longitude</th>\n",
       "      <th>day_of_week</th>\n",
       "      <th>issue_year</th>\n",
       "      <th>issue_hour</th>\n",
       "      <th>issue_minute</th>\n",
       "    </tr>\n",
       "  </thead>\n",
       "  <tbody>\n",
       "    <tr>\n",
       "      <th>0</th>\n",
       "      <td>2020-10-15</td>\n",
       "      <td>12:38:00</td>\n",
       "      <td>CA</td>\n",
       "      <td>2021-03-01</td>\n",
       "      <td>MITS</td>\n",
       "      <td>PA</td>\n",
       "      <td>WT</td>\n",
       "      <td>651 ARDMORE AV S</td>\n",
       "      <td>478R2</td>\n",
       "      <td>54</td>\n",
       "      <td>80.69BS</td>\n",
       "      <td>NO PARK/STREET CLEAN</td>\n",
       "      <td>73.0</td>\n",
       "      <td>34.0617</td>\n",
       "      <td>-118.3020</td>\n",
       "      <td>Thursday</td>\n",
       "      <td>2020</td>\n",
       "      <td>12</td>\n",
       "      <td>38</td>\n",
       "    </tr>\n",
       "    <tr>\n",
       "      <th>1</th>\n",
       "      <td>2020-10-15</td>\n",
       "      <td>09:34:00</td>\n",
       "      <td>CA</td>\n",
       "      <td>2021-09-01</td>\n",
       "      <td>BMW</td>\n",
       "      <td>PA</td>\n",
       "      <td>BK</td>\n",
       "      <td>2010 LINDEN AVE</td>\n",
       "      <td>00132</td>\n",
       "      <td>51</td>\n",
       "      <td>80.69BS</td>\n",
       "      <td>NO PARK/STREET CLEAN</td>\n",
       "      <td>73.0</td>\n",
       "      <td>33.9940</td>\n",
       "      <td>-118.4571</td>\n",
       "      <td>Thursday</td>\n",
       "      <td>2020</td>\n",
       "      <td>9</td>\n",
       "      <td>34</td>\n",
       "    </tr>\n",
       "    <tr>\n",
       "      <th>2</th>\n",
       "      <td>2020-10-15</td>\n",
       "      <td>09:23:00</td>\n",
       "      <td>NJ</td>\n",
       "      <td>2017-09-01</td>\n",
       "      <td>HOND</td>\n",
       "      <td>PA</td>\n",
       "      <td>SL</td>\n",
       "      <td>1845 BUTLER AV</td>\n",
       "      <td>00152</td>\n",
       "      <td>51</td>\n",
       "      <td>80.69BS</td>\n",
       "      <td>NO PARK/STREET CLEAN</td>\n",
       "      <td>73.0</td>\n",
       "      <td>34.0416</td>\n",
       "      <td>-118.4485</td>\n",
       "      <td>Thursday</td>\n",
       "      <td>2020</td>\n",
       "      <td>9</td>\n",
       "      <td>23</td>\n",
       "    </tr>\n",
       "    <tr>\n",
       "      <th>3</th>\n",
       "      <td>2020-10-15</td>\n",
       "      <td>09:24:00</td>\n",
       "      <td>CA</td>\n",
       "      <td>2021-05-01</td>\n",
       "      <td>TOYT</td>\n",
       "      <td>PA</td>\n",
       "      <td>BK</td>\n",
       "      <td>5024 CLEON AVE</td>\n",
       "      <td>00323</td>\n",
       "      <td>53</td>\n",
       "      <td>80.69BS</td>\n",
       "      <td>NO PARK/STREET CLEAN</td>\n",
       "      <td>73.0</td>\n",
       "      <td>34.1618</td>\n",
       "      <td>-118.3681</td>\n",
       "      <td>Thursday</td>\n",
       "      <td>2020</td>\n",
       "      <td>9</td>\n",
       "      <td>24</td>\n",
       "    </tr>\n",
       "    <tr>\n",
       "      <th>4</th>\n",
       "      <td>2020-10-15</td>\n",
       "      <td>09:44:00</td>\n",
       "      <td>CA</td>\n",
       "      <td>2021-02-01</td>\n",
       "      <td>NISS</td>\n",
       "      <td>PA</td>\n",
       "      <td>GY</td>\n",
       "      <td>1519 HAZELWOOD AVE</td>\n",
       "      <td>00600</td>\n",
       "      <td>56</td>\n",
       "      <td>80.69BS</td>\n",
       "      <td>NO PARK/STREET CLEAN</td>\n",
       "      <td>73.0</td>\n",
       "      <td>34.1235</td>\n",
       "      <td>-118.2148</td>\n",
       "      <td>Thursday</td>\n",
       "      <td>2020</td>\n",
       "      <td>9</td>\n",
       "      <td>44</td>\n",
       "    </tr>\n",
       "  </tbody>\n",
       "</table>\n",
       "</div>"
      ],
      "text/plain": [
       "  issue_date issue_time rp_state_plate plate_expiry_date  make body_style  \\\n",
       "0 2020-10-15   12:38:00             CA        2021-03-01  MITS         PA   \n",
       "1 2020-10-15   09:34:00             CA        2021-09-01   BMW         PA   \n",
       "2 2020-10-15   09:23:00             NJ        2017-09-01  HOND         PA   \n",
       "3 2020-10-15   09:24:00             CA        2021-05-01  TOYT         PA   \n",
       "4 2020-10-15   09:44:00             CA        2021-02-01  NISS         PA   \n",
       "\n",
       "  color            location  route  agency violation_code  \\\n",
       "0    WT    651 ARDMORE AV S  478R2      54        80.69BS   \n",
       "1    BK     2010 LINDEN AVE  00132      51        80.69BS   \n",
       "2    SL      1845 BUTLER AV  00152      51        80.69BS   \n",
       "3    BK      5024 CLEON AVE  00323      53        80.69BS   \n",
       "4    GY  1519 HAZELWOOD AVE  00600      56        80.69BS   \n",
       "\n",
       "  violation_description  fine_amount  latitude  longitude day_of_week  \\\n",
       "0  NO PARK/STREET CLEAN         73.0   34.0617  -118.3020    Thursday   \n",
       "1  NO PARK/STREET CLEAN         73.0   33.9940  -118.4571    Thursday   \n",
       "2  NO PARK/STREET CLEAN         73.0   34.0416  -118.4485    Thursday   \n",
       "3  NO PARK/STREET CLEAN         73.0   34.1618  -118.3681    Thursday   \n",
       "4  NO PARK/STREET CLEAN         73.0   34.1235  -118.2148    Thursday   \n",
       "\n",
       "   issue_year  issue_hour  issue_minute  \n",
       "0        2020          12            38  \n",
       "1        2020           9            34  \n",
       "2        2020           9            23  \n",
       "3        2020           9            24  \n",
       "4        2020           9            44  "
      ]
     },
     "execution_count": 14,
     "metadata": {},
     "output_type": "execute_result"
    }
   ],
   "source": [
    "df_covid.head()"
   ]
  },
  {
   "cell_type": "code",
   "execution_count": 78,
   "metadata": {},
   "outputs": [
    {
     "data": {
      "image/png": "[encoded data removed]",
      "text/plain": [
       "<Figure size 576x432 with 1 Axes>"
      ]
     },
     "metadata": {
      "needs_background": "light"
     },
     "output_type": "display_data"
    }
   ],
   "source": [
    "df_covid.issue_date.value_counts(ascending=False).head(5).sort_index(ascending=False).plot.barh(figsize=(8, 6))\n",
    "\n",
    "plt.title('Top 5 Citation Days Post-Enforcement')\n",
    "plt.xlabel('# of Citations')\n",
    "plt.show()"
   ]
  },
  {
   "cell_type": "code",
   "execution_count": 73,
   "metadata": {},
   "outputs": [],
   "source": [
    "df_2017 = df_citations.loc[df_citations.issue_date.between('2017-01-01', '2017-12-31')]\n",
    "df_2018 = df_citations.loc[df_citations.issue_date.between('2018-01-01', '2018-12-31')]\n",
    "df_2019 = df_citations.loc[df_citations.issue_date.between('2019-01-01', '2019-12-31')]\n",
    "df_2020 = df_citations.loc[df_citations.issue_date.between('2020-10-01', '2020-12-31')]"
   ]
  },
  {
   "cell_type": "code",
   "execution_count": 74,
   "metadata": {},
   "outputs": [
    {
     "data": {
      "text/plain": [
       "count       307.000000\n",
       "mean     128608.846906\n",
       "std       67393.429200\n",
       "min          73.000000\n",
       "25%      125852.000000\n",
       "50%      154322.000000\n",
       "75%      169615.500000\n",
       "max      268713.000000\n",
       "Name: fine_amount, dtype: float64"
      ]
     },
     "execution_count": 74,
     "metadata": {},
     "output_type": "execute_result"
    }
   ],
   "source": [
    "df_2017.groupby('issue_date').fine_amount.sum().describe()"
   ]
  },
  {
   "cell_type": "code",
   "execution_count": 75,
   "metadata": {},
   "outputs": [
    {
     "data": {
      "text/plain": [
       "count       317.000000\n",
       "mean     118808.536278\n",
       "std       70563.662969\n",
       "min          73.000000\n",
       "25%       76139.000000\n",
       "50%      149796.000000\n",
       "75%      164834.000000\n",
       "max      316455.000000\n",
       "Name: fine_amount, dtype: float64"
      ]
     },
     "execution_count": 75,
     "metadata": {},
     "output_type": "execute_result"
    }
   ],
   "source": [
    "df_2018.groupby('issue_date').fine_amount.sum().describe()"
   ]
  },
  {
   "cell_type": "code",
   "execution_count": 76,
   "metadata": {},
   "outputs": [
    {
     "data": {
      "text/plain": [
       "count       279.000000\n",
       "mean      88072.014337\n",
       "std       73513.673235\n",
       "min          73.000000\n",
       "25%        5475.000000\n",
       "50%      110887.000000\n",
       "75%      158994.000000\n",
       "max      253310.000000\n",
       "Name: fine_amount, dtype: float64"
      ]
     },
     "execution_count": 76,
     "metadata": {},
     "output_type": "execute_result"
    }
   ],
   "source": [
    "df_2019.groupby('issue_date').fine_amount.sum().describe()"
   ]
  },
  {
   "cell_type": "code",
   "execution_count": 77,
   "metadata": {},
   "outputs": [
    {
     "data": {
      "text/plain": [
       "count        62.000000\n",
       "mean     208652.516129\n",
       "std      192977.902163\n",
       "min          73.000000\n",
       "25%        3358.000000\n",
       "50%      208232.500000\n",
       "75%      284134.250000\n",
       "max      803146.000000\n",
       "Name: fine_amount, dtype: float64"
      ]
     },
     "execution_count": 77,
     "metadata": {},
     "output_type": "execute_result"
    }
   ],
   "source": [
    "df_2020.groupby('issue_date').fine_amount.sum().describe()"
   ]
  },
  {
   "cell_type": "markdown",
   "metadata": {},
   "source": [
    "### Hypothesis Test 1\n",
    "\n",
    "**Initial Query**\n",
    "Was the amount of citations issued in October 2020 significantly greater than previous Octobers?\n",
    "\n",
    "**Statistical Test**\n",
    "\n",
    "$H_0$: There is no significant difference...\n",
    "\n",
    "$H_a$: There is a significant difference..."
   ]
  },
  {
   "cell_type": "markdown",
   "metadata": {},
   "source": [
    "# Conclusions"
   ]
  },
  {
   "cell_type": "code",
   "execution_count": null,
   "metadata": {},
   "outputs": [],
   "source": []
  }
 ],
 "metadata": {
  "kernelspec": {
   "display_name": "Python 3",
   "language": "python",
   "name": "python3"
  },
  "language_info": {
   "codemirror_mode": {
    "name": "ipython",
    "version": 3
   },
   "file_extension": ".py",
   "mimetype": "text/x-python",
   "name": "python",
   "nbconvert_exporter": "python",
   "pygments_lexer": "ipython3",
   "version": "3.7.6"
  }
 },
 "nbformat": 4,
 "nbformat_minor": 4
}
