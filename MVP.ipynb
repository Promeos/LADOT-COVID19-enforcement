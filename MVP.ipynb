{
 "cells": [
  {
   "cell_type": "markdown",
   "metadata": {},
   "source": [
    "# Street Sweeper Citations\n",
    "\n",
    "## Acquire\n",
    "Data: [Los Angeles Parking Citations](https://www.kaggle.com/cityofLA/los-angeles-parking-citations)<br>\n",
    "Load the dataset and filter for:\n",
    "- Citations issued from 2017-01-01 to 2020-12-22.\n",
    "- Street Sweeping violations - `Violation Description` == __\"NO PARK/STREET CLEAN\"__\n",
    "\n",
    "Let's acquire the parking citations data from our file.\n",
    "1. Import libraries.\n",
    "1. Load the dataset.\n",
    "1. Display the shape and first/last 2 rows.\n",
    "1. Display general infomation about the dataset - w/ the # of unique values in each column.\n",
    "1. Display the number of missing values in each column.\n",
    "1. Descriptive statistics for all numeric features."
   ]
  },
  {
   "cell_type": "code",
   "execution_count": 1,
   "metadata": {},
   "outputs": [],
   "source": [
    "# Import libraries\n",
    "import numpy as np\n",
    "import pandas as pd\n",
    "import matplotlib.pyplot as plt\n",
    "import seaborn as sns\n",
    "from scipy import stats\n",
    "import sys\n",
    "import time\n",
    "import folium\n",
    "import unicodedata\n",
    "import re\n",
    "import json\n",
    "import datetime\n",
    "import calplot\n",
    "\n",
    "from tqdm.notebook import tqdm\n",
    "\n",
    "# Insert path to the source folder.\n",
    "sys.path.insert(1, 'src/')\n",
    "import acquire\n",
    "import prepare\n",
    "\n",
    "# Filter warnings\n",
    "from warnings import filterwarnings\n",
    "filterwarnings('ignore')"
   ]
  },
  {
   "cell_type": "code",
   "execution_count": 2,
   "metadata": {},
   "outputs": [],
   "source": [
    "# Load the data\n",
    "df = acquire.get_sweep_data()"
   ]
  },
  {
   "cell_type": "code",
   "execution_count": 3,
   "metadata": {},
   "outputs": [
    {
     "name": "stdout",
     "output_type": "stream",
     "text": [
      "(1882464, 22)\n",
      "<class 'pandas.core.frame.DataFrame'>\n",
      "RangeIndex: 1882464 entries, 0 to 1882463\n",
      "Data columns (total 22 columns):\n",
      " #   Column                  Dtype  \n",
      "---  ------                  -----  \n",
      " 0   Ticket number           object \n",
      " 1   Issue Date              object \n",
      " 2   Issue time              float64\n",
      " 3   Meter Id                object \n",
      " 4   Marked Time             float64\n",
      " 5   RP State Plate          object \n",
      " 6   Plate Expiry Date       float64\n",
      " 7   VIN                     float64\n",
      " 8   Make                    object \n",
      " 9   Body Style              object \n",
      " 10  Color                   object \n",
      " 11  Location                object \n",
      " 12  Route                   object \n",
      " 13  Agency                  float64\n",
      " 14  Violation code          object \n",
      " 15  Violation Description   object \n",
      " 16  Fine amount             float64\n",
      " 17  Latitude                float64\n",
      " 18  Longitude               float64\n",
      " 19  Agency Description      object \n",
      " 20  Color Description       object \n",
      " 21  Body Style Description  object \n",
      "dtypes: float64(8), object(14)\n",
      "memory usage: 316.0+ MB\n"
     ]
    }
   ],
   "source": [
    "# Display the shape and dtypes of each column\n",
    "print(df.shape)\n",
    "df.info()"
   ]
  },
  {
   "cell_type": "code",
   "execution_count": 4,
   "metadata": {},
   "outputs": [
    {
     "data": {
      "text/html": [
       "<div>\n",
       "<style scoped>\n",
       "    .dataframe tbody tr th:only-of-type {\n",
       "        vertical-align: middle;\n",
       "    }\n",
       "\n",
       "    .dataframe tbody tr th {\n",
       "        vertical-align: top;\n",
       "    }\n",
       "\n",
       "    .dataframe thead th {\n",
       "        text-align: right;\n",
       "    }\n",
       "</style>\n",
       "<table border=\"1\" class=\"dataframe\">\n",
       "  <thead>\n",
       "    <tr style=\"text-align: right;\">\n",
       "      <th></th>\n",
       "      <th>Ticket number</th>\n",
       "      <th>Issue Date</th>\n",
       "      <th>Issue time</th>\n",
       "      <th>Meter Id</th>\n",
       "      <th>Marked Time</th>\n",
       "      <th>RP State Plate</th>\n",
       "      <th>Plate Expiry Date</th>\n",
       "      <th>VIN</th>\n",
       "      <th>Make</th>\n",
       "      <th>Body Style</th>\n",
       "      <th>...</th>\n",
       "      <th>Route</th>\n",
       "      <th>Agency</th>\n",
       "      <th>Violation code</th>\n",
       "      <th>Violation Description</th>\n",
       "      <th>Fine amount</th>\n",
       "      <th>Latitude</th>\n",
       "      <th>Longitude</th>\n",
       "      <th>Agency Description</th>\n",
       "      <th>Color Description</th>\n",
       "      <th>Body Style Description</th>\n",
       "    </tr>\n",
       "  </thead>\n",
       "  <tbody>\n",
       "    <tr>\n",
       "      <th>0</th>\n",
       "      <td>4343388033</td>\n",
       "      <td>2018-10-25T00:00:00.000</td>\n",
       "      <td>1204.0</td>\n",
       "      <td>NaN</td>\n",
       "      <td>NaN</td>\n",
       "      <td>CA</td>\n",
       "      <td>201802.0</td>\n",
       "      <td>NaN</td>\n",
       "      <td>MNNI</td>\n",
       "      <td>PA</td>\n",
       "      <td>...</td>\n",
       "      <td>00472</td>\n",
       "      <td>54.0</td>\n",
       "      <td>80.69BS</td>\n",
       "      <td>NO PARK/STREET CLEAN</td>\n",
       "      <td>73.0</td>\n",
       "      <td>6.477238e+06</td>\n",
       "      <td>1.854036e+06</td>\n",
       "      <td>NaN</td>\n",
       "      <td>NaN</td>\n",
       "      <td>NaN</td>\n",
       "    </tr>\n",
       "    <tr>\n",
       "      <th>1</th>\n",
       "      <td>4343388055</td>\n",
       "      <td>2018-10-25T00:00:00.000</td>\n",
       "      <td>1211.0</td>\n",
       "      <td>NaN</td>\n",
       "      <td>NaN</td>\n",
       "      <td>CA</td>\n",
       "      <td>201902.0</td>\n",
       "      <td>NaN</td>\n",
       "      <td>TOYT</td>\n",
       "      <td>PA</td>\n",
       "      <td>...</td>\n",
       "      <td>00472</td>\n",
       "      <td>54.0</td>\n",
       "      <td>80.69BS</td>\n",
       "      <td>NO PARK/STREET CLEAN</td>\n",
       "      <td>73.0</td>\n",
       "      <td>6.477999e+06</td>\n",
       "      <td>1.851994e+06</td>\n",
       "      <td>NaN</td>\n",
       "      <td>NaN</td>\n",
       "      <td>NaN</td>\n",
       "    </tr>\n",
       "  </tbody>\n",
       "</table>\n",
       "<p>2 rows × 22 columns</p>\n",
       "</div>"
      ],
      "text/plain": [
       "  Ticket number               Issue Date  Issue time Meter Id  Marked Time  \\\n",
       "0    4343388033  2018-10-25T00:00:00.000      1204.0      NaN          NaN   \n",
       "1    4343388055  2018-10-25T00:00:00.000      1211.0      NaN          NaN   \n",
       "\n",
       "  RP State Plate  Plate Expiry Date  VIN  Make Body Style  ...  Route Agency  \\\n",
       "0             CA           201802.0  NaN  MNNI         PA  ...  00472   54.0   \n",
       "1             CA           201902.0  NaN  TOYT         PA  ...  00472   54.0   \n",
       "\n",
       "  Violation code  Violation Description Fine amount      Latitude  \\\n",
       "0        80.69BS   NO PARK/STREET CLEAN        73.0  6.477238e+06   \n",
       "1        80.69BS   NO PARK/STREET CLEAN        73.0  6.477999e+06   \n",
       "\n",
       "      Longitude  Agency Description  Color Description Body Style Description  \n",
       "0  1.854036e+06                 NaN                NaN                    NaN  \n",
       "1  1.851994e+06                 NaN                NaN                    NaN  \n",
       "\n",
       "[2 rows x 22 columns]"
      ]
     },
     "execution_count": 4,
     "metadata": {},
     "output_type": "execute_result"
    }
   ],
   "source": [
    "# Display the first two citations\n",
    "df.head(2)"
   ]
  },
  {
   "cell_type": "code",
   "execution_count": 5,
   "metadata": {},
   "outputs": [
    {
     "data": {
      "text/html": [
       "<div>\n",
       "<style scoped>\n",
       "    .dataframe tbody tr th:only-of-type {\n",
       "        vertical-align: middle;\n",
       "    }\n",
       "\n",
       "    .dataframe tbody tr th {\n",
       "        vertical-align: top;\n",
       "    }\n",
       "\n",
       "    .dataframe thead th {\n",
       "        text-align: right;\n",
       "    }\n",
       "</style>\n",
       "<table border=\"1\" class=\"dataframe\">\n",
       "  <thead>\n",
       "    <tr style=\"text-align: right;\">\n",
       "      <th></th>\n",
       "      <th>Ticket number</th>\n",
       "      <th>Issue Date</th>\n",
       "      <th>Issue time</th>\n",
       "      <th>Meter Id</th>\n",
       "      <th>Marked Time</th>\n",
       "      <th>RP State Plate</th>\n",
       "      <th>Plate Expiry Date</th>\n",
       "      <th>VIN</th>\n",
       "      <th>Make</th>\n",
       "      <th>Body Style</th>\n",
       "      <th>...</th>\n",
       "      <th>Route</th>\n",
       "      <th>Agency</th>\n",
       "      <th>Violation code</th>\n",
       "      <th>Violation Description</th>\n",
       "      <th>Fine amount</th>\n",
       "      <th>Latitude</th>\n",
       "      <th>Longitude</th>\n",
       "      <th>Agency Description</th>\n",
       "      <th>Color Description</th>\n",
       "      <th>Body Style Description</th>\n",
       "    </tr>\n",
       "  </thead>\n",
       "  <tbody>\n",
       "    <tr>\n",
       "      <th>1882462</th>\n",
       "      <td>4522167742</td>\n",
       "      <td>2020-12-22T00:00:00.000</td>\n",
       "      <td>1046.0</td>\n",
       "      <td>NaN</td>\n",
       "      <td>NaN</td>\n",
       "      <td>CA</td>\n",
       "      <td>202010.0</td>\n",
       "      <td>NaN</td>\n",
       "      <td>SUBA</td>\n",
       "      <td>PA</td>\n",
       "      <td>...</td>\n",
       "      <td>00300</td>\n",
       "      <td>53.0</td>\n",
       "      <td>80.69BS</td>\n",
       "      <td>NO PARK/STREET CLEAN</td>\n",
       "      <td>73.0</td>\n",
       "      <td>6.380484e+06</td>\n",
       "      <td>1.895415e+06</td>\n",
       "      <td>53 - DOT - VALLEY</td>\n",
       "      <td>GREY</td>\n",
       "      <td>PASSENGER CAR</td>\n",
       "    </tr>\n",
       "    <tr>\n",
       "      <th>1882463</th>\n",
       "      <td>4523214220</td>\n",
       "      <td>2020-12-22T00:00:00.000</td>\n",
       "      <td>833.0</td>\n",
       "      <td>NaN</td>\n",
       "      <td>NaN</td>\n",
       "      <td>CA</td>\n",
       "      <td>NaN</td>\n",
       "      <td>NaN</td>\n",
       "      <td>JAGU</td>\n",
       "      <td>PA</td>\n",
       "      <td>...</td>\n",
       "      <td>00553</td>\n",
       "      <td>55.0</td>\n",
       "      <td>80.69BS</td>\n",
       "      <td>NO PARK/STREET CLEAN</td>\n",
       "      <td>73.0</td>\n",
       "      <td>6.478186e+06</td>\n",
       "      <td>1.808237e+06</td>\n",
       "      <td>55 - DOT - SOUTHERN</td>\n",
       "      <td>BEIGE</td>\n",
       "      <td>PASSENGER CAR</td>\n",
       "    </tr>\n",
       "  </tbody>\n",
       "</table>\n",
       "<p>2 rows × 22 columns</p>\n",
       "</div>"
      ],
      "text/plain": [
       "        Ticket number               Issue Date  Issue time Meter Id  \\\n",
       "1882462    4522167742  2020-12-22T00:00:00.000      1046.0      NaN   \n",
       "1882463    4523214220  2020-12-22T00:00:00.000       833.0      NaN   \n",
       "\n",
       "         Marked Time RP State Plate  Plate Expiry Date  VIN  Make Body Style  \\\n",
       "1882462          NaN             CA           202010.0  NaN  SUBA         PA   \n",
       "1882463          NaN             CA                NaN  NaN  JAGU         PA   \n",
       "\n",
       "         ...  Route Agency Violation code  Violation Description Fine amount  \\\n",
       "1882462  ...  00300   53.0        80.69BS   NO PARK/STREET CLEAN        73.0   \n",
       "1882463  ...  00553   55.0        80.69BS   NO PARK/STREET CLEAN        73.0   \n",
       "\n",
       "             Latitude     Longitude   Agency Description  Color Description  \\\n",
       "1882462  6.380484e+06  1.895415e+06    53 - DOT - VALLEY               GREY   \n",
       "1882463  6.478186e+06  1.808237e+06  55 - DOT - SOUTHERN              BEIGE   \n",
       "\n",
       "        Body Style Description  \n",
       "1882462          PASSENGER CAR  \n",
       "1882463          PASSENGER CAR  \n",
       "\n",
       "[2 rows x 22 columns]"
      ]
     },
     "execution_count": 5,
     "metadata": {},
     "output_type": "execute_result"
    }
   ],
   "source": [
    "# Display the last two citations\n",
    "df.tail(2)"
   ]
  },
  {
   "cell_type": "code",
   "execution_count": 6,
   "metadata": {},
   "outputs": [
    {
     "data": {
      "text/html": [
       "<div>\n",
       "<style scoped>\n",
       "    .dataframe tbody tr th:only-of-type {\n",
       "        vertical-align: middle;\n",
       "    }\n",
       "\n",
       "    .dataframe tbody tr th {\n",
       "        vertical-align: top;\n",
       "    }\n",
       "\n",
       "    .dataframe thead th {\n",
       "        text-align: right;\n",
       "    }\n",
       "</style>\n",
       "<table border=\"1\" class=\"dataframe\">\n",
       "  <thead>\n",
       "    <tr style=\"text-align: right;\">\n",
       "      <th></th>\n",
       "      <th>Issue time</th>\n",
       "      <th>Marked Time</th>\n",
       "      <th>Plate Expiry Date</th>\n",
       "      <th>VIN</th>\n",
       "      <th>Agency</th>\n",
       "      <th>Fine amount</th>\n",
       "      <th>Latitude</th>\n",
       "      <th>Longitude</th>\n",
       "    </tr>\n",
       "  </thead>\n",
       "  <tbody>\n",
       "    <tr>\n",
       "      <th>count</th>\n",
       "      <td>1.882426e+06</td>\n",
       "      <td>0.0</td>\n",
       "      <td>1.719841e+06</td>\n",
       "      <td>0.0</td>\n",
       "      <td>1.882464e+06</td>\n",
       "      <td>1.882460e+06</td>\n",
       "      <td>1.882464e+06</td>\n",
       "      <td>1.882464e+06</td>\n",
       "    </tr>\n",
       "    <tr>\n",
       "      <th>mean</th>\n",
       "      <td>1.013076e+03</td>\n",
       "      <td>NaN</td>\n",
       "      <td>1.922022e+05</td>\n",
       "      <td>NaN</td>\n",
       "      <td>5.338664e+01</td>\n",
       "      <td>7.299998e+01</td>\n",
       "      <td>5.919254e+06</td>\n",
       "      <td>1.701929e+06</td>\n",
       "    </tr>\n",
       "    <tr>\n",
       "      <th>std</th>\n",
       "      <td>1.861187e+02</td>\n",
       "      <td>NaN</td>\n",
       "      <td>4.308395e+04</td>\n",
       "      <td>NaN</td>\n",
       "      <td>1.997974e+00</td>\n",
       "      <td>1.546120e-02</td>\n",
       "      <td>1.762232e+06</td>\n",
       "      <td>4.860292e+05</td>\n",
       "    </tr>\n",
       "    <tr>\n",
       "      <th>min</th>\n",
       "      <td>5.000000e+00</td>\n",
       "      <td>NaN</td>\n",
       "      <td>1.000000e+00</td>\n",
       "      <td>NaN</td>\n",
       "      <td>1.000000e+00</td>\n",
       "      <td>5.300000e+01</td>\n",
       "      <td>9.999900e+04</td>\n",
       "      <td>9.999900e+04</td>\n",
       "    </tr>\n",
       "    <tr>\n",
       "      <th>25%</th>\n",
       "      <td>8.420000e+02</td>\n",
       "      <td>NaN</td>\n",
       "      <td>2.018010e+05</td>\n",
       "      <td>NaN</td>\n",
       "      <td>5.100000e+01</td>\n",
       "      <td>7.300000e+01</td>\n",
       "      <td>6.424639e+06</td>\n",
       "      <td>1.825621e+06</td>\n",
       "    </tr>\n",
       "    <tr>\n",
       "      <th>50%</th>\n",
       "      <td>1.018000e+03</td>\n",
       "      <td>NaN</td>\n",
       "      <td>2.018100e+05</td>\n",
       "      <td>NaN</td>\n",
       "      <td>5.400000e+01</td>\n",
       "      <td>7.300000e+01</td>\n",
       "      <td>6.452519e+06</td>\n",
       "      <td>1.843891e+06</td>\n",
       "    </tr>\n",
       "    <tr>\n",
       "      <th>75%</th>\n",
       "      <td>1.209000e+03</td>\n",
       "      <td>NaN</td>\n",
       "      <td>2.019090e+05</td>\n",
       "      <td>NaN</td>\n",
       "      <td>5.500000e+01</td>\n",
       "      <td>7.300000e+01</td>\n",
       "      <td>6.472699e+06</td>\n",
       "      <td>1.859551e+06</td>\n",
       "    </tr>\n",
       "    <tr>\n",
       "      <th>max</th>\n",
       "      <td>2.355000e+03</td>\n",
       "      <td>NaN</td>\n",
       "      <td>9.201020e+05</td>\n",
       "      <td>NaN</td>\n",
       "      <td>5.800000e+01</td>\n",
       "      <td>7.300000e+01</td>\n",
       "      <td>6.513045e+06</td>\n",
       "      <td>1.940266e+06</td>\n",
       "    </tr>\n",
       "  </tbody>\n",
       "</table>\n",
       "</div>"
      ],
      "text/plain": [
       "         Issue time  Marked Time  Plate Expiry Date  VIN        Agency  \\\n",
       "count  1.882426e+06          0.0       1.719841e+06  0.0  1.882464e+06   \n",
       "mean   1.013076e+03          NaN       1.922022e+05  NaN  5.338664e+01   \n",
       "std    1.861187e+02          NaN       4.308395e+04  NaN  1.997974e+00   \n",
       "min    5.000000e+00          NaN       1.000000e+00  NaN  1.000000e+00   \n",
       "25%    8.420000e+02          NaN       2.018010e+05  NaN  5.100000e+01   \n",
       "50%    1.018000e+03          NaN       2.018100e+05  NaN  5.400000e+01   \n",
       "75%    1.209000e+03          NaN       2.019090e+05  NaN  5.500000e+01   \n",
       "max    2.355000e+03          NaN       9.201020e+05  NaN  5.800000e+01   \n",
       "\n",
       "        Fine amount      Latitude     Longitude  \n",
       "count  1.882460e+06  1.882464e+06  1.882464e+06  \n",
       "mean   7.299998e+01  5.919254e+06  1.701929e+06  \n",
       "std    1.546120e-02  1.762232e+06  4.860292e+05  \n",
       "min    5.300000e+01  9.999900e+04  9.999900e+04  \n",
       "25%    7.300000e+01  6.424639e+06  1.825621e+06  \n",
       "50%    7.300000e+01  6.452519e+06  1.843891e+06  \n",
       "75%    7.300000e+01  6.472699e+06  1.859551e+06  \n",
       "max    7.300000e+01  6.513045e+06  1.940266e+06  "
      ]
     },
     "execution_count": 6,
     "metadata": {},
     "output_type": "execute_result"
    }
   ],
   "source": [
    "# Display descriptive statistics of numeric columns\n",
    "df.describe()"
   ]
  },
  {
   "cell_type": "code",
   "execution_count": 7,
   "metadata": {
    "scrolled": false
   },
   "outputs": [
    {
     "data": {
      "image/png": "[encoded data removed]",
      "text/plain": [
       "<Figure size 1152x576 with 9 Axes>"
      ]
     },
     "metadata": {
      "needs_background": "light"
     },
     "output_type": "display_data"
    }
   ],
   "source": [
    "df.hist(figsize=(16, 8), bins=15)\n",
    "plt.tight_layout();"
   ]
  },
  {
   "cell_type": "markdown",
   "metadata": {},
   "source": [
    "__Initial findings__\n",
    "- `Issue time` and `Marked Time` are quasi-normally distributed. Note: Poisson Distribution\n",
    "- It's interesting to see the distribution of our activity on earth follows a normal distribution.\n",
    "- Agencies 50+ write the most parking citations.\n",
    "- Most fine amounts are less than $100.00\n",
    "- There are a few null or invalid license plates."
   ]
  },
  {
   "cell_type": "markdown",
   "metadata": {},
   "source": [
    "# Prepare"
   ]
  },
  {
   "cell_type": "markdown",
   "metadata": {},
   "source": [
    "- Remove spaces + capitalization from each column name.\n",
    "- Cast `Plate Expiry Date` to datetime data type.\n",
    "- Cast `Issue Date` and `Issue Time` to datetime data types.\n",
    "- Drop columns missing >=74.42\\% of their values. \n",
    "- Drop missing values.\n",
    "- Transform Latitude and Longitude columns from NAD1983StatePlaneCaliforniaVFIPS0405 feet projection to EPSG:4326 World Geodetic System 1984: used in GPS [Standard]\n",
    "- Filter data for street sweeping citations only."
   ]
  },
  {
   "cell_type": "code",
   "execution_count": 8,
   "metadata": {
    "scrolled": false
   },
   "outputs": [
    {
     "data": {
      "text/html": [
       "<div>\n",
       "<style scoped>\n",
       "    .dataframe tbody tr th:only-of-type {\n",
       "        vertical-align: middle;\n",
       "    }\n",
       "\n",
       "    .dataframe tbody tr th {\n",
       "        vertical-align: top;\n",
       "    }\n",
       "\n",
       "    .dataframe thead th {\n",
       "        text-align: right;\n",
       "    }\n",
       "</style>\n",
       "<table border=\"1\" class=\"dataframe\">\n",
       "  <thead>\n",
       "    <tr style=\"text-align: right;\">\n",
       "      <th></th>\n",
       "      <th>issue_date</th>\n",
       "      <th>issue_time</th>\n",
       "      <th>rp_state_plate</th>\n",
       "      <th>plate_expiry_date</th>\n",
       "      <th>make</th>\n",
       "      <th>body_style</th>\n",
       "      <th>color</th>\n",
       "      <th>location</th>\n",
       "      <th>route</th>\n",
       "      <th>agency</th>\n",
       "      <th>violation_description</th>\n",
       "      <th>fine_amount</th>\n",
       "      <th>latitude</th>\n",
       "      <th>longitude</th>\n",
       "      <th>day_of_week</th>\n",
       "      <th>issue_year</th>\n",
       "      <th>issue_hour</th>\n",
       "      <th>issue_minute</th>\n",
       "    </tr>\n",
       "  </thead>\n",
       "  <tbody>\n",
       "    <tr>\n",
       "      <th>0</th>\n",
       "      <td>2017-01-03</td>\n",
       "      <td>10:53:00</td>\n",
       "      <td>CA</td>\n",
       "      <td>2017-07-01</td>\n",
       "      <td>VOLK</td>\n",
       "      <td>PA</td>\n",
       "      <td>MR</td>\n",
       "      <td>2400 PATRICIA AVENUE</td>\n",
       "      <td>00108</td>\n",
       "      <td>51</td>\n",
       "      <td>NO PARK/STREET CLEAN</td>\n",
       "      <td>73.0</td>\n",
       "      <td>34.0452</td>\n",
       "      <td>-118.4190</td>\n",
       "      <td>Tuesday</td>\n",
       "      <td>2017</td>\n",
       "      <td>10</td>\n",
       "      <td>53</td>\n",
       "    </tr>\n",
       "    <tr>\n",
       "      <th>1</th>\n",
       "      <td>2017-01-03</td>\n",
       "      <td>11:03:00</td>\n",
       "      <td>CA</td>\n",
       "      <td>2016-07-01</td>\n",
       "      <td>TOYT</td>\n",
       "      <td>PA</td>\n",
       "      <td>BK</td>\n",
       "      <td>121 76TH PL E</td>\n",
       "      <td>00553</td>\n",
       "      <td>55</td>\n",
       "      <td>NO PARK/STREET CLEAN</td>\n",
       "      <td>73.0</td>\n",
       "      <td>33.9705</td>\n",
       "      <td>-118.2735</td>\n",
       "      <td>Tuesday</td>\n",
       "      <td>2017</td>\n",
       "      <td>11</td>\n",
       "      <td>3</td>\n",
       "    </tr>\n",
       "  </tbody>\n",
       "</table>\n",
       "</div>"
      ],
      "text/plain": [
       "   issue_date issue_time rp_state_plate plate_expiry_date  make body_style  \\\n",
       "0  2017-01-03   10:53:00             CA        2017-07-01  VOLK         PA   \n",
       "1  2017-01-03   11:03:00             CA        2016-07-01  TOYT         PA   \n",
       "\n",
       "  color              location  route  agency violation_description  \\\n",
       "0    MR  2400 PATRICIA AVENUE  00108      51  NO PARK/STREET CLEAN   \n",
       "1    BK         121 76TH PL E  00553      55  NO PARK/STREET CLEAN   \n",
       "\n",
       "   fine_amount  latitude  longitude day_of_week  issue_year  issue_hour  \\\n",
       "0         73.0   34.0452  -118.4190     Tuesday        2017          10   \n",
       "1         73.0   33.9705  -118.2735     Tuesday        2017          11   \n",
       "\n",
       "   issue_minute  \n",
       "0            53  \n",
       "1             3  "
      ]
     },
     "execution_count": 8,
     "metadata": {},
     "output_type": "execute_result"
    }
   ],
   "source": [
    "# Prepare the data using a function stored in prepare.py\n",
    "df_citations = prepare.prep_sweep_data(df)\n",
    "\n",
    "# Display the first two rows\n",
    "df_citations.head(2)"
   ]
  },
  {
   "cell_type": "code",
   "execution_count": 9,
   "metadata": {},
   "outputs": [
    {
     "name": "stdout",
     "output_type": "stream",
     "text": [
      "<class 'pandas.core.frame.DataFrame'>\n",
      "RangeIndex: 1634569 entries, 0 to 1634568\n",
      "Data columns (total 18 columns):\n",
      " #   Column                 Non-Null Count    Dtype  \n",
      "---  ------                 --------------    -----  \n",
      " 0   issue_date             1634569 non-null  object \n",
      " 1   issue_time             1634569 non-null  object \n",
      " 2   rp_state_plate         1634569 non-null  object \n",
      " 3   plate_expiry_date      1634569 non-null  object \n",
      " 4   make                   1634569 non-null  object \n",
      " 5   body_style             1634569 non-null  object \n",
      " 6   color                  1634569 non-null  object \n",
      " 7   location               1634569 non-null  object \n",
      " 8   route                  1634569 non-null  object \n",
      " 9   agency                 1634569 non-null  int64  \n",
      " 10  violation_description  1634569 non-null  object \n",
      " 11  fine_amount            1634569 non-null  float64\n",
      " 12  latitude               1634569 non-null  float64\n",
      " 13  longitude              1634569 non-null  float64\n",
      " 14  day_of_week            1634569 non-null  object \n",
      " 15  issue_year             1634569 non-null  int64  \n",
      " 16  issue_hour             1634569 non-null  int64  \n",
      " 17  issue_minute           1634569 non-null  int64  \n",
      "dtypes: float64(3), int64(4), object(11)\n",
      "memory usage: 224.5+ MB\n"
     ]
    }
   ],
   "source": [
    "# Check the column data types and non-null counts.\n",
    "df_citations.info()"
   ]
  },
  {
   "cell_type": "markdown",
   "metadata": {},
   "source": [
    "# Exploration"
   ]
  },
  {
   "cell_type": "code",
   "execution_count": null,
   "metadata": {},
   "outputs": [],
   "source": [
    "sns.pairplot(df_citations);"
   ]
  },
  {
   "cell_type": "markdown",
   "metadata": {},
   "source": [
    "## How much daily revenue is generated from street sweeper citations?\n",
    "### Daily Revenue from Street Sweeper Citations\n",
    "Daily street sweeper citations increased in 2020."
   ]
  },
  {
   "cell_type": "code",
   "execution_count": null,
   "metadata": {},
   "outputs": [],
   "source": [
    "# Daily street sweeping citation revenue\n",
    "daily_revenue = df_citations.groupby('issue_date').fine_amount.sum()\n",
    "daily_revenue.index = pd.to_datetime(daily_revenue.index)"
   ]
  },
  {
   "cell_type": "code",
   "execution_count": null,
   "metadata": {
    "scrolled": false
   },
   "outputs": [],
   "source": [
    "sns.set_context('talk')\n",
    "\n",
    "# Plot daily revenue from street sweeping citations\n",
    "daily_revenue.plot(figsize=(14, 7), label='Revenue', color='DodgerBlue')\n",
    "plt.axhline(daily_revenue.mean(), color='black', label='Average Revenue')\n",
    "\n",
    "plt.title(\"Daily Revenue from Street Sweeping Citations\")\n",
    "plt.xlabel('')\n",
    "plt.ylabel(\"Revenue (in thousand's)\")\n",
    "\n",
    "plt.xticks(rotation=0, horizontalalignment='center', fontsize=13)\n",
    "plt.yticks(range(0, 1_000_000, 200_000), ['$0', '$200', '$400', '$600', '$800',])\n",
    "plt.ylim(0, 1_000_000)\n",
    "\n",
    "plt.legend(loc=2, framealpha=.8);"
   ]
  },
  {
   "cell_type": "markdown",
   "metadata": {},
   "source": [
    "> __Anomaly 1__: What happened between July/August of 2019 toh January of 2020?<br>\n",
    ">\n",
    "> __Anomaly 2__: Between March 2020 and October 2020 a Local Emergency was Declared by the Mayor of Los Angeles in response to COVID-19. Street Sweeping was halted to help Angelenos Shelter in Place. _Street Sweeping resumed on 10/15/2020_."
   ]
  },
  {
   "cell_type": "markdown",
   "metadata": {},
   "source": [
    "### Anomaly 2: Declaration of Local Emergency"
   ]
  },
  {
   "cell_type": "code",
   "execution_count": null,
   "metadata": {
    "scrolled": false
   },
   "outputs": [],
   "source": [
    "sns.set_context('talk')\n",
    "\n",
    "# Plot daily revenue from street sweeping citations\n",
    "daily_revenue.plot(figsize=(14, 7), label='Revenue', color='DodgerBlue')\n",
    "plt.axvspan('2020-03-16', '2020-10-14', color='grey', alpha=.15)\n",
    "plt.text('2020-03-29', 890_000, 'Declaration of\\nLocal Emergency', fontsize=11)\n",
    "\n",
    "\n",
    "plt.title(\"Daily Revenue from Street Sweeping Citations\")\n",
    "plt.xlabel('')\n",
    "plt.ylabel(\"Revenue (in thousand's)\")\n",
    "\n",
    "plt.xticks(rotation=0, horizontalalignment='center', fontsize=13)\n",
    "plt.yticks(range(0, 1_000_000, 200_000), ['$0', '$200', '$400', '$600', '$800',])\n",
    "plt.ylim(0, 1_000_000)\n",
    "\n",
    "plt.legend(loc=2, framealpha=.8);"
   ]
  },
  {
   "cell_type": "code",
   "execution_count": null,
   "metadata": {},
   "outputs": [],
   "source": [
    "sns.set_context('talk')\n",
    "\n",
    "# Plot daily revenue from street sweeping citations\n",
    "daily_revenue.plot(figsize=(14, 7), label='Revenue', color='DodgerBlue')\n",
    "plt.axhline(daily_revenue.mean(), color='black', label='Average Revenue')\n",
    "plt.axvline(datetime.datetime(2020, 10, 15), color='red', linestyle=\"--\", label='October 15, 2020')\n",
    "\n",
    "plt.title(\"Daily Revenue from Street Sweeping Citations\")\n",
    "plt.xlabel('')\n",
    "plt.ylabel(\"Revenue (in thousand's)\")\n",
    "\n",
    "plt.xticks(rotation=0, horizontalalignment='center', fontsize=13)\n",
    "plt.yticks(range(0, 1_000_000, 200_000), ['$0', '$200', '$400', '$600', '$800',])\n",
    "plt.ylim(0, 1_000_000)\n",
    "\n",
    "plt.legend(loc=2, framealpha=.8);"
   ]
  },
  {
   "cell_type": "markdown",
   "metadata": {},
   "source": [
    "## Hypothesis Test\n",
    "### General Inquiry\n",
    "Is the daily citation revenue after 10/15/2020 significantly greater than average?\n",
    "\n",
    "### Z-Score\n",
    "\n",
    "$H_0$: The daily citation revenue after 10/15/2020 is less than or equal to the average daily revenue.\n",
    "\n",
    "$H_a$: The daily citation revenue after 10/15/2020 is significantly greater than average."
   ]
  },
  {
   "cell_type": "code",
   "execution_count": null,
   "metadata": {},
   "outputs": [],
   "source": [
    "confidence_interval = .997\n",
    "\n",
    "# Directional Test\n",
    "alpha = (1 - confidence_interval)/2"
   ]
  },
  {
   "cell_type": "code",
   "execution_count": null,
   "metadata": {},
   "outputs": [],
   "source": [
    "# Data to calculate z-scores using precovid values to calculate the mean and std\n",
    "daily_revenue_precovid = df_citations.loc[df_citations.issue_date < '2020-06-01']\n",
    "daily_revenue_precovid = daily_revenue_precovid.groupby('issue_date').fine_amount.sum()\n",
    "mean_precovid, std_precovid = daily_revenue_precovid.agg(['mean', 'std']).values"
   ]
  },
  {
   "cell_type": "code",
   "execution_count": null,
   "metadata": {},
   "outputs": [],
   "source": [
    "mean, std = daily_revenue.agg(['mean', 'std']).values\n",
    "\n",
    "# Calculating Z-Scores using precovid mean and std\n",
    "z_scores_precovid = (daily_revenue - mean_precovid)/std_precovid\n",
    "z_scores_precovid.index = pd.to_datetime(z_scores_precovid.index)\n",
    "\n",
    "sig_zscores_pre_covid = z_scores_precovid[z_scores_precovid>3]\n",
    "\n",
    "# Calculating Z-Scores using entire data\n",
    "z_scores = (daily_revenue - mean)/std\n",
    "z_scores.index = pd.to_datetime(z_scores.index)\n",
    "\n",
    "sig_zscores = z_scores[z_scores>3]"
   ]
  },
  {
   "cell_type": "code",
   "execution_count": null,
   "metadata": {},
   "outputs": [],
   "source": [
    "sns.set_context('talk')\n",
    "\n",
    "plt.figure(figsize=(12, 6))\n",
    "sns.histplot(data=z_scores_precovid,\n",
    "             bins=50,\n",
    "             label='preCOVID z-scores')\n",
    "\n",
    "\n",
    "sns.histplot(data=z_scores,\n",
    "             bins=50,\n",
    "             color='orange',\n",
    "             label='z-scores')\n",
    "\n",
    "plt.title('Daily citation revenue after 10/15/2020 is significantly greater than average', fontsize=16)\n",
    "plt.xlabel('Standard Deviations')\n",
    "plt.ylabel('# of Days')\n",
    "\n",
    "plt.axvline(3, color='Black', linestyle=\"--\", label='3 Standard Deviations')\n",
    "\n",
    "plt.xticks(np.linspace(-1, 9, 11))\n",
    "plt.legend(fontsize=13);"
   ]
  },
  {
   "cell_type": "markdown",
   "metadata": {},
   "source": [
    "### p-values"
   ]
  },
  {
   "cell_type": "code",
   "execution_count": null,
   "metadata": {},
   "outputs": [],
   "source": [
    "p_values_precovid = z_scores_precovid.apply(stats.norm.cdf)\n",
    "p_values = z_scores_precovid.apply(stats.norm.cdf)\n",
    "\n",
    "significant_dates_precovid = p_values_precovid[(1-p_values_precovid) < alpha]\n",
    "significant_dates = p_values[(1-p_values) < alpha]"
   ]
  },
  {
   "cell_type": "code",
   "execution_count": null,
   "metadata": {},
   "outputs": [],
   "source": [
    "# The chance of the outcome occuring by random chance\n",
    "print(f'{alpha:0.3%}')"
   ]
  },
  {
   "cell_type": "markdown",
   "metadata": {},
   "source": [
    "### Significant Dates with less than a 0.15% chance of occuring\n",
    "\n",
    "- All dates that are considered significant occur after 10/15/2020\n",
    "- In the two weeks following 10/15/2020 significant events occured on __Tuesday's and Wednesday's__."
   ]
  },
  {
   "cell_type": "code",
   "execution_count": null,
   "metadata": {},
   "outputs": [],
   "source": [
    "dates_precovid = set(list(sig_zscores.index))\n",
    "dates = set(list(sig_zscores_pre_covid.index))\n",
    "\n",
    "\n",
    "common_dates = list(dates.intersection(dates_precovid))\n",
    "common_dates = pd.to_datetime(common_dates).sort_values()"
   ]
  },
  {
   "cell_type": "code",
   "execution_count": null,
   "metadata": {},
   "outputs": [],
   "source": [
    "pd.Series(common_dates.day_name(),\n",
    "          common_dates)"
   ]
  },
  {
   "cell_type": "code",
   "execution_count": null,
   "metadata": {
    "scrolled": false
   },
   "outputs": [],
   "source": [
    "np.random.seed(sum(map(ord, 'calplot')))\n",
    "\n",
    "all_days = pd.date_range('1/1/2020', '12/22/2020', freq='D')\n",
    "\n",
    "significant_events = pd.Series(np.ones_like(len(common_dates)), index=common_dates)\n",
    "calplot.calplot(significant_events, figsize=(18, 12), cmap='coolwarm_r');"
   ]
  },
  {
   "cell_type": "markdown",
   "metadata": {},
   "source": [
    "Reject the null hypothesis that daily citation revenue after 10/15/2020 is less than or equal to the average daily revenue."
   ]
  },
  {
   "cell_type": "markdown",
   "metadata": {},
   "source": [
    "## Which parts of the city were impacted the most?"
   ]
  },
  {
   "cell_type": "code",
   "execution_count": null,
   "metadata": {},
   "outputs": [],
   "source": []
  },
  {
   "cell_type": "markdown",
   "metadata": {},
   "source": [
    "# Conclusions"
   ]
  },
  {
   "cell_type": "code",
   "execution_count": null,
   "metadata": {},
   "outputs": [],
   "source": []
  },
  {
   "cell_type": "markdown",
   "metadata": {},
   "source": [
    "# Appendix"
   ]
  },
  {
   "cell_type": "markdown",
   "metadata": {},
   "source": [
    "## What time(s) are Street Sweeping citations issued?\n",
    "\n",
    "Most citations are issued during the hours of 8am, 10am, and 12pm.\n",
    "\n",
    "### Citation Times"
   ]
  },
  {
   "cell_type": "code",
   "execution_count": null,
   "metadata": {},
   "outputs": [],
   "source": [
    "# Filter street sweeping data for citations issued between\n",
    "# 8am and 2pm, 8 and 14 respectively.\n",
    "\n",
    "df_citation_times = df_citations.loc[(df_citations.issue_hour >= 8)&(df_citations.issue_hour < 14)]"
   ]
  },
  {
   "cell_type": "code",
   "execution_count": null,
   "metadata": {
    "scrolled": false
   },
   "outputs": [],
   "source": [
    "sns.set_context('talk')\n",
    "\n",
    "# Issue Hour Plot\n",
    "df_citation_times.issue_hour.value_counts().sort_index().plot.bar(figsize=(8, 6))\n",
    "\n",
    "# Axis labels\n",
    "plt.title('Most Street Sweeper Citations are Issued at 8am')\n",
    "plt.xlabel('Issue Hour (24HR)')\n",
    "plt.ylabel('# of Citations (in thousands)')\n",
    "\n",
    "# Chart Formatting\n",
    "plt.xticks(rotation=0)\n",
    "plt.yticks(range(100_000, 400_001,100_000), ['100', '200', '300', '400'])\n",
    "plt.show()"
   ]
  },
  {
   "cell_type": "code",
   "execution_count": null,
   "metadata": {},
   "outputs": [],
   "source": [
    "sns.set_context('talk')\n",
    "\n",
    "# Issue Minute Plot\n",
    "df_citation_times.issue_minute.value_counts().sort_index().plot.bar(figsize=(20, 9))\n",
    "\n",
    "# Axis labels\n",
    "plt.title('Most Street Sweeper Citations are Issued in the First 30 Minutes')\n",
    "plt.xlabel('Issue Minute')\n",
    "plt.ylabel('# of Citations (in thousands)')\n",
    "# plt.axvspan(0, 30, facecolor='grey', alpha=0.1)\n",
    "\n",
    "# Chart Formatting\n",
    "plt.xticks(rotation=0)\n",
    "plt.yticks(range(5_000, 40_001, 5_000), ['5', '10', '15', '20', '25', '30', '35', '40'])\n",
    "plt.tight_layout()\n",
    "plt.show()"
   ]
  },
  {
   "cell_type": "markdown",
   "metadata": {},
   "source": [
    "## Which state has the most Street Sweeping violators?\n",
    "### License Plate\n",
    "Over 90% of all street sweeping citations are issued to California Residents."
   ]
  },
  {
   "cell_type": "code",
   "execution_count": null,
   "metadata": {},
   "outputs": [],
   "source": [
    "sns.set_context('talk')\n",
    "\n",
    "fig = df_citations.rp_state_plate.value_counts(normalize=True).nlargest(3).plot.bar(figsize=(12, 6))\n",
    "\n",
    "# Chart labels\n",
    "plt.title('California residents receive the most street sweeping citations', fontsize=16)\n",
    "plt.xlabel('State')\n",
    "plt.ylabel('% of all Citations')\n",
    "\n",
    "# Tick Formatting\n",
    "plt.xticks(rotation=0)\n",
    "plt.yticks(np.linspace(0, 1, 11), [str(i) for i in np.arange(0, 91, 10)])\n",
    "plt.grid(axis='y', alpha=.5)\n",
    "\n",
    "plt.tight_layout();"
   ]
  },
  {
   "cell_type": "markdown",
   "metadata": {},
   "source": [
    "## Which street has the most Street Sweeping citations?\n",
    "The characteristics of the top 3 streets:\n",
    "1. Vehicles are parked bumper to bumper leaving few parking spaces available\n",
    "2. Parking spaces have a set time limit"
   ]
  },
  {
   "cell_type": "code",
   "execution_count": null,
   "metadata": {},
   "outputs": [],
   "source": [
    "df_citations['street_name'] = df_citations.location.str.replace('^[\\d+]{2,}', '').str.strip()"
   ]
  },
  {
   "cell_type": "code",
   "execution_count": null,
   "metadata": {},
   "outputs": [],
   "source": [
    "sns.set_context('talk')\n",
    "\n",
    "# Removing the street number and white space from the address\n",
    "df_citations.street_name.value_counts().nlargest(3).plot.barh(figsize=(16, 6))\n",
    "\n",
    "# Chart formatting\n",
    "plt.title('Streets with the Most Street Sweeping Citations', fontsize=24)\n",
    "plt.xlabel('# of Citations');"
   ]
  },
  {
   "cell_type": "markdown",
   "metadata": {},
   "source": [
    "### __Abbot Kinney Blvd: \"Small Boutiques, No Parking\"__\n",
    "> [Abbot Kinney Blvd on Google Maps](https://www.google.com/maps/@33.9923689,-118.4731719,3a,75y,112.99h,91.67t/data=!3m6!1e1!3m4!1sKD3cG40eGmdWxhwqLD1BvA!2e0!7i16384!8i8192)\n",
    "\n",
    "\n",
    "<img src=\"./visuals/abbot.png\" alt=\"Abbot\" style=\"width: 450px;\" align=\"left\"/>"
   ]
  },
  {
   "cell_type": "markdown",
   "metadata": {},
   "source": [
    "- Near Venice Beach\n",
    "    - Small businesses and name brand stores line both sides of the street\n",
    "    - Little to no parking in this area\n",
    "- Residential area inland\n",
    "    - Multiplex style dwellings with available parking spaces\n",
    "    - Weekly Street Sweeping on Monday from 7:30 am - 9:30 am"
   ]
  },
  {
   "cell_type": "markdown",
   "metadata": {},
   "source": [
    "### __Clinton Street: \"Packed Street\"__"
   ]
  },
  {
   "cell_type": "markdown",
   "metadata": {},
   "source": [
    "> [Clinton Street on Google Maps](https://www.google.com/maps/@34.0816611,-118.3306842,3a,75y,70.72h,57.92t/data=!3m9!1e1!3m7!1sdozFgC7Ms3EvaOF4-CeNAg!2e0!7i16384!8i8192!9m2!1b1!2i37)\n",
    "\n",
    "<img src=\"./visuals/clinton.png\" alt=\"Clinton\" style=\"width: 600px;\" align=\"Left\"/>"
   ]
  },
  {
   "cell_type": "markdown",
   "metadata": {},
   "source": [
    "- All parking spaces on the street are filled\n",
    "- Residential Area\n",
    "    -  Weekly Street Sweeping on Friday from 8:00 am - 11:00 am"
   ]
  },
  {
   "cell_type": "markdown",
   "metadata": {},
   "source": [
    "### __Kelton Ave: \"2 Hour Time Limit\"__\n",
    "> [Kelton Ave on Google Maps](https://www.google.com/maps/place/Kelton+Ave,+Los+Angeles,+CA/@34.0475262,-118.437594,3a,49.9y,183.92h,85.26t/data=!3m9!1e1!3m7!1s5VICHNYMVEk9utaV5egFYg!2e0!7i16384!8i8192!9m2!1b1!2i25!4m5!3m4!1s0x80c2bb7efb3a05eb:0xe155071f3fe49df3!8m2!3d34.0542999!4d-118.4434919)"
   ]
  },
  {
   "cell_type": "markdown",
   "metadata": {},
   "source": [
    "<img src=\"./visuals/kelton.png\" width=\"600\" height=\"600\" align=\"left\"/>"
   ]
  },
  {
   "cell_type": "markdown",
   "metadata": {},
   "source": [
    "- Most parking spaces on this street are available. This is due to the strict 2 hour time limit for parked vehicles without the proper exception permit.\n",
    "- Multiplex, Residential Area\n",
    "    - Weekly Street Sweeping on Thursday from 10:00 am - 1:00 pm\n",
    "    - Weekly Street Sweeping on Friday from 8:00 am - 10:00 am"
   ]
  },
  {
   "cell_type": "markdown",
   "metadata": {},
   "source": [
    "## Which street has the most Street Sweeping citations, given the day of the week?\n",
    "\n",
    "- __Abbot Kinney Blvd__ is the most cited street on __Monday and Tuesday__\n",
    "- __4th Street East__ is the most cited street on __Saturday and Sunday__"
   ]
  },
  {
   "cell_type": "code",
   "execution_count": null,
   "metadata": {},
   "outputs": [],
   "source": [
    "# Group by the day of the week and street name\n",
    "df_day_street = df_citations.groupby(by=['day_of_week', 'street_name'])\\\n",
    "                            .size()\\\n",
    "                            .sort_values()\\\n",
    "                            .groupby(level=0)\\\n",
    "                            .tail(1)\\\n",
    "                            .reset_index()\\\n",
    "                            .rename(columns={0:'count'})\n",
    "\n",
    "# Create a new column to sort the values by the day of the\n",
    "# week starting with Monday\n",
    "df_day_street['order'] = [5, 6, 4, 3, 0, 2, 1]\n",
    "\n",
    "# Display the street with the most street sweeping citations\n",
    "# given the day of the week.\n",
    "df_day_street.sort_values('order').set_index('order')"
   ]
  },
  {
   "cell_type": "markdown",
   "metadata": {},
   "source": [
    "## Which Agencies issue the most street sweeping citations?\n",
    "\n",
    "The Department of Transportation's __Western, Hollywood, and Valley__ subdivisions issue the most street sweeping citations."
   ]
  },
  {
   "cell_type": "code",
   "execution_count": null,
   "metadata": {},
   "outputs": [],
   "source": [
    "sns.set_context('talk')\n",
    "df_citations.agency.value_counts().nlargest(5).plot.barh(figsize=(12, 6));\n",
    "# plt.axhspan(2.5, 5, facecolor='0.5', alpha=.8)\n",
    "\n",
    "plt.title('Agencies With the Most Street Sweeper Citations')\n",
    "plt.xlabel('# of Citations (in thousands)')\n",
    "\n",
    "plt.xticks(np.arange(0, 400_001, 100_000), list(np.arange(0, 401, 100)))\n",
    "plt.yticks([0, 1, 2, 3, 4], labels=['DOT-WESTERN',\n",
    "                                    'DOT-HOLLYWOOD',\n",
    "                                    'DOT-VALLEY',\n",
    "                                    'DOT-SOUTHERN',\n",
    "                                    'DOT-CENTRAL']);"
   ]
  },
  {
   "cell_type": "markdown",
   "metadata": {},
   "source": [
    "When taking routes into consideration, __\"Western\"__ Subdivision, route 00500, has issued the most street sweeping citations.\n",
    "- Is route 00500 larger than other street sweeping routes?"
   ]
  },
  {
   "cell_type": "code",
   "execution_count": null,
   "metadata": {},
   "outputs": [],
   "source": [
    "top_3_routes = df_citations.groupby(['agency', 'route'])\\\n",
    "                           .size()\\\n",
    "                           .nlargest(3)\\\n",
    "                           .sort_index()\\\n",
    "                           .rename('num_citations')\\\n",
    "                           .reset_index()\\\n",
    "                           .sort_values(by='num_citations', ascending=False)\n",
    "\n",
    "top_3_routes.agency = [\"DOT-WESTERN\", \"DOT-SOUTHERN\", \"DOT-CENTRAL\"]"
   ]
  },
  {
   "cell_type": "code",
   "execution_count": null,
   "metadata": {},
   "outputs": [],
   "source": [
    "data = top_3_routes.set_index(['agency', 'route'])\n",
    "\n",
    "data.plot(kind='barh', stacked=True, figsize=(12, 6), legend=None)\n",
    "\n",
    "plt.title(\"Agency-Route ID's with the most Street Sweeping Citations\")\n",
    "plt.ylabel('')\n",
    "plt.xlabel('# of Citations (in thousands)')\n",
    "\n",
    "plt.xticks(np.arange(0, 70_001, 10_000), [str(i) for i in np.arange(0, 71, 10)]);"
   ]
  },
  {
   "cell_type": "code",
   "execution_count": null,
   "metadata": {},
   "outputs": [],
   "source": [
    "df_citations['issue_time_num'] = df_citations.issue_time.str.replace(\":00\", '')\n",
    "df_citations['issue_time_num'] = df_citations.issue_time_num.str.replace(':', '').astype(np.int)"
   ]
  },
  {
   "cell_type": "markdown",
   "metadata": {},
   "source": [
    "## What is the weekly distibution of citation times?"
   ]
  },
  {
   "cell_type": "code",
   "execution_count": null,
   "metadata": {},
   "outputs": [],
   "source": [
    "sns.set_context('talk')\n",
    "\n",
    "plt.figure(figsize=(13, 12))\n",
    "\n",
    "sns.boxplot(data=df_citations,\n",
    "            x=\"day_of_week\",\n",
    "            y=\"issue_time_num\",\n",
    "            order=[\"Monday\", \"Tuesday\", \"Wednesday\", \"Thursday\", \"Friday\", \"Saturday\", \"Sunday\"],\n",
    "            whis=3);\n",
    "\n",
    "plt.title(\"Distribution Citation Issue Times Throughout the Week\")\n",
    "plt.xlabel('')\n",
    "plt.ylabel('Issue Time (24HR)')\n",
    "\n",
    "plt.yticks(np.arange(0, 2401, 200), [str(i) + \":00\" for i in range(0, 25, 2)]);"
   ]
  }
 ],
 "metadata": {
  "kernelspec": {
   "display_name": "Python 3",
   "language": "python",
   "name": "python3"
  },
  "language_info": {
   "codemirror_mode": {
    "name": "ipython",
    "version": 3
   },
   "file_extension": ".py",
   "mimetype": "text/x-python",
   "name": "python",
   "nbconvert_exporter": "python",
   "pygments_lexer": "ipython3",
   "version": "3.7.6"
  }
 },
 "nbformat": 4,
 "nbformat_minor": 4
}
