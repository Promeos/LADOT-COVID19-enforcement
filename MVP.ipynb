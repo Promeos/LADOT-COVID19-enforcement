{
 "cells": [
  {
   "cell_type": "markdown",
   "metadata": {},
   "source": [
    "# Acquire\n",
    "\n",
    "Let's acquire the parking citations data from our file.\n",
    "1. Import libraries.\n",
    "1. Load the dataset.\n",
    "1. Display the shape and first/last 2 rows.\n",
    "1. Display general infomation about the dataset - w/ the # of unique values in each column.\n",
    "1. Display the number of missing values in each column.\n",
    "1. Descriptive statistics for all numeric features."
   ]
  },
  {
   "cell_type": "code",
   "execution_count": 1,
   "metadata": {},
   "outputs": [],
   "source": [
    "# Import libraries\n",
    "import numpy as np\n",
    "import pandas as pd\n",
    "import matplotlib.pyplot as plt\n",
    "import seaborn as sns\n",
    "import sys\n",
    "import time\n",
    "import folium\n",
    "\n",
    "# Insert path to the source folder.\n",
    "sys.path.insert(1, 'src/')\n",
    "import acquire\n",
    "import prepare\n",
    "\n",
    "# Filter warnings\n",
    "from warnings import filterwarnings\n",
    "filterwarnings('ignore')"
   ]
  },
  {
   "cell_type": "markdown",
   "metadata": {},
   "source": [
    "## Street Sweeper Citations\n",
    "Data: [Los Angeles Parking Citations](https://www.kaggle.com/cityofLA/los-angeles-parking-citations)<br>\n",
    "Load the dataset and filter for:\n",
    "- Citations issued from 2017-01-01 to 2020-12-22.\n",
    "- Street Sweeping violations Violation Description\""
   ]
  },
  {
   "cell_type": "code",
   "execution_count": 2,
   "metadata": {},
   "outputs": [],
   "source": [
    "df = acquire.get_sweep_data()"
   ]
  },
  {
   "cell_type": "code",
   "execution_count": 3,
   "metadata": {},
   "outputs": [],
   "source": [
    "df = prepare.prep_sweep_data(df)"
   ]
  },
  {
   "cell_type": "code",
   "execution_count": 4,
   "metadata": {},
   "outputs": [
    {
     "data": {
      "text/html": [
       "<div>\n",
       "<style scoped>\n",
       "    .dataframe tbody tr th:only-of-type {\n",
       "        vertical-align: middle;\n",
       "    }\n",
       "\n",
       "    .dataframe tbody tr th {\n",
       "        vertical-align: top;\n",
       "    }\n",
       "\n",
       "    .dataframe thead th {\n",
       "        text-align: right;\n",
       "    }\n",
       "</style>\n",
       "<table border=\"1\" class=\"dataframe\">\n",
       "  <thead>\n",
       "    <tr style=\"text-align: right;\">\n",
       "      <th></th>\n",
       "      <th>issue_date</th>\n",
       "      <th>issue_time</th>\n",
       "      <th>rp_state_plate</th>\n",
       "      <th>plate_expiry_date</th>\n",
       "      <th>make</th>\n",
       "      <th>body_style</th>\n",
       "      <th>color</th>\n",
       "      <th>location</th>\n",
       "      <th>route</th>\n",
       "      <th>agency</th>\n",
       "      <th>violation_code</th>\n",
       "      <th>violation_description</th>\n",
       "      <th>fine_amount</th>\n",
       "      <th>latitude</th>\n",
       "      <th>longitude</th>\n",
       "      <th>day_of_week</th>\n",
       "      <th>issue_year</th>\n",
       "      <th>issue_hour</th>\n",
       "      <th>issue_minute</th>\n",
       "    </tr>\n",
       "  </thead>\n",
       "  <tbody>\n",
       "    <tr>\n",
       "      <th>0</th>\n",
       "      <td>2017-01-03</td>\n",
       "      <td>10:53:00</td>\n",
       "      <td>CA</td>\n",
       "      <td>2017-07-01</td>\n",
       "      <td>VOLK</td>\n",
       "      <td>PA</td>\n",
       "      <td>MR</td>\n",
       "      <td>2400 PATRICIA AVENUE</td>\n",
       "      <td>00108</td>\n",
       "      <td>51</td>\n",
       "      <td>80.69BS</td>\n",
       "      <td>NO PARK/STREET CLEAN</td>\n",
       "      <td>73.0</td>\n",
       "      <td>34.0452</td>\n",
       "      <td>-118.4190</td>\n",
       "      <td>Tuesday</td>\n",
       "      <td>2017</td>\n",
       "      <td>10</td>\n",
       "      <td>53</td>\n",
       "    </tr>\n",
       "    <tr>\n",
       "      <th>1</th>\n",
       "      <td>2017-01-03</td>\n",
       "      <td>11:03:00</td>\n",
       "      <td>CA</td>\n",
       "      <td>2016-07-01</td>\n",
       "      <td>TOYT</td>\n",
       "      <td>PA</td>\n",
       "      <td>BK</td>\n",
       "      <td>121 76TH PL E</td>\n",
       "      <td>00553</td>\n",
       "      <td>55</td>\n",
       "      <td>80.69BS</td>\n",
       "      <td>NO PARK/STREET CLEAN</td>\n",
       "      <td>73.0</td>\n",
       "      <td>33.9705</td>\n",
       "      <td>-118.2735</td>\n",
       "      <td>Tuesday</td>\n",
       "      <td>2017</td>\n",
       "      <td>11</td>\n",
       "      <td>3</td>\n",
       "    </tr>\n",
       "  </tbody>\n",
       "</table>\n",
       "</div>"
      ],
      "text/plain": [
       "  issue_date issue_time rp_state_plate plate_expiry_date  make body_style  \\\n",
       "0 2017-01-03   10:53:00             CA        2017-07-01  VOLK         PA   \n",
       "1 2017-01-03   11:03:00             CA        2016-07-01  TOYT         PA   \n",
       "\n",
       "  color              location  route  agency violation_code  \\\n",
       "0    MR  2400 PATRICIA AVENUE  00108      51        80.69BS   \n",
       "1    BK         121 76TH PL E  00553      55        80.69BS   \n",
       "\n",
       "  violation_description  fine_amount  latitude  longitude day_of_week  \\\n",
       "0  NO PARK/STREET CLEAN         73.0   34.0452  -118.4190     Tuesday   \n",
       "1  NO PARK/STREET CLEAN         73.0   33.9705  -118.2735     Tuesday   \n",
       "\n",
       "   issue_year  issue_hour  issue_minute  \n",
       "0        2017          10            53  \n",
       "1        2017          11             3  "
      ]
     },
     "execution_count": 4,
     "metadata": {},
     "output_type": "execute_result"
    }
   ],
   "source": [
    "df.head(2)"
   ]
  },
  {
   "cell_type": "code",
   "execution_count": 5,
   "metadata": {},
   "outputs": [
    {
     "data": {
      "text/html": [
       "<div>\n",
       "<style scoped>\n",
       "    .dataframe tbody tr th:only-of-type {\n",
       "        vertical-align: middle;\n",
       "    }\n",
       "\n",
       "    .dataframe tbody tr th {\n",
       "        vertical-align: top;\n",
       "    }\n",
       "\n",
       "    .dataframe thead th {\n",
       "        text-align: right;\n",
       "    }\n",
       "</style>\n",
       "<table border=\"1\" class=\"dataframe\">\n",
       "  <thead>\n",
       "    <tr style=\"text-align: right;\">\n",
       "      <th></th>\n",
       "      <th>issue_date</th>\n",
       "      <th>issue_time</th>\n",
       "      <th>rp_state_plate</th>\n",
       "      <th>plate_expiry_date</th>\n",
       "      <th>make</th>\n",
       "      <th>body_style</th>\n",
       "      <th>color</th>\n",
       "      <th>location</th>\n",
       "      <th>route</th>\n",
       "      <th>agency</th>\n",
       "      <th>violation_code</th>\n",
       "      <th>violation_description</th>\n",
       "      <th>fine_amount</th>\n",
       "      <th>latitude</th>\n",
       "      <th>longitude</th>\n",
       "      <th>day_of_week</th>\n",
       "      <th>issue_year</th>\n",
       "      <th>issue_hour</th>\n",
       "      <th>issue_minute</th>\n",
       "    </tr>\n",
       "  </thead>\n",
       "  <tbody>\n",
       "    <tr>\n",
       "      <th>1634567</th>\n",
       "      <td>2020-12-22</td>\n",
       "      <td>12:38:00</td>\n",
       "      <td>CA</td>\n",
       "      <td>2022-01-01</td>\n",
       "      <td>CHEV</td>\n",
       "      <td>PA</td>\n",
       "      <td>GY</td>\n",
       "      <td>6211 EILEEN AVE</td>\n",
       "      <td>00500</td>\n",
       "      <td>55</td>\n",
       "      <td>80.69BS</td>\n",
       "      <td>NO PARK/STREET CLEAN</td>\n",
       "      <td>73.0</td>\n",
       "      <td>33.9834</td>\n",
       "      <td>-118.3428</td>\n",
       "      <td>Tuesday</td>\n",
       "      <td>2020</td>\n",
       "      <td>12</td>\n",
       "      <td>38</td>\n",
       "    </tr>\n",
       "    <tr>\n",
       "      <th>1634568</th>\n",
       "      <td>2020-12-22</td>\n",
       "      <td>10:46:00</td>\n",
       "      <td>CA</td>\n",
       "      <td>2020-10-01</td>\n",
       "      <td>SUBA</td>\n",
       "      <td>PA</td>\n",
       "      <td>GY</td>\n",
       "      <td>21515 GAULT ST</td>\n",
       "      <td>00300</td>\n",
       "      <td>53</td>\n",
       "      <td>80.69BS</td>\n",
       "      <td>NO PARK/STREET CLEAN</td>\n",
       "      <td>73.0</td>\n",
       "      <td>34.1992</td>\n",
       "      <td>-118.5992</td>\n",
       "      <td>Tuesday</td>\n",
       "      <td>2020</td>\n",
       "      <td>10</td>\n",
       "      <td>46</td>\n",
       "    </tr>\n",
       "  </tbody>\n",
       "</table>\n",
       "</div>"
      ],
      "text/plain": [
       "        issue_date issue_time rp_state_plate plate_expiry_date  make  \\\n",
       "1634567 2020-12-22   12:38:00             CA        2022-01-01  CHEV   \n",
       "1634568 2020-12-22   10:46:00             CA        2020-10-01  SUBA   \n",
       "\n",
       "        body_style color         location  route  agency violation_code  \\\n",
       "1634567         PA    GY  6211 EILEEN AVE  00500      55        80.69BS   \n",
       "1634568         PA    GY   21515 GAULT ST  00300      53        80.69BS   \n",
       "\n",
       "        violation_description  fine_amount  latitude  longitude day_of_week  \\\n",
       "1634567  NO PARK/STREET CLEAN         73.0   33.9834  -118.3428     Tuesday   \n",
       "1634568  NO PARK/STREET CLEAN         73.0   34.1992  -118.5992     Tuesday   \n",
       "\n",
       "         issue_year  issue_hour  issue_minute  \n",
       "1634567        2020          12            38  \n",
       "1634568        2020          10            46  "
      ]
     },
     "execution_count": 5,
     "metadata": {},
     "output_type": "execute_result"
    }
   ],
   "source": [
    "df.tail(2)"
   ]
  },
  {
   "cell_type": "code",
   "execution_count": 6,
   "metadata": {},
   "outputs": [
    {
     "data": {
      "text/html": [
       "<div>\n",
       "<style scoped>\n",
       "    .dataframe tbody tr th:only-of-type {\n",
       "        vertical-align: middle;\n",
       "    }\n",
       "\n",
       "    .dataframe tbody tr th {\n",
       "        vertical-align: top;\n",
       "    }\n",
       "\n",
       "    .dataframe thead th {\n",
       "        text-align: right;\n",
       "    }\n",
       "</style>\n",
       "<table border=\"1\" class=\"dataframe\">\n",
       "  <thead>\n",
       "    <tr style=\"text-align: right;\">\n",
       "      <th></th>\n",
       "      <th>agency</th>\n",
       "      <th>fine_amount</th>\n",
       "      <th>latitude</th>\n",
       "      <th>longitude</th>\n",
       "      <th>issue_year</th>\n",
       "      <th>issue_hour</th>\n",
       "      <th>issue_minute</th>\n",
       "    </tr>\n",
       "  </thead>\n",
       "  <tbody>\n",
       "    <tr>\n",
       "      <th>count</th>\n",
       "      <td>1.634569e+06</td>\n",
       "      <td>1.634569e+06</td>\n",
       "      <td>1.634569e+06</td>\n",
       "      <td>1.634569e+06</td>\n",
       "      <td>1.634569e+06</td>\n",
       "      <td>1.634569e+06</td>\n",
       "      <td>1.634569e+06</td>\n",
       "    </tr>\n",
       "    <tr>\n",
       "      <th>mean</th>\n",
       "      <td>5.338259e+01</td>\n",
       "      <td>7.299998e+01</td>\n",
       "      <td>3.351670e+01</td>\n",
       "      <td>-1.200096e+02</td>\n",
       "      <td>2.018170e+03</td>\n",
       "      <td>9.888676e+00</td>\n",
       "      <td>2.591586e+01</td>\n",
       "    </tr>\n",
       "    <tr>\n",
       "      <th>std</th>\n",
       "      <td>1.978003e+00</td>\n",
       "      <td>1.659222e-02</td>\n",
       "      <td>1.823776e+00</td>\n",
       "      <td>5.437628e+00</td>\n",
       "      <td>1.047889e+00</td>\n",
       "      <td>1.849224e+00</td>\n",
       "      <td>1.503395e+01</td>\n",
       "    </tr>\n",
       "    <tr>\n",
       "      <th>min</th>\n",
       "      <td>1.000000e+00</td>\n",
       "      <td>5.300000e+01</td>\n",
       "      <td>2.751750e+01</td>\n",
       "      <td>-1.379131e+02</td>\n",
       "      <td>2.017000e+03</td>\n",
       "      <td>1.000000e+00</td>\n",
       "      <td>0.000000e+00</td>\n",
       "    </tr>\n",
       "    <tr>\n",
       "      <th>25%</th>\n",
       "      <td>5.100000e+01</td>\n",
       "      <td>7.300000e+01</td>\n",
       "      <td>3.400550e+01</td>\n",
       "      <td>-1.184517e+02</td>\n",
       "      <td>2.017000e+03</td>\n",
       "      <td>8.000000e+00</td>\n",
       "      <td>1.300000e+01</td>\n",
       "    </tr>\n",
       "    <tr>\n",
       "      <th>50%</th>\n",
       "      <td>5.400000e+01</td>\n",
       "      <td>7.300000e+01</td>\n",
       "      <td>3.405700e+01</td>\n",
       "      <td>-1.183591e+02</td>\n",
       "      <td>2.018000e+03</td>\n",
       "      <td>1.000000e+01</td>\n",
       "      <td>2.400000e+01</td>\n",
       "    </tr>\n",
       "    <tr>\n",
       "      <th>75%</th>\n",
       "      <td>5.500000e+01</td>\n",
       "      <td>7.300000e+01</td>\n",
       "      <td>3.410030e+01</td>\n",
       "      <td>-1.182929e+02</td>\n",
       "      <td>2.019000e+03</td>\n",
       "      <td>1.200000e+01</td>\n",
       "      <td>3.700000e+01</td>\n",
       "    </tr>\n",
       "    <tr>\n",
       "      <th>max</th>\n",
       "      <td>5.800000e+01</td>\n",
       "      <td>7.300000e+01</td>\n",
       "      <td>3.432320e+01</td>\n",
       "      <td>-1.181606e+02</td>\n",
       "      <td>2.020000e+03</td>\n",
       "      <td>2.300000e+01</td>\n",
       "      <td>5.900000e+01</td>\n",
       "    </tr>\n",
       "  </tbody>\n",
       "</table>\n",
       "</div>"
      ],
      "text/plain": [
       "             agency   fine_amount      latitude     longitude    issue_year  \\\n",
       "count  1.634569e+06  1.634569e+06  1.634569e+06  1.634569e+06  1.634569e+06   \n",
       "mean   5.338259e+01  7.299998e+01  3.351670e+01 -1.200096e+02  2.018170e+03   \n",
       "std    1.978003e+00  1.659222e-02  1.823776e+00  5.437628e+00  1.047889e+00   \n",
       "min    1.000000e+00  5.300000e+01  2.751750e+01 -1.379131e+02  2.017000e+03   \n",
       "25%    5.100000e+01  7.300000e+01  3.400550e+01 -1.184517e+02  2.017000e+03   \n",
       "50%    5.400000e+01  7.300000e+01  3.405700e+01 -1.183591e+02  2.018000e+03   \n",
       "75%    5.500000e+01  7.300000e+01  3.410030e+01 -1.182929e+02  2.019000e+03   \n",
       "max    5.800000e+01  7.300000e+01  3.432320e+01 -1.181606e+02  2.020000e+03   \n",
       "\n",
       "         issue_hour  issue_minute  \n",
       "count  1.634569e+06  1.634569e+06  \n",
       "mean   9.888676e+00  2.591586e+01  \n",
       "std    1.849224e+00  1.503395e+01  \n",
       "min    1.000000e+00  0.000000e+00  \n",
       "25%    8.000000e+00  1.300000e+01  \n",
       "50%    1.000000e+01  2.400000e+01  \n",
       "75%    1.200000e+01  3.700000e+01  \n",
       "max    2.300000e+01  5.900000e+01  "
      ]
     },
     "execution_count": 6,
     "metadata": {},
     "output_type": "execute_result"
    }
   ],
   "source": [
    "df.describe()"
   ]
  },
  {
   "cell_type": "code",
   "execution_count": 7,
   "metadata": {},
   "outputs": [
    {
     "data": {
      "image/png": "[encoded data removed]",
      "text/plain": [
       "<Figure size 1152x576 with 9 Axes>"
      ]
     },
     "metadata": {
      "needs_background": "light"
     },
     "output_type": "display_data"
    }
   ],
   "source": [
    "df.hist(figsize=(16, 8))\n",
    "plt.tight_layout();"
   ]
  },
  {
   "cell_type": "markdown",
   "metadata": {},
   "source": [
    "__Initial findings__\n",
    "- `Issue time` and `Marked Time` are quasi-normally distributed. Note: Poisson Distribution\n",
    "- It's interesting to see the distribution of our activity on earth follows a normal distribution.\n",
    "- Agencies 50+ write the most parking citations.\n",
    "- Most fine amounts are less than $100.00\n",
    "- There are a few license plates that are null or invalid entrys."
   ]
  },
  {
   "cell_type": "markdown",
   "metadata": {},
   "source": [
    "## News Articles, Social Media, and Youtube"
   ]
  },
  {
   "cell_type": "markdown",
   "metadata": {},
   "source": [
    "### News Articles\n",
    "- https://www.latimes.com/california/story/2020-03-16/los-angeles-parking-ticket-street-sweeping-coronavirus-covid19\n",
    "- https://www.latimes.com/california/story/2020-10-15/street-sweeping-parking-enforcement-resumes-today\n",
    "- https://abc7.com/society/las-resumed-parking-enforcement-prompts-outcry/7079278/\n",
    "- https://labss.maps.arcgis.com/apps/webappviewer/index.html?id=51d5f486a30a4c9f9397f31cdaa3ae17\n",
    "- https://streetsla.lacity.org/"
   ]
  },
  {
   "cell_type": "markdown",
   "metadata": {},
   "source": [
    "### Social Media"
   ]
  },
  {
   "cell_type": "code",
   "execution_count": null,
   "metadata": {},
   "outputs": [],
   "source": []
  },
  {
   "cell_type": "markdown",
   "metadata": {},
   "source": [
    "### Youtube"
   ]
  },
  {
   "cell_type": "code",
   "execution_count": 8,
   "metadata": {},
   "outputs": [],
   "source": [
    "df_yt = acquire.get_yt_data()"
   ]
  },
  {
   "cell_type": "code",
   "execution_count": 9,
   "metadata": {},
   "outputs": [
    {
     "data": {
      "text/plain": [
       "0    is covid over so why in the world would they d...\n",
       "1                        easy to pick on little people\n",
       "2    cool maybe now they can cite my neighbor who h...\n",
       "3    thats how the county gets ya money professiona...\n",
       "4    they was still giving tickets during cv im wat...\n",
       "Name: comments, dtype: object"
      ]
     },
     "execution_count": 9,
     "metadata": {},
     "output_type": "execute_result"
    }
   ],
   "source": [
    "df_yt.head()"
   ]
  },
  {
   "cell_type": "markdown",
   "metadata": {},
   "source": [
    "# Prepare"
   ]
  },
  {
   "cell_type": "markdown",
   "metadata": {},
   "source": [
    "- Remove spaces + capitalization in each column name\n",
    "- Cast `Plate Expiry Date` to datetime data type.\n",
    "- Cast `Issue Date` and `Issue Time` to datetime data types.\n",
    "- Drop columns missing >=74.42\\% of their values. \n",
    "- Drop missing values."
   ]
  },
  {
   "cell_type": "code",
   "execution_count": null,
   "metadata": {},
   "outputs": [],
   "source": []
  },
  {
   "cell_type": "markdown",
   "metadata": {},
   "source": [
    "# Exploratory Data Analysis"
   ]
  },
  {
   "cell_type": "markdown",
   "metadata": {},
   "source": [
    "```python\n",
    "m = folium.Map(location=[34.0522, -118.2437],\n",
    "               min_zoom=8,\n",
    "               max_bounds=True)\n",
    "\n",
    "mc = plugins.MarkerCluster()\n",
    "\n",
    "for index, row in df.iterrows():\n",
    "    mc.add_child(\n",
    "        \n",
    "        folium.Marker(location=[str(row['latitude']), str(row['longitude'])],\n",
    "                      popup='Cited {} {} at {}'.format(row['day_of_week'],\n",
    "                                                       row['issue_date'].strftime('%Y-%m-%d'),\n",
    "                                                       row['issue_time'][:-3]),\n",
    "                      control_scale=True,\n",
    "                      clustered_marker=True\n",
    "                     )\n",
    "    )\n",
    "    \n",
    "\n",
    "m.add_child(mc)\n",
    "\n",
    "m.save('citations_2020.html')\n",
    "```"
   ]
  },
  {
   "cell_type": "code",
   "execution_count": null,
   "metadata": {},
   "outputs": [],
   "source": []
  },
  {
   "cell_type": "markdown",
   "metadata": {},
   "source": [
    "### Sentiment Analysis\n",
    "- Youtube\n",
    "- Twitter"
   ]
  },
  {
   "cell_type": "code",
   "execution_count": null,
   "metadata": {},
   "outputs": [],
   "source": []
  },
  {
   "cell_type": "markdown",
   "metadata": {},
   "source": [
    "### Hypothesis Test 1\n",
    "\n",
    "**Initial Query**\n",
    "Was the amount of citations issued in October 2020 significantly greater than previous Octobers?\n",
    "\n",
    "**Statistical Test**\n",
    "\n",
    "$H_0$: There is no significant difference...\n",
    "\n",
    "$H_a$: There is a significant difference..."
   ]
  },
  {
   "cell_type": "code",
   "execution_count": null,
   "metadata": {},
   "outputs": [],
   "source": []
  },
  {
   "cell_type": "markdown",
   "metadata": {},
   "source": [
    "### Hypothesis Test 2\n",
    "\n",
    "**Initial Query**\n",
    "Question\n",
    "\n",
    "**Statistical Test**\n",
    "\n",
    "$H_0$:\n",
    "\n",
    "$H_a$:"
   ]
  },
  {
   "cell_type": "code",
   "execution_count": null,
   "metadata": {},
   "outputs": [],
   "source": []
  },
  {
   "cell_type": "markdown",
   "metadata": {},
   "source": [
    "### Hypothesis Test 3\n",
    "\n",
    "**Initial Query**\n",
    "Question\n",
    "\n",
    "**Statistical Test**\n",
    "\n",
    "$H_0$:\n",
    "\n",
    "$H_a$:"
   ]
  },
  {
   "cell_type": "code",
   "execution_count": null,
   "metadata": {},
   "outputs": [],
   "source": []
  },
  {
   "cell_type": "markdown",
   "metadata": {},
   "source": [
    "# Conclusions"
   ]
  },
  {
   "cell_type": "code",
   "execution_count": null,
   "metadata": {},
   "outputs": [],
   "source": []
  }
 ],
 "metadata": {
  "kernelspec": {
   "display_name": "Python 3",
   "language": "python",
   "name": "python3"
  },
  "language_info": {
   "codemirror_mode": {
    "name": "ipython",
    "version": 3
   },
   "file_extension": ".py",
   "mimetype": "text/x-python",
   "name": "python",
   "nbconvert_exporter": "python",
   "pygments_lexer": "ipython3",
   "version": "3.7.6"
  }
 },
 "nbformat": 4,
 "nbformat_minor": 4
}
