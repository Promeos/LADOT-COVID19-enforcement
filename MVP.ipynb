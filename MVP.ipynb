{
 "cells": [
  {
   "cell_type": "markdown",
   "metadata": {},
   "source": [
    "# Acquire\n",
    "\n",
    "Let's acquire the parking citations data from our file.\n",
    "1. Import libraries.\n",
    "1. Load the dataset.\n",
    "1. Display the shape and first/last 2 rows.\n",
    "1. Display general infomation about the dataset - w/ the # of unique values in each column.\n",
    "1. Display the number of missing values in each column.\n",
    "1. Descriptive statistics for all numeric features."
   ]
  },
  {
   "cell_type": "code",
   "execution_count": null,
   "metadata": {},
   "outputs": [],
   "source": [
    "# Import libraries\n",
    "import numpy as np\n",
    "import pandas as pd\n",
    "import matplotlib.pyplot as plt\n",
    "import seaborn as sns\n",
    "import sys\n",
    "import time\n",
    "import folium\n",
    "\n",
    "# Functions to scrape youtube comments.\n",
    "from selenium.webdriver import Chrome\n",
    "from selenium.webdriver.common.by import By\n",
    "from selenium.webdriver.common.keys import Keys\n",
    "from selenium.webdriver.support.ui import WebDriverWait\n",
    "from selenium.webdriver.support import expected_conditions as EC\n",
    "\n",
    "# Insert path to the source folder.\n",
    "sys.path.insert(1, 'src/')\n",
    "import acquire\n",
    "import prepare\n",
    "\n",
    "# Filter warnings\n",
    "from warnings import filterwarnings\n",
    "filterwarnings('ignore')"
   ]
  },
  {
   "cell_type": "markdown",
   "metadata": {},
   "source": [
    "## Street Sweeper Citations\n",
    "Data: [Los Angeles Parking Citations](https://www.kaggle.com/cityofLA/los-angeles-parking-citations)<br>\n",
    "Load the dataset and filter for:\n",
    "- Citations issued from 2017-01-01 to 2020-12-22.\n",
    "- Street Sweeping violations Violation Description\""
   ]
  },
  {
   "cell_type": "code",
   "execution_count": null,
   "metadata": {},
   "outputs": [],
   "source": [
    "df = acquire.get_sweep_data()"
   ]
  },
  {
   "cell_type": "code",
   "execution_count": null,
   "metadata": {},
   "outputs": [],
   "source": [
    "df = prepare.prep_sweep_data(df)"
   ]
  },
  {
   "cell_type": "code",
   "execution_count": null,
   "metadata": {},
   "outputs": [],
   "source": [
    "df.head(2)"
   ]
  },
  {
   "cell_type": "code",
   "execution_count": null,
   "metadata": {},
   "outputs": [],
   "source": [
    "df.tail(2)"
   ]
  },
  {
   "cell_type": "code",
   "execution_count": null,
   "metadata": {},
   "outputs": [],
   "source": [
    "df.describe()"
   ]
  },
  {
   "cell_type": "code",
   "execution_count": null,
   "metadata": {},
   "outputs": [],
   "source": [
    "df.hist(figsize=(16, 8))\n",
    "plt.tight_layout();"
   ]
  },
  {
   "cell_type": "markdown",
   "metadata": {},
   "source": [
    "__Initial findings__\n",
    "- `Issue time` and `Marked Time` are quasi-normally distributed. Note: Poisson Distribution\n",
    "- It's interesting to see the distribution of our activity on earth follows a normal distribution.\n",
    "- Agencies 50+ write the most parking citations.\n",
    "- Most fine amounts are less than $100.00\n",
    "- There are a few license plates that are null or invalid entrys."
   ]
  },
  {
   "cell_type": "markdown",
   "metadata": {},
   "source": [
    "## Social Media, Youtube, and News Articles"
   ]
  },
  {
   "cell_type": "markdown",
   "metadata": {},
   "source": [
    "- https://www.latimes.com/california/story/2020-03-16/los-angeles-parking-ticket-street-sweeping-coronavirus-covid19\n",
    "- https://www.latimes.com/california/story/2020-10-15/street-sweeping-parking-enforcement-resumes-today\n",
    "- https://abc7.com/society/las-resumed-parking-enforcement-prompts-outcry/7079278/\n",
    "- https://labss.maps.arcgis.com/apps/webappviewer/index.html?id=51d5f486a30a4c9f9397f31cdaa3ae17\n",
    "- https://www.youtube.com/watch?v=UcVexGcW27k\n",
    "- https://www.youtube.com/watch?v=arNAJ4DgGMk\n",
    "- https://streetsla.lacity.org/"
   ]
  },
  {
   "cell_type": "code",
   "execution_count": null,
   "metadata": {},
   "outputs": [],
   "source": [
    "data=[]\n",
    "\n",
    "with Chrome() as driver:\n",
    "    wait = WebDriverWait(driver,15)\n",
    "    driver.get(\"https://www.youtube.com/watch?v=kuhhT_cBtFU&t=2s\")\n",
    "\n",
    "    for item in range(200): \n",
    "        wait.until(EC.visibility_of_element_located((By.TAG_NAME, \"body\"))).send_keys(Keys.END)\n",
    "        time.sleep(15)\n",
    "\n",
    "    for comment in wait.until(EC.presence_of_all_elements_located((By.CSS_SELECTOR, \"#content\"))):\n",
    "        data.append(comment.text)"
   ]
  },
  {
   "cell_type": "code",
   "execution_count": null,
   "metadata": {},
   "outputs": [],
   "source": [
    "data[0]"
   ]
  },
  {
   "cell_type": "markdown",
   "metadata": {},
   "source": [
    "# Prepare"
   ]
  },
  {
   "cell_type": "markdown",
   "metadata": {},
   "source": [
    "- Remove spaces + capitalization in each column name\n",
    "- Cast `Plate Expiry Date` to datetime data type.\n",
    "- Cast `Issue Date` and `Issue Time` to datetime data types.\n",
    "- Drop columns missing >=74.42\\% of their values. \n",
    "- Drop missing values."
   ]
  },
  {
   "cell_type": "code",
   "execution_count": null,
   "metadata": {},
   "outputs": [],
   "source": []
  },
  {
   "cell_type": "markdown",
   "metadata": {},
   "source": [
    "# Exploratory Data Analysis"
   ]
  },
  {
   "cell_type": "markdown",
   "metadata": {},
   "source": [
    "```python\n",
    "m = folium.Map(location=[34.0522, -118.2437],\n",
    "               min_zoom=8,\n",
    "               max_bounds=True)\n",
    "\n",
    "mc = plugins.MarkerCluster()\n",
    "\n",
    "for index, row in df.iterrows():\n",
    "    mc.add_child(\n",
    "        \n",
    "        folium.Marker(location=[str(row['latitude']), str(row['longitude'])],\n",
    "                      popup='Cited {} {} at {}'.format(row['day_of_week'],\n",
    "                                                       row['issue_date'].strftime('%Y-%m-%d'),\n",
    "                                                       row['issue_time'][:-3]),\n",
    "                      control_scale=True,\n",
    "                      clustered_marker=True\n",
    "                     )\n",
    "    )\n",
    "    \n",
    "\n",
    "m.add_child(mc)\n",
    "\n",
    "m.save('citations_2020.html')\n",
    "```"
   ]
  },
  {
   "cell_type": "code",
   "execution_count": null,
   "metadata": {},
   "outputs": [],
   "source": []
  },
  {
   "cell_type": "markdown",
   "metadata": {},
   "source": [
    "## Social Media\n",
    "- Youtube\n",
    "- Twitter"
   ]
  },
  {
   "cell_type": "code",
   "execution_count": null,
   "metadata": {},
   "outputs": [],
   "source": []
  },
  {
   "cell_type": "markdown",
   "metadata": {},
   "source": [
    "### Hypothesis Test 1\n",
    "\n",
    "**Initial Query**\n",
    "Was the amount of citations issued in October 2020 significantly greater than previous Octobers?\n",
    "\n",
    "**Statistical Test**\n",
    "\n",
    "$H_0$: There is no significant difference...\n",
    "\n",
    "$H_a$: There is a significant difference..."
   ]
  },
  {
   "cell_type": "code",
   "execution_count": null,
   "metadata": {},
   "outputs": [],
   "source": []
  },
  {
   "cell_type": "markdown",
   "metadata": {},
   "source": [
    "### Hypothesis Test 2\n",
    "\n",
    "**Initial Query**\n",
    "Question\n",
    "\n",
    "**Statistical Test**\n",
    "\n",
    "$H_0$:\n",
    "\n",
    "$H_a$:"
   ]
  },
  {
   "cell_type": "code",
   "execution_count": null,
   "metadata": {},
   "outputs": [],
   "source": []
  },
  {
   "cell_type": "markdown",
   "metadata": {},
   "source": [
    "### Hypothesis Test 3\n",
    "\n",
    "**Initial Query**\n",
    "Question\n",
    "\n",
    "**Statistical Test**\n",
    "\n",
    "$H_0$:\n",
    "\n",
    "$H_a$:"
   ]
  },
  {
   "cell_type": "markdown",
   "metadata": {},
   "source": [
    "# Conclusions"
   ]
  },
  {
   "cell_type": "code",
   "execution_count": null,
   "metadata": {},
   "outputs": [],
   "source": []
  }
 ],
 "metadata": {
  "kernelspec": {
   "display_name": "Python 3",
   "language": "python",
   "name": "python3"
  },
  "language_info": {
   "codemirror_mode": {
    "name": "ipython",
    "version": 3
   },
   "file_extension": ".py",
   "mimetype": "text/x-python",
   "name": "python",
   "nbconvert_exporter": "python",
   "pygments_lexer": "ipython3",
   "version": "3.7.6"
  }
 },
 "nbformat": 4,
 "nbformat_minor": 4
}
