{
 "cells": [
  {
   "cell_type": "markdown",
   "metadata": {},
   "source": [
    "# Acquire\n",
    "\n",
    "Let's acquire the parking citations data from our file.\n",
    "1. Import libraries.\n",
    "1. Load the dataset.\n",
    "1. Display the shape and first/last 2 rows.\n",
    "1. Display general infomation about the dataset - w/ the # of unique values in each column.\n",
    "1. Display the number of missing values in each column.\n",
    "1. Descriptive statistics for all numeric features.\n",
    "\n",
    "[Los Angeles Parking Citations](https://www.kaggle.com/cityofLA/los-angeles-parking-citations)"
   ]
  },
  {
   "cell_type": "code",
   "execution_count": 1,
   "metadata": {},
   "outputs": [],
   "source": [
    "# Import libraries\n",
    "import numpy as np\n",
    "import pandas as pd\n",
    "import matplotlib.pyplot as plt\n",
    "import seaborn as sns\n",
    "import sys\n",
    "\n",
    "# Insert path to the source folder.\n",
    "sys.path.insert(1, 'src/')\n",
    "import acquire\n",
    "import prepare\n",
    "\n",
    "# Filter warnings\n",
    "from warnings import filterwarnings\n",
    "filterwarnings('ignore')"
   ]
  },
  {
   "cell_type": "markdown",
   "metadata": {},
   "source": [
    "Load the dataset\n",
    "- Filtered dataset of street sweeping citations from 2017-01-01 to 2020-12-20."
   ]
  },
  {
   "cell_type": "code",
   "execution_count": 2,
   "metadata": {},
   "outputs": [],
   "source": [
    "df = acquire.get_sweep_data()"
   ]
  },
  {
   "cell_type": "code",
   "execution_count": 3,
   "metadata": {},
   "outputs": [
    {
     "data": {
      "text/plain": [
       "(1882464, 22)"
      ]
     },
     "execution_count": 3,
     "metadata": {},
     "output_type": "execute_result"
    }
   ],
   "source": [
    "df.shape"
   ]
  },
  {
   "cell_type": "code",
   "execution_count": 4,
   "metadata": {},
   "outputs": [
    {
     "data": {
      "text/html": [
       "<div>\n",
       "<style scoped>\n",
       "    .dataframe tbody tr th:only-of-type {\n",
       "        vertical-align: middle;\n",
       "    }\n",
       "\n",
       "    .dataframe tbody tr th {\n",
       "        vertical-align: top;\n",
       "    }\n",
       "\n",
       "    .dataframe thead th {\n",
       "        text-align: right;\n",
       "    }\n",
       "</style>\n",
       "<table border=\"1\" class=\"dataframe\">\n",
       "  <thead>\n",
       "    <tr style=\"text-align: right;\">\n",
       "      <th></th>\n",
       "      <th>Ticket number</th>\n",
       "      <th>Issue Date</th>\n",
       "      <th>Issue time</th>\n",
       "      <th>Meter Id</th>\n",
       "      <th>Marked Time</th>\n",
       "      <th>RP State Plate</th>\n",
       "      <th>Plate Expiry Date</th>\n",
       "      <th>VIN</th>\n",
       "      <th>Make</th>\n",
       "      <th>Body Style</th>\n",
       "      <th>...</th>\n",
       "      <th>Route</th>\n",
       "      <th>Agency</th>\n",
       "      <th>Violation code</th>\n",
       "      <th>Violation Description</th>\n",
       "      <th>Fine amount</th>\n",
       "      <th>Latitude</th>\n",
       "      <th>Longitude</th>\n",
       "      <th>Agency Description</th>\n",
       "      <th>Color Description</th>\n",
       "      <th>Body Style Description</th>\n",
       "    </tr>\n",
       "  </thead>\n",
       "  <tbody>\n",
       "    <tr>\n",
       "      <th>3710355</th>\n",
       "      <td>4343388033</td>\n",
       "      <td>2018-10-25T00:00:00.000</td>\n",
       "      <td>1204.0</td>\n",
       "      <td>NaN</td>\n",
       "      <td>NaN</td>\n",
       "      <td>CA</td>\n",
       "      <td>201802.0</td>\n",
       "      <td>NaN</td>\n",
       "      <td>MNNI</td>\n",
       "      <td>PA</td>\n",
       "      <td>...</td>\n",
       "      <td>00472</td>\n",
       "      <td>54.0</td>\n",
       "      <td>80.69BS</td>\n",
       "      <td>NO PARK/STREET CLEAN</td>\n",
       "      <td>73.0</td>\n",
       "      <td>6.477238e+06</td>\n",
       "      <td>1.854036e+06</td>\n",
       "      <td>NaN</td>\n",
       "      <td>NaN</td>\n",
       "      <td>NaN</td>\n",
       "    </tr>\n",
       "    <tr>\n",
       "      <th>3710357</th>\n",
       "      <td>4343388055</td>\n",
       "      <td>2018-10-25T00:00:00.000</td>\n",
       "      <td>1211.0</td>\n",
       "      <td>NaN</td>\n",
       "      <td>NaN</td>\n",
       "      <td>CA</td>\n",
       "      <td>201902.0</td>\n",
       "      <td>NaN</td>\n",
       "      <td>TOYT</td>\n",
       "      <td>PA</td>\n",
       "      <td>...</td>\n",
       "      <td>00472</td>\n",
       "      <td>54.0</td>\n",
       "      <td>80.69BS</td>\n",
       "      <td>NO PARK/STREET CLEAN</td>\n",
       "      <td>73.0</td>\n",
       "      <td>6.477999e+06</td>\n",
       "      <td>1.851994e+06</td>\n",
       "      <td>NaN</td>\n",
       "      <td>NaN</td>\n",
       "      <td>NaN</td>\n",
       "    </tr>\n",
       "  </tbody>\n",
       "</table>\n",
       "<p>2 rows × 22 columns</p>\n",
       "</div>"
      ],
      "text/plain": [
       "        Ticket number               Issue Date  Issue time Meter Id  \\\n",
       "3710355    4343388033  2018-10-25T00:00:00.000      1204.0      NaN   \n",
       "3710357    4343388055  2018-10-25T00:00:00.000      1211.0      NaN   \n",
       "\n",
       "         Marked Time RP State Plate  Plate Expiry Date  VIN  Make Body Style  \\\n",
       "3710355          NaN             CA           201802.0  NaN  MNNI         PA   \n",
       "3710357          NaN             CA           201902.0  NaN  TOYT         PA   \n",
       "\n",
       "         ...  Route Agency Violation code  Violation Description Fine amount  \\\n",
       "3710355  ...  00472   54.0        80.69BS   NO PARK/STREET CLEAN        73.0   \n",
       "3710357  ...  00472   54.0        80.69BS   NO PARK/STREET CLEAN        73.0   \n",
       "\n",
       "             Latitude     Longitude  Agency Description  Color Description  \\\n",
       "3710355  6.477238e+06  1.854036e+06                 NaN                NaN   \n",
       "3710357  6.477999e+06  1.851994e+06                 NaN                NaN   \n",
       "\n",
       "        Body Style Description  \n",
       "3710355                    NaN  \n",
       "3710357                    NaN  \n",
       "\n",
       "[2 rows x 22 columns]"
      ]
     },
     "execution_count": 4,
     "metadata": {},
     "output_type": "execute_result"
    }
   ],
   "source": [
    "df.head(2)"
   ]
  },
  {
   "cell_type": "code",
   "execution_count": 5,
   "metadata": {},
   "outputs": [
    {
     "data": {
      "text/html": [
       "<div>\n",
       "<style scoped>\n",
       "    .dataframe tbody tr th:only-of-type {\n",
       "        vertical-align: middle;\n",
       "    }\n",
       "\n",
       "    .dataframe tbody tr th {\n",
       "        vertical-align: top;\n",
       "    }\n",
       "\n",
       "    .dataframe thead th {\n",
       "        text-align: right;\n",
       "    }\n",
       "</style>\n",
       "<table border=\"1\" class=\"dataframe\">\n",
       "  <thead>\n",
       "    <tr style=\"text-align: right;\">\n",
       "      <th></th>\n",
       "      <th>Ticket number</th>\n",
       "      <th>Issue Date</th>\n",
       "      <th>Issue time</th>\n",
       "      <th>Meter Id</th>\n",
       "      <th>Marked Time</th>\n",
       "      <th>RP State Plate</th>\n",
       "      <th>Plate Expiry Date</th>\n",
       "      <th>VIN</th>\n",
       "      <th>Make</th>\n",
       "      <th>Body Style</th>\n",
       "      <th>...</th>\n",
       "      <th>Route</th>\n",
       "      <th>Agency</th>\n",
       "      <th>Violation code</th>\n",
       "      <th>Violation Description</th>\n",
       "      <th>Fine amount</th>\n",
       "      <th>Latitude</th>\n",
       "      <th>Longitude</th>\n",
       "      <th>Agency Description</th>\n",
       "      <th>Color Description</th>\n",
       "      <th>Body Style Description</th>\n",
       "    </tr>\n",
       "  </thead>\n",
       "  <tbody>\n",
       "    <tr>\n",
       "      <th>11179929</th>\n",
       "      <td>4522167742</td>\n",
       "      <td>2020-12-22T00:00:00.000</td>\n",
       "      <td>1046.0</td>\n",
       "      <td>NaN</td>\n",
       "      <td>NaN</td>\n",
       "      <td>CA</td>\n",
       "      <td>202010.0</td>\n",
       "      <td>NaN</td>\n",
       "      <td>SUBA</td>\n",
       "      <td>PA</td>\n",
       "      <td>...</td>\n",
       "      <td>00300</td>\n",
       "      <td>53.0</td>\n",
       "      <td>80.69BS</td>\n",
       "      <td>NO PARK/STREET CLEAN</td>\n",
       "      <td>73.0</td>\n",
       "      <td>6.380484e+06</td>\n",
       "      <td>1.895415e+06</td>\n",
       "      <td>53 - DOT - VALLEY</td>\n",
       "      <td>GREY</td>\n",
       "      <td>PASSENGER CAR</td>\n",
       "    </tr>\n",
       "    <tr>\n",
       "      <th>11179980</th>\n",
       "      <td>4523214220</td>\n",
       "      <td>2020-12-22T00:00:00.000</td>\n",
       "      <td>833.0</td>\n",
       "      <td>NaN</td>\n",
       "      <td>NaN</td>\n",
       "      <td>CA</td>\n",
       "      <td>NaN</td>\n",
       "      <td>NaN</td>\n",
       "      <td>JAGU</td>\n",
       "      <td>PA</td>\n",
       "      <td>...</td>\n",
       "      <td>00553</td>\n",
       "      <td>55.0</td>\n",
       "      <td>80.69BS</td>\n",
       "      <td>NO PARK/STREET CLEAN</td>\n",
       "      <td>73.0</td>\n",
       "      <td>6.478186e+06</td>\n",
       "      <td>1.808237e+06</td>\n",
       "      <td>55 - DOT - SOUTHERN</td>\n",
       "      <td>BEIGE</td>\n",
       "      <td>PASSENGER CAR</td>\n",
       "    </tr>\n",
       "  </tbody>\n",
       "</table>\n",
       "<p>2 rows × 22 columns</p>\n",
       "</div>"
      ],
      "text/plain": [
       "         Ticket number               Issue Date  Issue time Meter Id  \\\n",
       "11179929    4522167742  2020-12-22T00:00:00.000      1046.0      NaN   \n",
       "11179980    4523214220  2020-12-22T00:00:00.000       833.0      NaN   \n",
       "\n",
       "          Marked Time RP State Plate  Plate Expiry Date  VIN  Make Body Style  \\\n",
       "11179929          NaN             CA           202010.0  NaN  SUBA         PA   \n",
       "11179980          NaN             CA                NaN  NaN  JAGU         PA   \n",
       "\n",
       "          ...  Route Agency Violation code  Violation Description Fine amount  \\\n",
       "11179929  ...  00300   53.0        80.69BS   NO PARK/STREET CLEAN        73.0   \n",
       "11179980  ...  00553   55.0        80.69BS   NO PARK/STREET CLEAN        73.0   \n",
       "\n",
       "              Latitude     Longitude   Agency Description  Color Description  \\\n",
       "11179929  6.380484e+06  1.895415e+06    53 - DOT - VALLEY               GREY   \n",
       "11179980  6.478186e+06  1.808237e+06  55 - DOT - SOUTHERN              BEIGE   \n",
       "\n",
       "         Body Style Description  \n",
       "11179929          PASSENGER CAR  \n",
       "11179980          PASSENGER CAR  \n",
       "\n",
       "[2 rows x 22 columns]"
      ]
     },
     "execution_count": 5,
     "metadata": {},
     "output_type": "execute_result"
    }
   ],
   "source": [
    "df.tail(2)"
   ]
  },
  {
   "cell_type": "code",
   "execution_count": null,
   "metadata": {},
   "outputs": [],
   "source": [
    "df.info()"
   ]
  },
  {
   "cell_type": "code",
   "execution_count": null,
   "metadata": {},
   "outputs": [],
   "source": [
    "df.describe()"
   ]
  },
  {
   "cell_type": "code",
   "execution_count": null,
   "metadata": {},
   "outputs": [],
   "source": []
  }
 ],
 "metadata": {
  "kernelspec": {
   "display_name": "Python 3",
   "language": "python",
   "name": "python3"
  },
  "language_info": {
   "codemirror_mode": {
    "name": "ipython",
    "version": 3
   },
   "file_extension": ".py",
   "mimetype": "text/x-python",
   "name": "python",
   "nbconvert_exporter": "python",
   "pygments_lexer": "ipython3",
   "version": "3.7.6"
  }
 },
 "nbformat": 4,
 "nbformat_minor": 4
}
