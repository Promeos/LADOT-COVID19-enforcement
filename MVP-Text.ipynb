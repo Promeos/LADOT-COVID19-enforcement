{
 "cells": [
  {
   "cell_type": "markdown",
   "metadata": {},
   "source": [
    "# Acquire\n",
    "\n",
    "- https://www.latimes.com/california/story/2020-03-16/los-angeles-parking-ticket-street-sweeping-coronavirus-covid19\n",
    "- https://www.latimes.com/california/story/2020-10-15/street-sweeping-parking-enforcement-resumes-today\n",
    "- https://abc7.com/society/las-resumed-parking-enforcement-prompts-outcry/7079278/\n",
    "\n",
    "- https://www.theeastsiderla.com/site/about_the_eastsider/\n",
    "- https://xtown.la/2020/10/15/parking-ticket-los-angeles/"
   ]
  },
  {
   "cell_type": "code",
   "execution_count": 1,
   "metadata": {},
   "outputs": [
    {
     "name": "stderr",
     "output_type": "stream",
     "text": [
      "\u001b[34m\u001b[1mwandb\u001b[0m: \u001b[33mWARNING\u001b[0m W&B installed but not logged in.  Run `wandb login` or set the WANDB_API_KEY env variable.\n"
     ]
    }
   ],
   "source": [
    "import numpy as np\n",
    "import pandas as pd\n",
    "import os\n",
    "import spacy\n",
    "\n",
    "from pdfminer.high_level import extract_text\n",
    "from transformers import pipeline"
   ]
  },
  {
   "cell_type": "code",
   "execution_count": 2,
   "metadata": {},
   "outputs": [
    {
     "data": {
      "text/plain": [
       "{'score': 0.5135613305454356,\n",
       " 'start': 35,\n",
       " 'end': 59,\n",
       " 'answer': 'huggingface/transformers'}"
      ]
     },
     "execution_count": 2,
     "metadata": {},
     "output_type": "execute_result"
    }
   ],
   "source": [
    "# Allocate a pipeline for question-answering\n",
    "question_answerer = pipeline('question-answering')\n",
    "question_answerer({\n",
    "    'question': 'What is the name of the repository ?',\n",
    "    'context': 'Pipeline have been included in the huggingface/transformers repository'\n",
    "})"
   ]
  },
  {
   "cell_type": "code",
   "execution_count": 3,
   "metadata": {
    "scrolled": false
   },
   "outputs": [
    {
     "data": {
      "text/plain": [
       "'CITY OF LOS ANGELES\\nINTER-DEPARTMENTAL MEMORANDUM\\n\\nDate:\\n\\nSeptember 17, 2020\\n\\nTo:\\n\\nHonorable City Council\\nc/o City Clerk, Room 395, City Hall\\nAttention: Honorable Mike Bonin, Chair, Transportation Committee\\n\\nFrom:\\n\\nSeleta J. Reynolds, General Manager ^ \\nDepartment of Transportation\\n\\nSubject:\\n\\nTRANSITION PLAN TO RESUME PARKING ENFORCEMENT FOR PREVIOUSLY SUSPENDED \\n\\nPARKING INFRACTIONS AND PROPOSED ECONOMIC RELIEF MEASURES FOR PARKING \\n\\nFINES\\n\\nSUMMARY\\n\\nThe Los Angeles Department of Transportation '"
      ]
     },
     "execution_count": 3,
     "metadata": {},
     "output_type": "execute_result"
    }
   ],
   "source": [
    "# Load in the text from a pdf using pdfminer\n",
    "extract_text('city-documents/city-council/LADOT-transition-plan.pdf')[:500]"
   ]
  },
  {
   "cell_type": "code",
   "execution_count": 4,
   "metadata": {},
   "outputs": [
    {
     "name": "stdout",
     "output_type": "stream",
     "text": [
      "city-documents/city-council/LADOT-transition-plan.pdf\n",
      "city-documents/city-council/public-outreach-period.pdf\n",
      "city-documents/city-council/relief-report-motion.pdf\n",
      "city-documents/city-council/relief-program-report-121720.pdf\n",
      "city-documents/public-comments/public-comments-parking-enforcement.pdf\n",
      "city-documents/LADOT/enforcement.pdf\n",
      "city-documents/LADOT/citation-pay-program.pdf\n"
     ]
    }
   ],
   "source": [
    "# Create an empty dictionary to scrape text from all the pdfs\n",
    "# stored in the city-documents folder.\n",
    "documents = []\n",
    "\n",
    "for root, dirs, files in os.walk(\"city-documents/\"):\n",
    "    for file in files:\n",
    "        # If the ends with .pdf, display the path\n",
    "        if file.endswith(\".pdf\"):\n",
    "            print(os.path.join(root, file))\n",
    "            # Add the filename and relative path as a dictionary to documents\n",
    "            documents.append({'pdf_name': file,\n",
    "                              'path': os.path.join(root, file)})"
   ]
  },
  {
   "cell_type": "code",
   "execution_count": 5,
   "metadata": {},
   "outputs": [
    {
     "data": {
      "text/html": [
       "<div>\n",
       "<style scoped>\n",
       "    .dataframe tbody tr th:only-of-type {\n",
       "        vertical-align: middle;\n",
       "    }\n",
       "\n",
       "    .dataframe tbody tr th {\n",
       "        vertical-align: top;\n",
       "    }\n",
       "\n",
       "    .dataframe thead th {\n",
       "        text-align: right;\n",
       "    }\n",
       "</style>\n",
       "<table border=\"1\" class=\"dataframe\">\n",
       "  <thead>\n",
       "    <tr style=\"text-align: right;\">\n",
       "      <th></th>\n",
       "      <th>pdf_name</th>\n",
       "      <th>path</th>\n",
       "    </tr>\n",
       "  </thead>\n",
       "  <tbody>\n",
       "    <tr>\n",
       "      <th>0</th>\n",
       "      <td>LADOT-transition-plan.pdf</td>\n",
       "      <td>city-documents/city-council/LADOT-transition-p...</td>\n",
       "    </tr>\n",
       "    <tr>\n",
       "      <th>1</th>\n",
       "      <td>public-outreach-period.pdf</td>\n",
       "      <td>city-documents/city-council/public-outreach-pe...</td>\n",
       "    </tr>\n",
       "    <tr>\n",
       "      <th>2</th>\n",
       "      <td>relief-report-motion.pdf</td>\n",
       "      <td>city-documents/city-council/relief-report-moti...</td>\n",
       "    </tr>\n",
       "    <tr>\n",
       "      <th>3</th>\n",
       "      <td>relief-program-report-121720.pdf</td>\n",
       "      <td>city-documents/city-council/relief-program-rep...</td>\n",
       "    </tr>\n",
       "    <tr>\n",
       "      <th>4</th>\n",
       "      <td>public-comments-parking-enforcement.pdf</td>\n",
       "      <td>city-documents/public-comments/public-comments...</td>\n",
       "    </tr>\n",
       "    <tr>\n",
       "      <th>5</th>\n",
       "      <td>enforcement.pdf</td>\n",
       "      <td>city-documents/LADOT/enforcement.pdf</td>\n",
       "    </tr>\n",
       "    <tr>\n",
       "      <th>6</th>\n",
       "      <td>citation-pay-program.pdf</td>\n",
       "      <td>city-documents/LADOT/citation-pay-program.pdf</td>\n",
       "    </tr>\n",
       "  </tbody>\n",
       "</table>\n",
       "</div>"
      ],
      "text/plain": [
       "                                  pdf_name  \\\n",
       "0                LADOT-transition-plan.pdf   \n",
       "1               public-outreach-period.pdf   \n",
       "2                 relief-report-motion.pdf   \n",
       "3         relief-program-report-121720.pdf   \n",
       "4  public-comments-parking-enforcement.pdf   \n",
       "5                          enforcement.pdf   \n",
       "6                 citation-pay-program.pdf   \n",
       "\n",
       "                                                path  \n",
       "0  city-documents/city-council/LADOT-transition-p...  \n",
       "1  city-documents/city-council/public-outreach-pe...  \n",
       "2  city-documents/city-council/relief-report-moti...  \n",
       "3  city-documents/city-council/relief-program-rep...  \n",
       "4  city-documents/public-comments/public-comments...  \n",
       "5               city-documents/LADOT/enforcement.pdf  \n",
       "6      city-documents/LADOT/citation-pay-program.pdf  "
      ]
     },
     "execution_count": 5,
     "metadata": {},
     "output_type": "execute_result"
    }
   ],
   "source": [
    "# Convert the list of dictionaries into a dataframe\n",
    "pdfs = pd.DataFrame(documents)\n",
    "pdfs"
   ]
  },
  {
   "cell_type": "code",
   "execution_count": 6,
   "metadata": {},
   "outputs": [
    {
     "name": "stdout",
     "output_type": "stream",
     "text": [
      "city-documents/city-council/LADOT-transition-plan.pdf\n",
      "city-documents/city-council/public-outreach-period.pdf\n",
      "city-documents/city-council/relief-report-motion.pdf\n",
      "city-documents/city-council/relief-program-report-121720.pdf\n",
      "city-documents/public-comments/public-comments-parking-enforcement.pdf\n",
      "city-documents/LADOT/enforcement.pdf\n",
      "city-documents/LADOT/citation-pay-program.pdf\n"
     ]
    }
   ],
   "source": [
    "# Collect the relative paths for each pdfs\n",
    "pdfs_to_scrape = []\n",
    "\n",
    "for index, file in pdfs.iterrows():\n",
    "    print(file['path'])\n",
    "    pdfs_to_scrape.append(file['path'])"
   ]
  },
  {
   "cell_type": "code",
   "execution_count": 7,
   "metadata": {},
   "outputs": [
    {
     "data": {
      "text/plain": [
       "['city-documents/city-council/LADOT-transition-plan.pdf',\n",
       " 'city-documents/city-council/public-outreach-period.pdf',\n",
       " 'city-documents/city-council/relief-report-motion.pdf',\n",
       " 'city-documents/city-council/relief-program-report-121720.pdf',\n",
       " 'city-documents/public-comments/public-comments-parking-enforcement.pdf',\n",
       " 'city-documents/LADOT/enforcement.pdf',\n",
       " 'city-documents/LADOT/citation-pay-program.pdf']"
      ]
     },
     "execution_count": 7,
     "metadata": {},
     "output_type": "execute_result"
    }
   ],
   "source": [
    "# Display all file paths\n",
    "pdfs_to_scrape"
   ]
  },
  {
   "cell_type": "code",
   "execution_count": 8,
   "metadata": {},
   "outputs": [],
   "source": [
    "# Create an empty list to store text extracted from each pdf.\n",
    "text = []\n",
    "\n",
    "# Scrape the text from each pdf and store the result in text\n",
    "for file in pdfs_to_scrape:\n",
    "    text.append(extract_text(file))"
   ]
  },
  {
   "cell_type": "code",
   "execution_count": 9,
   "metadata": {},
   "outputs": [
    {
     "data": {
      "text/plain": [
       "7"
      ]
     },
     "execution_count": 9,
     "metadata": {},
     "output_type": "execute_result"
    }
   ],
   "source": [
    "# Display the number of documents stored in the variable `text`.\n",
    "len(text)"
   ]
  },
  {
   "cell_type": "code",
   "execution_count": 10,
   "metadata": {
    "scrolled": false
   },
   "outputs": [
    {
     "name": "stdout",
     "output_type": "stream",
     "text": [
      "CITY OF LOS ANGELES\n",
      "INTER-DEPARTMENTAL MEMORANDUM\n",
      "\n",
      "Date:\n",
      "\n",
      "September 17, 2020\n",
      "\n",
      "To:\n",
      "\n",
      "Honorable City Council\n",
      "c/o City Clerk, Room 395, City Hall\n",
      "Attention: Honorable Mike Bonin, Chair, Transportation Com\n"
     ]
    }
   ],
   "source": [
    "# Display text from the first document\n",
    "print(text[0][:200])"
   ]
  },
  {
   "cell_type": "code",
   "execution_count": 11,
   "metadata": {},
   "outputs": [
    {
     "name": "stdout",
     "output_type": "stream",
     "text": [
      "\n",
      "DOCUMENT #1\n",
      "-----------------\n",
      "CITY OF LOS ANGELES\n",
      "\n",
      "DOCUMENT #2\n",
      "-----------------\n",
      "MOTION\n",
      "\n",
      "3 0 A\n",
      "\n",
      "I MOV\n",
      "\n",
      "DOCUMENT #3\n",
      "-----------------\n",
      "TRANSPORTATION\n",
      "\n",
      "MOTI\n",
      "\n",
      "DOCUMENT #4\n",
      "-----------------\n",
      "File No. 20-1365\n",
      "\n",
      "TR\n",
      "\n",
      "DOCUMENT #5\n",
      "-----------------\n",
      "Communication from P\n",
      "\n",
      "DOCUMENT #6\n",
      "-----------------\n",
      "FOR IMMEDI\n",
      "\n",
      "DOCUMENT #7\n",
      "-----------------\n",
      "FOR IMMEDI\n"
     ]
    }
   ],
   "source": [
    "# Display the first 200 characters of each docuemnt in the variable `text`.\n",
    "for i in range(0, len(text)):\n",
    "    print(f\"\\nDOCUMENT #{i+1}\")\n",
    "    print(\"-----------------\")\n",
    "    print(text[i][:20].strip())"
   ]
  },
  {
   "cell_type": "code",
   "execution_count": 12,
   "metadata": {
    "scrolled": false
   },
   "outputs": [
    {
     "name": "stdout",
     "output_type": "stream",
     "text": [
      "CITY OF                   (ORG)\n",
      "LOS ANGELES               (GPE)\n",
      "September 17, 2020        (DATE)\n",
      "City Council              (ORG)\n",
      "395                       (CARDINAL)\n",
      "City Hall\n",
      "                (FAC)\n",
      "Mike Bonin                (PERSON)\n",
      "Transportation Committee\n",
      "\n",
      " (ORG)\n",
      "Seleta J. Reynolds        (PERSON)\n",
      "Department of Transportation\n",
      "\n",
      " (ORG)\n",
      "The Los Angeles Department of Transportation (ORG)\n",
      "LADOT                     (ORG)\n",
      "CF 20-0147-S7             (ORG)\n",
      "the City Council          (ORG)\n",
      "1                         (CARDINAL)\n",
      "LADOT                     (ORG)\n",
      "October 1, 2020           (DATE)\n",
      "overnight                 (TIME)\n",
      "2                         (CARDINAL)\n",
      "LADOT                     (ORG)\n",
      "October 15, 2020          (DATE)\n",
      "3                         (CARDINAL)\n",
      "LADOT                     (ORG)\n",
      "October 22, 2020          (DATE)\n",
      "4                         (CARDINAL)\n",
      "LADOT                     (ORG)\n",
      "January 1, 2021           (DATE)\n",
      "March 4, 2020             (DATE)\n",
      "the City Council          (ORG)\n",
      "the Declaration of Local Emergency (LAW)\n",
      "the \n",
      "Declaration of a Local Emergency (LAW)\n",
      "March 16                  (DATE)\n",
      "LADOT                     (ORG)\n",
      "The Honorable City Council (ORG)\n",
      "2                         (CARDINAL)\n",
      "September 17, 2020        (DATE)\n",
      "/rush hour                (TIME)\n",
      "two-week                  (DATE)\n",
      "overnight                 (TIME)\n",
      "September 1, 2020         (DATE)\n",
      "City Council              (ORG)\n",
      "LADOT                     (ORG)\n",
      "October 1, 2020           (DATE)\n",
      "The Mayor's Safer at Home (ORG)\n",
      "more than 72 hours        (TIME)\n",
      "72-hour                   (TIME)\n",
      "LADOT                     (ORG)\n",
      "months                    (DATE)\n",
      "LADOT                     (ORG)\n",
      "daily                     (DATE)\n",
      "LADOT                     (ORG)\n",
      "10,500                    (CARDINAL)\n",
      "126,000                   (CARDINAL)\n",
      "LADOT                     (ORG)\n",
      "October 1                 (DATE)\n",
      "2020                      (DATE)\n",
      "the State of California   (ORG)\n",
      "Los Angeles               (GPE)\n",
      "LADOT                     (ORG)\n",
      "peak hour                 (TIME)\n",
      "October 1, 2020           (DATE)\n",
      "The Honorable City Council (ORG)\n",
      "3                         (CARDINAL)\n",
      "September 17, 2020\n",
      "\n",
      "      (DATE)\n",
      "the Department of Motor Vehicles (ORG)\n",
      "DMV                       (ORG)\n",
      "June 2020                 (DATE)\n",
      "DMV                       (ORG)\n",
      "LADOT                     (ORG)\n",
      "October 1, 2020           (DATE)\n",
      "the California Vehicle Code (ORG)\n",
      "City \n",
      "Council             (ORG)\n",
      "LADOT                     (ORG)\n",
      "the Los Angeles Homeless Services Authority (ORG)\n",
      "LAHSA                     (ORG)\n",
      "the Los \n",
      "Angeles Police Department (ORG)\n",
      "LAPD                      (ORG)\n",
      "LADOT                     (ORG)\n",
      "overnight                 (TIME)\n",
      "October 1, 2020           (DATE)\n",
      "LADOT                     (ORG)\n",
      "LADOT                     (ORG)\n",
      "LADOT                     (ORG)\n",
      "two-week                  (DATE)\n",
      "the week of October 1, 2020 (DATE)\n",
      "LADOT                     (ORG)\n",
      "two-week                  (DATE)\n",
      "October 15                (DATE)\n",
      "2020                      (DATE)\n",
      "five                      (CARDINAL)\n",
      "LADOT                     (ORG)\n",
      "LADOT                     (ORG)\n",
      "the next 90 days          (DATE)\n",
      "December 31, 2020         (DATE)\n",
      "LADOT                     (ORG)\n",
      "January 1, 2021           (DATE)\n",
      "The Honorable City Council (ORG)\n",
      "September 17, 2020        (DATE)\n",
      "The City of Los Angeles   (GPE)\n",
      "LADOT                     (ORG)\n",
      "one                       (CARDINAL)\n",
      "three years old           (DATE)\n",
      "DMV                       (ORG)\n",
      "48 hours                  (TIME)\n",
      "20                        (MONEY)\n",
      "CAPP                      (ORG)\n",
      "LADOT                     (ORG)\n",
      "CAPP                      (ORG)\n",
      "June 30, 2020             (DATE)\n",
      "LADOT                     (ORG)\n",
      "1,070                     (CARDINAL)\n",
      "14,238                    (CARDINAL)\n",
      "559,783                   (MONEY)\n",
      "LADOT                     (ORG)\n",
      "the State Legislature     (ORG)\n",
      "18 \n",
      "months                (DATE)\n",
      "LADOT                     (ORG)\n",
      "LADOT                     (ORG)\n",
      "LADOT                     (ORG)\n",
      "October 1, 2020           (DATE)\n",
      "21 days                   (DATE)\n",
      "LADOT                     (ORG)\n",
      "21 days                   (DATE)\n",
      "October 21, 2020          (DATE)\n",
      "October 22, 2020          (DATE)\n",
      "older than 21 days        (DATE)\n",
      "the General Fund          (ORG)\n",
      "Fiscal Year               (DATE)\n",
      "the \n",
      "Declaration of a Local Emergency (LAW)\n",
      "LADOT                     (ORG)\n",
      "approximately \n",
      "$135 million (MONEY)\n",
      "annually                  (DATE)\n",
      "$11.25 million            (MONEY)\n",
      "Fiscal Year               (DATE)\n",
      "the fiscal year           (DATE)\n",
      "between $55\n",
      "\n",
      "\f",
      "            (MONEY)\n",
      "The Honorable City Council (ORG)\n",
      "5                         (CARDINAL)\n",
      "September 17, 2020        (DATE)\n",
      "million and $60 million or $4.5 million to $5 million (MONEY)\n",
      "2020-21                   (DATE)\n",
      "the current year          (DATE)\n",
      "approximately $85.5 million (MONEY)\n",
      "about 62%                 (PERCENT)\n",
      "$6 \n",
      "million               (MONEY)\n",
      "each month                (DATE)\n",
      "Separation Incentive Program (ORG)\n",
      "approximately $1-2 million (MONEY)\n"
     ]
    }
   ],
   "source": [
    "# Load the large English NLP model\n",
    "nlp = spacy.load('en_core_web_lg')\n",
    "\n",
    "# The text we want to examine\n",
    "\n",
    "# Parse the text with spaCy. This runs the entire pipeline.\n",
    "doc = nlp(text[0])\n",
    "\n",
    "# 'doc' now contains a parsed version of text. We can use it to do anything we want!\n",
    "# For example, this will print out all the named entities that were detected:\n",
    "for entity in doc.ents:\n",
    "    print(f\"{entity.text:<25} ({entity.label_})\")"
   ]
  },
  {
   "cell_type": "code",
   "execution_count": 13,
   "metadata": {
    "scrolled": false
   },
   "outputs": [],
   "source": [
    "public_comments = text[4].replace(\"\\xa0\", ' ')\n",
    "public_comments = public_comments.replace(\"\\n\", ' ')"
   ]
  },
  {
   "cell_type": "code",
   "execution_count": 14,
   "metadata": {},
   "outputs": [],
   "source": [
    "doc = nlp(public_comments)\n",
    "\n",
    "filtered_tokens = [token for token in doc if not token.is_stop]"
   ]
  },
  {
   "cell_type": "code",
   "execution_count": 20,
   "metadata": {
    "scrolled": false
   },
   "outputs": [
    {
     "name": "stdout",
     "output_type": "stream",
     "text": [
      "Communication from Public      Name: Date Submitted: Council File\n",
      "No: Comments for Public Posting:\n",
      " \n",
      "My comments are in reference to item #3 of today's  Armen Makasjian 08/17/2020 01:30 PM 20-0147-S7   Transportation Committee Meeting.\n",
      "It is important that street sweeping continue through neighborhoods.\n",
      "There are people sleeping in cars that have been parked for several weeks.\n",
      "On North Berendo St. just north of Hollywood Blvd., there are several vehicles, including a large RV that have been parked for several weeks without moving.\n",
      "This has resulted in an infestation of rats and vermin, including roaches.\n",
      "It is important that the city continue street sweeping to prevent blight and unsanitary conditions.\n",
      "Please reconsider the motion to CONTINUE street sweeping.\n",
      "Thank you!\n",
      "  \f",
      "\n",
      "Communication from Public  Scott P. 09/28/2020 09:01 PM\n",
      "20-0147-S7       Name: Date Submitted: Council File\n",
      "No: Comments for Public Posting:  \n",
      "My name is name is Scott and I live in El Sereno and I want to encourage the Council to direct the Los Angeles Department of Transportation (LADOT) to resume parking enforcement for previously suspended parking infractions and proposed economic relief measures for parking fines as recommended by the Transportation Commission.\n",
      "Since the City suspended enforcement of parking there has been in an increase in the number of people parking and staying for months at a time at particular locations in residential neighborhoods.\n",
      "Many of the people who park and stay use the adjacent sidewalk and street right-of-way (ROW) as their own personal property.\n",
      "They are using the sidewalk to sit, cook, store items, drink and use drugs in the ROW.\n",
      "The use of the ROW in this way detracts from the quality of life for residents in the neighborhood.\n",
      "Also, the use of the ROW as “living space” is also public health concern because people are leaving trash and human waste in the ROW.\n",
      "In addition, there has been an increase in people dumping cars for months at a time on residential streets.\n",
      "Abandoned cars also contributes to the decline of the residential neighborhoods.\n",
      "I have used 311 to address both issues and nothing has been done.\n",
      "Prior to the suspension of parking enforcement, LADOT did a wonderful job of enforcing parking and removing abandoned vehicles.\n",
      "In order to maintain the quality of life for residents, I encourage the Council to resume the enforcement of parking regulations starting October 1.\n",
      "Thank you.\n",
      "  \f",
      "Communication from Public      Name: Date Submitted: Council File\n",
      "No: Comments for Public Posting:  \n",
      "I strongly oppose the Transportation Committee’s  \n",
      "Jeanne 09/30/2020 09:27 AM 20-0147-S7   recommendation to resume parking enforcement, including impounds.\n",
      "Tickets and tows will cause greater financial burden for low-income and unhoused people who are already struggling through the pandemic.\n",
      "The Safer at Home Order is still in effect and there is concern about a Fall surge of Covid-19 infections; now is not the time to lift any Covid-related protections.\n",
      "Impounding a person’s vehicle leads to extreme financial hardship, as individuals are required to pay tow fees and daily storage fees to the tow company.\n",
      "These fees quickly balloon to thousands of dollars and often lead to people losing their vehicles.\n",
      "In addition to the financial strain this poses, it will cause people to become reliant on public transportation, during a time when we are ordered to avoid groups of strangers.\n",
      "In particular, towing for expired registration will disproportionately affect low-income people who are already economically burdened by the effects of Covid-19.\n",
      "A car’s registration may lapse for many poverty-related reasons, including inability to pay registration fees, holds on registration until all parking tickets are resolved, and failing a smog test.\n",
      "Towing the car will only exacerbate these issues.\n",
      "The City’s current programs for low-income individuals to address parking tickets is insufficient.\n",
      "The Community Assistance Parking Program (CAPP) is only available to people who are already unhoused; people at imminent risk of homelessness or who are otherwise financially burdened by the tickets cannot access the program.\n",
      "The City’s Installment Payment Plans provide little relief because they either require such a large up front payment that is often impossible for a low-income person to pay or have so many restrictions that they are functionally unavailable for many people.\n",
      "Until there is a meaningful program to provide relief to people that cannot afford these tickets, the City should not resume enforcement.\n",
      "  \f",
      "Communication from Public  Jazmine Johnson 09/30/2020 10:40 AM 20-0147-S7       Name: Date Submitted: Council File\n",
      "No: Comments for Public Posting:  \n",
      "While the decline in revenue due to relaxed parking enforcement is understandably of great concern to the city, the livelihood of its residents must be prioritized.\n",
      "We are still in the midst of a pandemic and many residents are still working and learning from home.\n",
      "There is already a strain on available parking in many communities, and reinstating disruptive activities such as street cleaning will only create additional stress and worry for those struggling to work from home, serve as a teacher for their children, secure care for their children or dependent adults, and juggle any other tasks that have been thrust upon them due to stay-at-home orders.\n",
      "Additionally, thousands of families, especially those facing financial insecurity prior to the pandemic, would be greatly impacted by any additional costs incurred as a result of a parking citation.\n",
      "Moreover, unhoused folks, who are already some of the most vulnerable in our communities, would be most greatly impacted by the resumption of parking enforcement and street sweeping services by potentially further displacing them.\n",
      "Now is the time for innovative thinking and creative solutions to the city's fiscal challenges.\n",
      "For example, maybe the city can reduce costs by reducing the number and frequency of deployment of street sweeping vehicles and temporarily shift the roles of fleet operators to a different city service.\n",
      "Plainly, the loss of revenue is a challenge for the city, but recovering that revenue stream should not come on the backs of LA residents who are still dealing with the economic and social impacts of COVID-19.\n",
      "I urge City Council to do what's best for its constituents and extend the temporary suspension of parking restrictions and enforcement.\n",
      "  \f",
      "Communication from Public  Daniel Gaines 09/30/2020 09:37 AM 20-0147-S7       Name: Date Submitted: Council File\n",
      "No: Comments for Public Posting:  \n",
      "The pandemic still has people working and students learning from home.\n",
      "This action will have a disproportionately harsh impact on low-income and/or unhoused residents.\n",
      "During a previous suspension, Council passed a motion that would give people a week notice before enforcement resumed.\n",
      "Why no advance notice this time?\n",
      "Why resume parking enforcement now?\n",
      "The loss of revenue is a challenge for the city.\n",
      "But recovering that revenue stream should not come on the backs of LA residents who are still dealing with the economic and social impacts of COVID-19.\n",
      "  \f",
      "Communication from Public      Name: Date Submitted: Council File\n",
      "No: Comments for Public Posting:  \n",
      "I request that the City Council does not resume parking  Cooper Kenward 09/30/2020 08:18 PM 20-0147-S7   enforcement on Thursday.\n",
      "The pandemic still has people working and students learning from home.\n",
      "This action will have a disproportionately harsh impact on low-income and/or unhoused residents!\n",
      "During a previous suspension, Council passed a motion that would give people a week notice before enforcement resumed.\n",
      "Why no advance notice this time?\n",
      "Why resume parking enforcement now?\n",
      "The loss of revenue is a challenge for the city.\n",
      "But recovering that revenue stream should not come on the backs of LA residents who are still dealing with the economic and social impacts of COVID-19.\n",
      "Thank you, Cooper Kenward   \f",
      "Communication from Public  Michelle 09/30/2020 01:57 PM 20-0147-S7       Name:\n",
      "Date Submitted: Council File No: Comments for Public Posting:  I am a resident of the El Sereno/Rose Hills area\n",
      "and I want to encourage the Council to RESUME parking enforcement for previously suspended parking infractions and proposed economic relief measures for parking fines as recommended by the Transportation Commission.\n",
      "I understand that some are concerned with COVID but this has been going on long before the pandemic arrived.\n",
      "Since the City suspended enforcement of parking there has been in an increase in the number of people parking and staying for months at a time at particular locations in residential neighborhoods.\n",
      "Many of the people who park and stay use the adjacent sidewalk and street right-of-way (ROW) as their own personal property.\n",
      "They are using the sidewalk to sit, cook, store items, drink and use drugs in the ROW and always leaving their trash behind, sometimes even human waste.\n",
      "The use of the ROW in this way detracts from the quality of life for residents in the neighborhood.\n",
      "These are not people out of work due to the pandemic and are regularly using drugs or are mentally ill as all neighborhood residents have voiced concern over the last several months to local police of disturbing occurrences on the streets, such as physical harassment like following daily walkers while screaming obscenities, slashing car tires, banging and kicking cars stopped at red lights, leaving trash in yards (one man actually asked me if he could stash something of his in my front yard bushes) and threatening many just crossing the streets.\n",
      "There was even a death a few months ago at the El Sereno Post Office.\n",
      "Parking enforcement may not be the answer but it's a start to what the City of Los Angeles should start doing to help get the homeless population off the streets to begin with.\n",
      "Loosening parking restrictions is just enabling more homeless to arrive and expand our Huntington Drive encampment to overflow.\n",
      "Of course it is the same all over the city and this is why some other resolution even temporary should be looked into.\n",
      "Can't vacant lots throughout LA County and in industrial or commercial zones be used for homeless car and RV parking and not just dumped in residential neighborhoods and in front of schools?\n",
      "Speaking from experience as I literally saw a flatbed tow truck bring a homeless couple's RV and dump it on our residential block, why you may ask, because it happened to be in front of the only vacant lot on our block.\n",
      "Where did this truck come from and why were they allowed to dump it there?\n",
      "We also have a gentleman that has  \f",
      "allowed to dump it there?\n",
      "We also have a gentleman that has parked his vehicle on the corner of Collis and Huntington Dr. all spring and summer long and has even brought friends and has since turned the corner into his own personal camp with a BBQ, furniture and several pound's of trash right next to a bus stop.\n",
      "We are getting tired of picking up trash and dare not go near the broken crack pipes and meth tools left behind, again only to be told by the police that there's nothing they can do.\n",
      "Really?\n",
      "Use some of the HHH money to rent lots from property owners that just let their industrial or commercial lots sit and rot or offer some other incentive?\n",
      "These lots could also be used for tent camps.\n",
      "The City can provide showers, counseling or other services to them there while not having them living on the streets or constantly wandering throughout residential neighborhoods.\n",
      "Many of my neighbors have used 311 to address all these issues and nothing has been done or we were told that their hands are tied until the City makes a decision.\n",
      "Please make the right decision now and start by reinforcing parking just like all our surrounding cities.\n",
      "I find it comical that I don't see the same homeless encampments and abandoned cars just across the city border on Huntington Drive in Alhambra.\n",
      "Could it be that their Police Department just sends them our way since they know that the City of Los Angeles will do nothing about it?\n",
      "Please I beg you council, do something about it.\n",
      "Thank You   \f",
      "\n"
     ]
    }
   ],
   "source": [
    "for i in doc.sents:\n",
    "    print(i)"
   ]
  },
  {
   "cell_type": "code",
   "execution_count": 24,
   "metadata": {
    "scrolled": false
   },
   "outputs": [
    {
     "name": "stdout",
     "output_type": "stream",
     "text": [
      "[{'label': 'NEGATIVE', 'score': 0.9835943579673767}] Communication from Public      Name: Date Submitted: Council File\n",
      "[{'label': 'NEGATIVE', 'score': 0.9898175597190857}] No: Comments for Public Posting:\n",
      "[{'label': 'POSITIVE', 'score': 0.7481210827827454}]  \n",
      "[{'label': 'NEGATIVE', 'score': 0.7790317535400391}] My comments are in reference to item #3 of today's  Armen Makasjian 08/17/2020 01:30 PM 20-0147-S7   Transportation Committee Meeting.\n",
      "[{'label': 'POSITIVE', 'score': 0.999167799949646}] It is important that street sweeping continue through neighborhoods.\n",
      "[{'label': 'NEGATIVE', 'score': 0.9912372827529907}] There are people sleeping in cars that have been parked for several weeks.\n",
      "[{'label': 'NEGATIVE', 'score': 0.9960814118385315}] On North Berendo St. just north of Hollywood Blvd., there are several vehicles, including a large RV that have been parked for several weeks without moving.\n",
      "[{'label': 'NEGATIVE', 'score': 0.9971234202384949}] This has resulted in an infestation of rats and vermin, including roaches.\n",
      "[{'label': 'POSITIVE', 'score': 0.9959439039230347}] It is important that the city continue street sweeping to prevent blight and unsanitary conditions.\n",
      "[{'label': 'NEGATIVE', 'score': 0.9655851125717163}] Please reconsider the motion to CONTINUE street sweeping.\n",
      "[{'label': 'POSITIVE', 'score': 0.9998580813407898}] Thank you!\n",
      "[{'label': 'POSITIVE', 'score': 0.7481210827827454}]   \f",
      "\n",
      "[{'label': 'POSITIVE', 'score': 0.9026166200637817}] Communication from Public  Scott P. 09/28/2020 09:01 PM\n",
      "[{'label': 'NEGATIVE', 'score': 0.9878500699996948}] 20-0147-S7       Name: Date Submitted: Council File\n",
      "[{'label': 'NEGATIVE', 'score': 0.9898175597190857}] No: Comments for Public Posting:  \n",
      "[{'label': 'POSITIVE', 'score': 0.9935014247894287}] My name is name is Scott and I live in El Sereno and I want to encourage the Council to direct the Los Angeles Department of Transportation (LADOT) to resume parking enforcement for previously suspended parking infractions and proposed economic relief measures for parking fines as recommended by the Transportation Commission.\n",
      "[{'label': 'NEGATIVE', 'score': 0.6090168356895447}] Since the City suspended enforcement of parking there has been in an increase in the number of people parking and staying for months at a time at particular locations in residential neighborhoods.\n",
      "[{'label': 'POSITIVE', 'score': 0.915480375289917}] Many of the people who park and stay use the adjacent sidewalk and street right-of-way (ROW) as their own personal property.\n",
      "[{'label': 'NEGATIVE', 'score': 0.9858183860778809}] They are using the sidewalk to sit, cook, store items, drink and use drugs in the ROW.\n",
      "[{'label': 'NEGATIVE', 'score': 0.9962418675422668}] The use of the ROW in this way detracts from the quality of life for residents in the neighborhood.\n",
      "[{'label': 'NEGATIVE', 'score': 0.9915768504142761}] Also, the use of the ROW as “living space” is also public health concern because people are leaving trash and human waste in the ROW.\n",
      "[{'label': 'NEGATIVE', 'score': 0.9933813214302063}] In addition, there has been an increase in people dumping cars for months at a time on residential streets.\n",
      "[{'label': 'NEGATIVE', 'score': 0.9979970455169678}] Abandoned cars also contributes to the decline of the residential neighborhoods.\n",
      "[{'label': 'NEGATIVE', 'score': 0.9990466833114624}] I have used 311 to address both issues and nothing has been done.\n",
      "[{'label': 'POSITIVE', 'score': 0.9995281100273132}] Prior to the suspension of parking enforcement, LADOT did a wonderful job of enforcing parking and removing abandoned vehicles.\n",
      "[{'label': 'POSITIVE', 'score': 0.9973918199539185}] In order to maintain the quality of life for residents, I encourage the Council to resume the enforcement of parking regulations starting October 1.\n",
      "[{'label': 'POSITIVE', 'score': 0.9998458027839661}] Thank you.\n",
      "[{'label': 'NEGATIVE', 'score': 0.9835943579673767}]   \f",
      "Communication from Public      Name: Date Submitted: Council File\n",
      "[{'label': 'NEGATIVE', 'score': 0.9898175597190857}] No: Comments for Public Posting:  \n",
      "[{'label': 'NEGATIVE', 'score': 0.9695363640785217}] I strongly oppose the Transportation Committee’s  \n",
      "[{'label': 'NEGATIVE', 'score': 0.9814490079879761}] Jeanne 09/30/2020 09:27 AM 20-0147-S7   recommendation to resume parking enforcement, including impounds.\n",
      "[{'label': 'NEGATIVE', 'score': 0.9969549179077148}] Tickets and tows will cause greater financial burden for low-income and unhoused people who are already struggling through the pandemic.\n",
      "[{'label': 'NEGATIVE', 'score': 0.9982585310935974}] The Safer at Home Order is still in effect and there is concern about a Fall surge of Covid-19 infections; now is not the time to lift any Covid-related protections.\n",
      "[{'label': 'NEGATIVE', 'score': 0.9994446635246277}] Impounding a person’s vehicle leads to extreme financial hardship, as individuals are required to pay tow fees and daily storage fees to the tow company.\n",
      "[{'label': 'NEGATIVE', 'score': 0.9997888803482056}] These fees quickly balloon to thousands of dollars and often lead to people losing their vehicles.\n",
      "[{'label': 'NEGATIVE', 'score': 0.9906828999519348}] In addition to the financial strain this poses, it will cause people to become reliant on public transportation, during a time when we are ordered to avoid groups of strangers.\n",
      "[{'label': 'NEGATIVE', 'score': 0.9988002777099609}] In particular, towing for expired registration will disproportionately affect low-income people who are already economically burdened by the effects of Covid-19.\n",
      "[{'label': 'NEGATIVE', 'score': 0.9997668862342834}] A car’s registration may lapse for many poverty-related reasons, including inability to pay registration fees, holds on registration until all parking tickets are resolved, and failing a smog test.\n",
      "[{'label': 'NEGATIVE', 'score': 0.9978879690170288}] Towing the car will only exacerbate these issues.\n",
      "[{'label': 'NEGATIVE', 'score': 0.9997604489326477}] The City’s current programs for low-income individuals to address parking tickets is insufficient.\n",
      "[{'label': 'NEGATIVE', 'score': 0.9972689747810364}] The Community Assistance Parking Program (CAPP) is only available to people who are already unhoused; people at imminent risk of homelessness or who are otherwise financially burdened by the tickets cannot access the program.\n",
      "[{'label': 'NEGATIVE', 'score': 0.9995723366737366}] The City’s Installment Payment Plans provide little relief because they either require such a large up front payment that is often impossible for a low-income person to pay or have so many restrictions that they are functionally unavailable for many people.\n",
      "[{'label': 'NEGATIVE', 'score': 0.9996151328086853}] Until there is a meaningful program to provide relief to people that cannot afford these tickets, the City should not resume enforcement.\n",
      "[{'label': 'NEGATIVE', 'score': 0.9755871891975403}]   \f",
      "Communication from Public  Jazmine Johnson 09/30/2020 10:40 AM 20-0147-S7       Name: Date Submitted: Council File\n",
      "[{'label': 'NEGATIVE', 'score': 0.9898175597190857}] No: Comments for Public Posting:  \n",
      "[{'label': 'NEGATIVE', 'score': 0.9757081866264343}] While the decline in revenue due to relaxed parking enforcement is understandably of great concern to the city, the livelihood of its residents must be prioritized.\n",
      "[{'label': 'POSITIVE', 'score': 0.9985710978507996}] We are still in the midst of a pandemic and many residents are still working and learning from home.\n",
      "[{'label': 'NEGATIVE', 'score': 0.9979014992713928}] There is already a strain on available parking in many communities, and reinstating disruptive activities such as street cleaning will only create additional stress and worry for those struggling to work from home, serve as a teacher for their children, secure care for their children or dependent adults, and juggle any other tasks that have been thrust upon them due to stay-at-home orders.\n",
      "[{'label': 'NEGATIVE', 'score': 0.9907976388931274}] Additionally, thousands of families, especially those facing financial insecurity prior to the pandemic, would be greatly impacted by any additional costs incurred as a result of a parking citation.\n",
      "[{'label': 'NEGATIVE', 'score': 0.999019980430603}] Moreover, unhoused folks, who are already some of the most vulnerable in our communities, would be most greatly impacted by the resumption of parking enforcement and street sweeping services by potentially further displacing them.\n",
      "[{'label': 'POSITIVE', 'score': 0.9998348951339722}] Now is the time for innovative thinking and creative solutions to the city's fiscal challenges.\n"
     ]
    },
    {
     "name": "stdout",
     "output_type": "stream",
     "text": [
      "[{'label': 'NEGATIVE', 'score': 0.9985065460205078}] For example, maybe the city can reduce costs by reducing the number and frequency of deployment of street sweeping vehicles and temporarily shift the roles of fleet operators to a different city service.\n",
      "[{'label': 'NEGATIVE', 'score': 0.9981938004493713}] Plainly, the loss of revenue is a challenge for the city, but recovering that revenue stream should not come on the backs of LA residents who are still dealing with the economic and social impacts of COVID-19.\n",
      "[{'label': 'NEGATIVE', 'score': 0.9540457129478455}] I urge City Council to do what's best for its constituents and extend the temporary suspension of parking restrictions and enforcement.\n",
      "[{'label': 'NEGATIVE', 'score': 0.952495276927948}]   \f",
      "Communication from Public  Daniel Gaines 09/30/2020 09:37 AM 20-0147-S7       Name: Date Submitted: Council File\n",
      "[{'label': 'NEGATIVE', 'score': 0.9898175597190857}] No: Comments for Public Posting:  \n",
      "[{'label': 'POSITIVE', 'score': 0.9984562397003174}] The pandemic still has people working and students learning from home.\n",
      "[{'label': 'NEGATIVE', 'score': 0.999187707901001}] This action will have a disproportionately harsh impact on low-income and/or unhoused residents.\n",
      "[{'label': 'NEGATIVE', 'score': 0.9840245842933655}] During a previous suspension, Council passed a motion that would give people a week notice before enforcement resumed.\n",
      "[{'label': 'NEGATIVE', 'score': 0.990635871887207}] Why no advance notice this time?\n",
      "[{'label': 'NEGATIVE', 'score': 0.9992323517799377}] Why resume parking enforcement now?\n",
      "[{'label': 'NEGATIVE', 'score': 0.9995928406715393}] The loss of revenue is a challenge for the city.\n",
      "[{'label': 'NEGATIVE', 'score': 0.9960106611251831}] But recovering that revenue stream should not come on the backs of LA residents who are still dealing with the economic and social impacts of COVID-19.\n",
      "[{'label': 'NEGATIVE', 'score': 0.9835943579673767}]   \f",
      "Communication from Public      Name: Date Submitted: Council File\n",
      "[{'label': 'NEGATIVE', 'score': 0.9898175597190857}] No: Comments for Public Posting:  \n",
      "[{'label': 'NEGATIVE', 'score': 0.9975237846374512}] I request that the City Council does not resume parking  Cooper Kenward 09/30/2020 08:18 PM 20-0147-S7   enforcement on Thursday.\n",
      "[{'label': 'POSITIVE', 'score': 0.9984562397003174}] The pandemic still has people working and students learning from home.\n",
      "[{'label': 'NEGATIVE', 'score': 0.9994410276412964}] This action will have a disproportionately harsh impact on low-income and/or unhoused residents!\n",
      "[{'label': 'NEGATIVE', 'score': 0.9840245842933655}] During a previous suspension, Council passed a motion that would give people a week notice before enforcement resumed.\n",
      "[{'label': 'NEGATIVE', 'score': 0.990635871887207}] Why no advance notice this time?\n",
      "[{'label': 'NEGATIVE', 'score': 0.9992323517799377}] Why resume parking enforcement now?\n",
      "[{'label': 'NEGATIVE', 'score': 0.9995928406715393}] The loss of revenue is a challenge for the city.\n",
      "[{'label': 'NEGATIVE', 'score': 0.9960106611251831}] But recovering that revenue stream should not come on the backs of LA residents who are still dealing with the economic and social impacts of COVID-19.\n",
      "[{'label': 'POSITIVE', 'score': 0.9990478157997131}] Thank you, Cooper Kenward   \f",
      "Communication from Public  Michelle 09/30/2020 01:57 PM 20-0147-S7       Name:\n",
      "[{'label': 'NEGATIVE', 'score': 0.9874144792556763}] Date Submitted: Council File No: Comments for Public Posting:  I am a resident of the El Sereno/Rose Hills area\n",
      "[{'label': 'POSITIVE', 'score': 0.5159861445426941}] and I want to encourage the Council to RESUME parking enforcement for previously suspended parking infractions and proposed economic relief measures for parking fines as recommended by the Transportation Commission.\n",
      "[{'label': 'NEGATIVE', 'score': 0.9966916441917419}] I understand that some are concerned with COVID but this has been going on long before the pandemic arrived.\n",
      "[{'label': 'NEGATIVE', 'score': 0.6090168356895447}] Since the City suspended enforcement of parking there has been in an increase in the number of people parking and staying for months at a time at particular locations in residential neighborhoods.\n",
      "[{'label': 'POSITIVE', 'score': 0.915480375289917}] Many of the people who park and stay use the adjacent sidewalk and street right-of-way (ROW) as their own personal property.\n",
      "[{'label': 'NEGATIVE', 'score': 0.998419463634491}] They are using the sidewalk to sit, cook, store items, drink and use drugs in the ROW and always leaving their trash behind, sometimes even human waste.\n",
      "[{'label': 'NEGATIVE', 'score': 0.9962418675422668}] The use of the ROW in this way detracts from the quality of life for residents in the neighborhood.\n",
      "[{'label': 'NEGATIVE', 'score': 0.9966652989387512}] These are not people out of work due to the pandemic and are regularly using drugs or are mentally ill as all neighborhood residents have voiced concern over the last several months to local police of disturbing occurrences on the streets, such as physical harassment like following daily walkers while screaming obscenities, slashing car tires, banging and kicking cars stopped at red lights, leaving trash in yards (one man actually asked me if he could stash something of his in my front yard bushes) and threatening many just crossing the streets.\n",
      "[{'label': 'NEGATIVE', 'score': 0.993831992149353}] There was even a death a few months ago at the El Sereno Post Office.\n",
      "[{'label': 'POSITIVE', 'score': 0.9832335114479065}] Parking enforcement may not be the answer but it's a start to what the City of Los Angeles should start doing to help get the homeless population off the streets to begin with.\n",
      "[{'label': 'POSITIVE', 'score': 0.9976846575737}] Loosening parking restrictions is just enabling more homeless to arrive and expand our Huntington Drive encampment to overflow.\n",
      "[{'label': 'NEGATIVE', 'score': 0.9981217384338379}] Of course it is the same all over the city and this is why some other resolution even temporary should be looked into.\n",
      "[{'label': 'NEGATIVE', 'score': 0.9991555213928223}] Can't vacant lots throughout LA County and in industrial or commercial zones be used for homeless car and RV parking and not just dumped in residential neighborhoods and in front of schools?\n",
      "[{'label': 'NEGATIVE', 'score': 0.9990725517272949}] Speaking from experience as I literally saw a flatbed tow truck bring a homeless couple's RV and dump it on our residential block, why you may ask, because it happened to be in front of the only vacant lot on our block.\n",
      "[{'label': 'NEGATIVE', 'score': 0.9996577501296997}] Where did this truck come from and why were they allowed to dump it there?\n",
      "[{'label': 'NEGATIVE', 'score': 0.9977977871894836}] We also have a gentleman that has  \f",
      "allowed to dump it there?\n",
      "[{'label': 'NEGATIVE', 'score': 0.8771555423736572}] We also have a gentleman that has parked his vehicle on the corner of Collis and Huntington Dr. all spring and summer long and has even brought friends and has since turned the corner into his own personal camp with a BBQ, furniture and several pound's of trash right next to a bus stop.\n",
      "[{'label': 'NEGATIVE', 'score': 0.9995906352996826}] We are getting tired of picking up trash and dare not go near the broken crack pipes and meth tools left behind, again only to be told by the police that there's nothing they can do.\n",
      "[{'label': 'NEGATIVE', 'score': 0.8895297050476074}] Really?\n",
      "[{'label': 'NEGATIVE', 'score': 0.9995921850204468}] Use some of the HHH money to rent lots from property owners that just let their industrial or commercial lots sit and rot or offer some other incentive?\n",
      "[{'label': 'NEGATIVE', 'score': 0.9976325631141663}] These lots could also be used for tent camps.\n",
      "[{'label': 'POSITIVE', 'score': 0.9196690320968628}] The City can provide showers, counseling or other services to them there while not having them living on the streets or constantly wandering throughout residential neighborhoods.\n",
      "[{'label': 'NEGATIVE', 'score': 0.9926796555519104}] Many of my neighbors have used 311 to address all these issues and nothing has been done or we were told that their hands are tied until the City makes a decision.\n",
      "[{'label': 'POSITIVE', 'score': 0.9994580149650574}] Please make the right decision now and start by reinforcing parking just like all our surrounding cities.\n"
     ]
    },
    {
     "name": "stdout",
     "output_type": "stream",
     "text": [
      "[{'label': 'NEGATIVE', 'score': 0.894432544708252}] I find it comical that I don't see the same homeless encampments and abandoned cars just across the city border on Huntington Drive in Alhambra.\n",
      "[{'label': 'NEGATIVE', 'score': 0.9992703795433044}] Could it be that their Police Department just sends them our way since they know that the City of Los Angeles will do nothing about it?\n",
      "[{'label': 'POSITIVE', 'score': 0.904024064540863}] Please I beg you council, do something about it.\n",
      "[{'label': 'POSITIVE', 'score': 0.9998352527618408}] Thank You   \f",
      "\n"
     ]
    }
   ],
   "source": [
    "# Allocate a pipeline for sentiment-analysis\n",
    "classifier = pipeline('sentiment-analysis')\n",
    "\n",
    "for i in doc.sents:\n",
    "    print(classifier(str(i)), i)"
   ]
  },
  {
   "cell_type": "code",
   "execution_count": 16,
   "metadata": {
    "scrolled": false
   },
   "outputs": [],
   "source": [
    "# from spacy import displacy\n",
    "\n",
    "# sentence = text[0]\n",
    "# sentence_nlp = nlp(sentence)\n",
    "\n",
    "# # visualize named entities\n",
    "# displacy.render(sentence_nlp, style='ent', jupyter=True)"
   ]
  }
 ],
 "metadata": {
  "kernelspec": {
   "display_name": "Python 3",
   "language": "python",
   "name": "python3"
  },
  "language_info": {
   "codemirror_mode": {
    "name": "ipython",
    "version": 3
   },
   "file_extension": ".py",
   "mimetype": "text/x-python",
   "name": "python",
   "nbconvert_exporter": "python",
   "pygments_lexer": "ipython3",
   "version": "3.7.6"
  }
 },
 "nbformat": 4,
 "nbformat_minor": 4
}
