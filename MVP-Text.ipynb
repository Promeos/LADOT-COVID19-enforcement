{
 "cells": [
  {
   "cell_type": "markdown",
   "metadata": {},
   "source": [
    "# Acquire\n",
    "\n",
    "- https://www.latimes.com/california/story/2020-03-16/los-angeles-parking-ticket-street-sweeping-coronavirus-covid19\n",
    "- https://www.latimes.com/california/story/2020-10-15/street-sweeping-parking-enforcement-resumes-today\n",
    "- https://abc7.com/society/las-resumed-parking-enforcement-prompts-outcry/7079278/\n",
    "\n",
    "- https://www.theeastsiderla.com/site/about_the_eastsider/\n",
    "- https://xtown.la/2020/10/15/parking-ticket-los-angeles/"
   ]
  },
  {
   "cell_type": "code",
   "execution_count": 1,
   "metadata": {},
   "outputs": [],
   "source": [
    "import numpy as np\n",
    "import pandas as pd\n",
    "import os\n",
    "import spacy\n",
    "\n",
    "from pdfminer.high_level import extract_text\n",
    "from transformers import pipeline"
   ]
  },
  {
   "cell_type": "code",
   "execution_count": 2,
   "metadata": {
    "scrolled": false
   },
   "outputs": [
    {
     "data": {
      "text/plain": [
       "'CITY OF LOS ANGELES\\nINTER-DEPARTMENTAL MEMORANDUM\\n\\nDate:\\n\\nSeptember 17, 2020\\n\\nTo:\\n\\nHonorable City Council\\nc/o City Clerk, Room 395, City Hall\\nAttention: Honorable Mike Bonin, Chair, Transportation Committee\\n\\nFrom:\\n\\nSeleta J. Reynolds, General Manager ^ \\nDepartment of Transportation\\n\\nSubject:\\n\\nTRANSITION PLAN TO RESUME PARKING ENFORCEMENT FOR PREVIOUSLY SUSPENDED \\n\\nPARKING INFRACTIONS AND PROPOSED ECONOMIC RELIEF MEASURES FOR PARKING \\n\\nFINES\\n\\nSUMMARY\\n\\nThe Los Angeles Department of Transportation '"
      ]
     },
     "execution_count": 2,
     "metadata": {},
     "output_type": "execute_result"
    }
   ],
   "source": [
    "# Load in the text from a pdf using pdfminer\n",
    "extract_text('city-documents/city-council/LADOT-transition-plan.pdf')[:500]"
   ]
  },
  {
   "cell_type": "code",
   "execution_count": 3,
   "metadata": {},
   "outputs": [
    {
     "name": "stdout",
     "output_type": "stream",
     "text": [
      "city-documents/city-council/LADOT-transition-plan.pdf\n",
      "city-documents/city-council/public-outreach-period.pdf\n",
      "city-documents/city-council/relief-report-motion.pdf\n",
      "city-documents/city-council/relief-program-report-121720.pdf\n",
      "city-documents/public-comments/public-comments-parking-enforcement.pdf\n",
      "city-documents/LADOT/enforcement.pdf\n",
      "city-documents/LADOT/citation-pay-program.pdf\n"
     ]
    }
   ],
   "source": [
    "# Create an empty dictionary to scrape text from all the pdfs\n",
    "# stored in the city-documents folder.\n",
    "documents = []\n",
    "\n",
    "for root, dirs, files in os.walk(\"city-documents/\"):\n",
    "    for file in files:\n",
    "        # If the ends with .pdf, display the path\n",
    "        if file.endswith(\".pdf\"):\n",
    "            print(os.path.join(root, file))\n",
    "            # Add the filename and relative path as a dictionary to documents\n",
    "            documents.append({'pdf_name': file,\n",
    "                              'path': os.path.join(root, file)})"
   ]
  },
  {
   "cell_type": "code",
   "execution_count": 96,
   "metadata": {},
   "outputs": [
    {
     "data": {
      "text/html": [
       "<div>\n",
       "<style scoped>\n",
       "    .dataframe tbody tr th:only-of-type {\n",
       "        vertical-align: middle;\n",
       "    }\n",
       "\n",
       "    .dataframe tbody tr th {\n",
       "        vertical-align: top;\n",
       "    }\n",
       "\n",
       "    .dataframe thead th {\n",
       "        text-align: right;\n",
       "    }\n",
       "</style>\n",
       "<table border=\"1\" class=\"dataframe\">\n",
       "  <thead>\n",
       "    <tr style=\"text-align: right;\">\n",
       "      <th></th>\n",
       "      <th>pdf_name</th>\n",
       "      <th>path</th>\n",
       "    </tr>\n",
       "  </thead>\n",
       "  <tbody>\n",
       "    <tr>\n",
       "      <th>0</th>\n",
       "      <td>LADOT-transition-plan.pdf</td>\n",
       "      <td>city-documents/city-council/LADOT-transition-p...</td>\n",
       "    </tr>\n",
       "    <tr>\n",
       "      <th>1</th>\n",
       "      <td>public-outreach-period.pdf</td>\n",
       "      <td>city-documents/city-council/public-outreach-pe...</td>\n",
       "    </tr>\n",
       "    <tr>\n",
       "      <th>2</th>\n",
       "      <td>relief-report-motion.pdf</td>\n",
       "      <td>city-documents/city-council/relief-report-moti...</td>\n",
       "    </tr>\n",
       "    <tr>\n",
       "      <th>3</th>\n",
       "      <td>relief-program-report-121720.pdf</td>\n",
       "      <td>city-documents/city-council/relief-program-rep...</td>\n",
       "    </tr>\n",
       "    <tr>\n",
       "      <th>4</th>\n",
       "      <td>public-comments-parking-enforcement.pdf</td>\n",
       "      <td>city-documents/public-comments/public-comments...</td>\n",
       "    </tr>\n",
       "    <tr>\n",
       "      <th>5</th>\n",
       "      <td>enforcement.pdf</td>\n",
       "      <td>city-documents/LADOT/enforcement.pdf</td>\n",
       "    </tr>\n",
       "    <tr>\n",
       "      <th>6</th>\n",
       "      <td>citation-pay-program.pdf</td>\n",
       "      <td>city-documents/LADOT/citation-pay-program.pdf</td>\n",
       "    </tr>\n",
       "  </tbody>\n",
       "</table>\n",
       "</div>"
      ],
      "text/plain": [
       "                                  pdf_name  \\\n",
       "0                LADOT-transition-plan.pdf   \n",
       "1               public-outreach-period.pdf   \n",
       "2                 relief-report-motion.pdf   \n",
       "3         relief-program-report-121720.pdf   \n",
       "4  public-comments-parking-enforcement.pdf   \n",
       "5                          enforcement.pdf   \n",
       "6                 citation-pay-program.pdf   \n",
       "\n",
       "                                                path  \n",
       "0  city-documents/city-council/LADOT-transition-p...  \n",
       "1  city-documents/city-council/public-outreach-pe...  \n",
       "2  city-documents/city-council/relief-report-moti...  \n",
       "3  city-documents/city-council/relief-program-rep...  \n",
       "4  city-documents/public-comments/public-comments...  \n",
       "5               city-documents/LADOT/enforcement.pdf  \n",
       "6      city-documents/LADOT/citation-pay-program.pdf  "
      ]
     },
     "execution_count": 96,
     "metadata": {},
     "output_type": "execute_result"
    }
   ],
   "source": [
    "# Convert the list of dictionaries into a dataframe\n",
    "pdfs = pd.DataFrame(documents)\n",
    "pdfs"
   ]
  },
  {
   "cell_type": "code",
   "execution_count": 97,
   "metadata": {},
   "outputs": [
    {
     "ename": "TypeError",
     "evalue": "Unsupported input type: <class 'pandas.core.series.Series'>",
     "output_type": "error",
     "traceback": [
      "\u001b[0;31m---------------------------------------------------------------------------\u001b[0m",
      "\u001b[0;31mTypeError\u001b[0m                                 Traceback (most recent call last)",
      "\u001b[0;32m<ipython-input-97-2a2ffae1f803>\u001b[0m in \u001b[0;36m<module>\u001b[0;34m\u001b[0m\n\u001b[1;32m      4\u001b[0m \u001b[0;31m# Scrape the text from each pdf and store the result in text\u001b[0m\u001b[0;34m\u001b[0m\u001b[0;34m\u001b[0m\u001b[0;34m\u001b[0m\u001b[0m\n\u001b[1;32m      5\u001b[0m \u001b[0;32mfor\u001b[0m \u001b[0mindex\u001b[0m\u001b[0;34m,\u001b[0m \u001b[0mfile\u001b[0m \u001b[0;32min\u001b[0m \u001b[0mpdfs\u001b[0m\u001b[0;34m.\u001b[0m\u001b[0miterrows\u001b[0m\u001b[0;34m(\u001b[0m\u001b[0;34m)\u001b[0m\u001b[0;34m:\u001b[0m\u001b[0;34m\u001b[0m\u001b[0;34m\u001b[0m\u001b[0m\n\u001b[0;32m----> 6\u001b[0;31m     \u001b[0mtext\u001b[0m\u001b[0;34m.\u001b[0m\u001b[0mappend\u001b[0m\u001b[0;34m(\u001b[0m\u001b[0mextract_text\u001b[0m\u001b[0;34m(\u001b[0m\u001b[0mfile\u001b[0m\u001b[0;34m)\u001b[0m\u001b[0;34m)\u001b[0m\u001b[0;34m\u001b[0m\u001b[0;34m\u001b[0m\u001b[0m\n\u001b[0m",
      "\u001b[0;32m/usr/local/anaconda3/lib/python3.7/site-packages/pdfminer/high_level.py\u001b[0m in \u001b[0;36mextract_text\u001b[0;34m(pdf_file, password, page_numbers, maxpages, caching, codec, laparams)\u001b[0m\n\u001b[1;32m    106\u001b[0m         \u001b[0mlaparams\u001b[0m \u001b[0;34m=\u001b[0m \u001b[0mLAParams\u001b[0m\u001b[0;34m(\u001b[0m\u001b[0;34m)\u001b[0m\u001b[0;34m\u001b[0m\u001b[0;34m\u001b[0m\u001b[0m\n\u001b[1;32m    107\u001b[0m \u001b[0;34m\u001b[0m\u001b[0m\n\u001b[0;32m--> 108\u001b[0;31m     \u001b[0;32mwith\u001b[0m \u001b[0mopen_filename\u001b[0m\u001b[0;34m(\u001b[0m\u001b[0mpdf_file\u001b[0m\u001b[0;34m,\u001b[0m \u001b[0;34m\"rb\"\u001b[0m\u001b[0;34m)\u001b[0m \u001b[0;32mas\u001b[0m \u001b[0mfp\u001b[0m\u001b[0;34m,\u001b[0m \u001b[0mStringIO\u001b[0m\u001b[0;34m(\u001b[0m\u001b[0;34m)\u001b[0m \u001b[0;32mas\u001b[0m \u001b[0moutput_string\u001b[0m\u001b[0;34m:\u001b[0m\u001b[0;34m\u001b[0m\u001b[0;34m\u001b[0m\u001b[0m\n\u001b[0m\u001b[1;32m    109\u001b[0m         \u001b[0mrsrcmgr\u001b[0m \u001b[0;34m=\u001b[0m \u001b[0mPDFResourceManager\u001b[0m\u001b[0;34m(\u001b[0m\u001b[0mcaching\u001b[0m\u001b[0;34m=\u001b[0m\u001b[0mcaching\u001b[0m\u001b[0;34m)\u001b[0m\u001b[0;34m\u001b[0m\u001b[0;34m\u001b[0m\u001b[0m\n\u001b[1;32m    110\u001b[0m         device = TextConverter(rsrcmgr, output_string, codec=codec,\n",
      "\u001b[0;32m/usr/local/anaconda3/lib/python3.7/site-packages/pdfminer/utils.py\u001b[0m in \u001b[0;36m__init__\u001b[0;34m(self, filename, *args, **kwargs)\u001b[0m\n\u001b[1;32m     30\u001b[0m             \u001b[0mself\u001b[0m\u001b[0;34m.\u001b[0m\u001b[0mclosing\u001b[0m \u001b[0;34m=\u001b[0m \u001b[0;32mFalse\u001b[0m\u001b[0;34m\u001b[0m\u001b[0;34m\u001b[0m\u001b[0m\n\u001b[1;32m     31\u001b[0m         \u001b[0;32melse\u001b[0m\u001b[0;34m:\u001b[0m\u001b[0;34m\u001b[0m\u001b[0;34m\u001b[0m\u001b[0m\n\u001b[0;32m---> 32\u001b[0;31m             \u001b[0;32mraise\u001b[0m \u001b[0mTypeError\u001b[0m\u001b[0;34m(\u001b[0m\u001b[0;34m'Unsupported input type: %s'\u001b[0m \u001b[0;34m%\u001b[0m \u001b[0mtype\u001b[0m\u001b[0;34m(\u001b[0m\u001b[0mfilename\u001b[0m\u001b[0;34m)\u001b[0m\u001b[0;34m)\u001b[0m\u001b[0;34m\u001b[0m\u001b[0;34m\u001b[0m\u001b[0m\n\u001b[0m\u001b[1;32m     33\u001b[0m \u001b[0;34m\u001b[0m\u001b[0m\n\u001b[1;32m     34\u001b[0m     \u001b[0;32mdef\u001b[0m \u001b[0m__enter__\u001b[0m\u001b[0;34m(\u001b[0m\u001b[0mself\u001b[0m\u001b[0;34m)\u001b[0m\u001b[0;34m:\u001b[0m\u001b[0;34m\u001b[0m\u001b[0;34m\u001b[0m\u001b[0m\n",
      "\u001b[0;31mTypeError\u001b[0m: Unsupported input type: <class 'pandas.core.series.Series'>"
     ]
    }
   ],
   "source": [
    "# Create an empty list to store text extracted from each pdf.\n",
    "text = []\n",
    "\n",
    "# Scrape the text from each pdf and store the result in text\n",
    "for index, file in pdfs.iterrows():\n",
    "    text.append(extract_text(file['pat']))"
   ]
  },
  {
   "cell_type": "code",
   "execution_count": 8,
   "metadata": {},
   "outputs": [
    {
     "data": {
      "text/plain": [
       "7"
      ]
     },
     "execution_count": 8,
     "metadata": {},
     "output_type": "execute_result"
    }
   ],
   "source": [
    "# Display the number of documents stored in the variable `text`.\n",
    "len(text)"
   ]
  },
  {
   "cell_type": "markdown",
   "metadata": {},
   "source": [
    "# Prepare"
   ]
  },
  {
   "cell_type": "code",
   "execution_count": 72,
   "metadata": {},
   "outputs": [
    {
     "name": "stdout",
     "output_type": "stream",
     "text": [
      "\n",
      "DOCUMENT #1\n",
      "-----------------\n",
      "CITY OF LOS ANGELES\n",
      "\n",
      "DOCUMENT #2\n",
      "-----------------\n",
      "MOTION\n",
      "\n",
      "3 0 A\n",
      "\n",
      "I MOV\n",
      "\n",
      "DOCUMENT #3\n",
      "-----------------\n",
      "TRANSPORTATION\n",
      "\n",
      "MOTI\n",
      "\n",
      "DOCUMENT #4\n",
      "-----------------\n",
      "File No. 20-1365\n",
      "\n",
      "TR\n",
      "\n",
      "DOCUMENT #5\n",
      "-----------------\n",
      "Communication from P\n",
      "\n",
      "DOCUMENT #6\n",
      "-----------------\n",
      "FOR IMMEDI\n",
      "\n",
      "DOCUMENT #7\n",
      "-----------------\n",
      "FOR IMMEDI\n"
     ]
    }
   ],
   "source": [
    "# Display the first 20 characters of each docuemnt in the variable `text`.\n",
    "for i in range(0, len(text)):\n",
    "    print(f\"\\nDOCUMENT #{i+1}\")\n",
    "    print(\"-----------------\")\n",
    "    print(text[i][:20].strip())"
   ]
  },
  {
   "cell_type": "code",
   "execution_count": 52,
   "metadata": {
    "scrolled": false
   },
   "outputs": [],
   "source": [
    "# text[4] contains the pdf named 'city-documents/public-comments/public-comments-parking-enforcement.pdf'\n",
    "# It is a collection of citizens comments on parking reinforcement during town hall meetings.\n",
    "public_comments = text[4].replace(\"\\xa0\", ' ').replace('\\n', ' ').strip()"
   ]
  },
  {
   "cell_type": "markdown",
   "metadata": {},
   "source": [
    "# Explore"
   ]
  },
  {
   "cell_type": "code",
   "execution_count": 53,
   "metadata": {},
   "outputs": [],
   "source": [
    "# Instantiate a model to analyze sentiment of public comments.\n",
    "classifier = pipeline('sentiment-analysis')\n",
    "\n",
    "# Pass the public comments into spacy's nlp model\n",
    "doc = nlp(public_comments)\n",
    "\n",
    "filtered_words = [token for token in doc if not token.is_stop]"
   ]
  },
  {
   "cell_type": "code",
   "execution_count": 76,
   "metadata": {
    "scrolled": false
   },
   "outputs": [],
   "source": [
    "df_words_sentiment = pd.DataFrame()\n",
    "\n",
    "for word in filtered_words:\n",
    "    # For each filtered token, analyze the sentiment\n",
    "    if word.is_alpha:\n",
    "        sentiment_data = classifier(word.text)[0]\n",
    "\n",
    "        # Extract the sentiment and score from the dict\n",
    "        sentiment = sentiment_data['label']\n",
    "        score = sentiment_data['score']\n",
    "\n",
    "        # Append the word, sentiment, and score as a row in a dataframe\n",
    "        df_words_sentiment = df_words_sentiment.append([{'word': word.text.lower(),\n",
    "                                                         'sentiment': sentiment,\n",
    "                                                         'score': score}])"
   ]
  },
  {
   "cell_type": "code",
   "execution_count": 77,
   "metadata": {},
   "outputs": [
    {
     "data": {
      "text/html": [
       "<div>\n",
       "<style scoped>\n",
       "    .dataframe tbody tr th:only-of-type {\n",
       "        vertical-align: middle;\n",
       "    }\n",
       "\n",
       "    .dataframe tbody tr th {\n",
       "        vertical-align: top;\n",
       "    }\n",
       "\n",
       "    .dataframe thead th {\n",
       "        text-align: right;\n",
       "    }\n",
       "</style>\n",
       "<table border=\"1\" class=\"dataframe\">\n",
       "  <thead>\n",
       "    <tr style=\"text-align: right;\">\n",
       "      <th></th>\n",
       "      <th>word</th>\n",
       "      <th>sentiment</th>\n",
       "      <th>score</th>\n",
       "    </tr>\n",
       "  </thead>\n",
       "  <tbody>\n",
       "    <tr>\n",
       "      <th>0</th>\n",
       "      <td>communication</td>\n",
       "      <td>POSITIVE</td>\n",
       "      <td>0.997782</td>\n",
       "    </tr>\n",
       "    <tr>\n",
       "      <th>0</th>\n",
       "      <td>public</td>\n",
       "      <td>POSITIVE</td>\n",
       "      <td>0.998105</td>\n",
       "    </tr>\n",
       "    <tr>\n",
       "      <th>0</th>\n",
       "      <td>date</td>\n",
       "      <td>POSITIVE</td>\n",
       "      <td>0.998968</td>\n",
       "    </tr>\n",
       "    <tr>\n",
       "      <th>0</th>\n",
       "      <td>submitted</td>\n",
       "      <td>POSITIVE</td>\n",
       "      <td>0.994183</td>\n",
       "    </tr>\n",
       "    <tr>\n",
       "      <th>0</th>\n",
       "      <td>council</td>\n",
       "      <td>POSITIVE</td>\n",
       "      <td>0.990301</td>\n",
       "    </tr>\n",
       "    <tr>\n",
       "      <th>...</th>\n",
       "      <td>...</td>\n",
       "      <td>...</td>\n",
       "      <td>...</td>\n",
       "    </tr>\n",
       "    <tr>\n",
       "      <th>0</th>\n",
       "      <td>los</td>\n",
       "      <td>POSITIVE</td>\n",
       "      <td>0.904931</td>\n",
       "    </tr>\n",
       "    <tr>\n",
       "      <th>0</th>\n",
       "      <td>angeles</td>\n",
       "      <td>POSITIVE</td>\n",
       "      <td>0.997110</td>\n",
       "    </tr>\n",
       "    <tr>\n",
       "      <th>0</th>\n",
       "      <td>beg</td>\n",
       "      <td>NEGATIVE</td>\n",
       "      <td>0.997654</td>\n",
       "    </tr>\n",
       "    <tr>\n",
       "      <th>0</th>\n",
       "      <td>council</td>\n",
       "      <td>POSITIVE</td>\n",
       "      <td>0.990301</td>\n",
       "    </tr>\n",
       "    <tr>\n",
       "      <th>0</th>\n",
       "      <td>thank</td>\n",
       "      <td>POSITIVE</td>\n",
       "      <td>0.999828</td>\n",
       "    </tr>\n",
       "  </tbody>\n",
       "</table>\n",
       "<p>965 rows × 3 columns</p>\n",
       "</div>"
      ],
      "text/plain": [
       "             word sentiment     score\n",
       "0   communication  POSITIVE  0.997782\n",
       "0          public  POSITIVE  0.998105\n",
       "0            date  POSITIVE  0.998968\n",
       "0       submitted  POSITIVE  0.994183\n",
       "0         council  POSITIVE  0.990301\n",
       "..            ...       ...       ...\n",
       "0             los  POSITIVE  0.904931\n",
       "0         angeles  POSITIVE  0.997110\n",
       "0             beg  NEGATIVE  0.997654\n",
       "0         council  POSITIVE  0.990301\n",
       "0           thank  POSITIVE  0.999828\n",
       "\n",
       "[965 rows x 3 columns]"
      ]
     },
     "execution_count": 77,
     "metadata": {},
     "output_type": "execute_result"
    }
   ],
   "source": [
    "df_words_sentiment"
   ]
  },
  {
   "cell_type": "code",
   "execution_count": 80,
   "metadata": {},
   "outputs": [
    {
     "data": {
      "text/plain": [
       "parking        29\n",
       "city           21\n",
       "people         20\n",
       "enforcement    17\n",
       "public         16\n",
       "               ..\n",
       "fall            1\n",
       "turned          1\n",
       "access          1\n",
       "care            1\n",
       "urge            1\n",
       "Name: word, Length: 467, dtype: int64"
      ]
     },
     "execution_count": 80,
     "metadata": {},
     "output_type": "execute_result"
    }
   ],
   "source": [
    "df_words_sentiment.word.value_counts()"
   ]
  },
  {
   "cell_type": "code",
   "execution_count": 79,
   "metadata": {},
   "outputs": [
    {
     "data": {
      "text/plain": [
       "POSITIVE    766\n",
       "NEGATIVE    199\n",
       "Name: sentiment, dtype: int64"
      ]
     },
     "execution_count": 79,
     "metadata": {},
     "output_type": "execute_result"
    }
   ],
   "source": [
    "df_words_sentiment.sentiment.value_counts()"
   ]
  },
  {
   "cell_type": "code",
   "execution_count": 92,
   "metadata": {},
   "outputs": [
    {
     "data": {
      "text/html": [
       "<div>\n",
       "<style scoped>\n",
       "    .dataframe tbody tr th:only-of-type {\n",
       "        vertical-align: middle;\n",
       "    }\n",
       "\n",
       "    .dataframe tbody tr th {\n",
       "        vertical-align: top;\n",
       "    }\n",
       "\n",
       "    .dataframe thead th {\n",
       "        text-align: right;\n",
       "    }\n",
       "</style>\n",
       "<table border=\"1\" class=\"dataframe\">\n",
       "  <thead>\n",
       "    <tr style=\"text-align: right;\">\n",
       "      <th></th>\n",
       "      <th></th>\n",
       "      <th>score</th>\n",
       "    </tr>\n",
       "    <tr>\n",
       "      <th>sentiment</th>\n",
       "      <th>word</th>\n",
       "      <th></th>\n",
       "    </tr>\n",
       "  </thead>\n",
       "  <tbody>\n",
       "    <tr>\n",
       "      <th rowspan=\"11\" valign=\"top\">POSITIVE</th>\n",
       "      <th>parking</th>\n",
       "      <td>29</td>\n",
       "    </tr>\n",
       "    <tr>\n",
       "      <th>city</th>\n",
       "      <td>21</td>\n",
       "    </tr>\n",
       "    <tr>\n",
       "      <th>people</th>\n",
       "      <td>20</td>\n",
       "    </tr>\n",
       "    <tr>\n",
       "      <th>enforcement</th>\n",
       "      <td>17</td>\n",
       "    </tr>\n",
       "    <tr>\n",
       "      <th>public</th>\n",
       "      <td>16</td>\n",
       "    </tr>\n",
       "    <tr>\n",
       "      <th>...</th>\n",
       "      <td>...</td>\n",
       "    </tr>\n",
       "    <tr>\n",
       "      <th>concerned</th>\n",
       "      <td>1</td>\n",
       "    </tr>\n",
       "    <tr>\n",
       "      <th>company</th>\n",
       "      <td>1</td>\n",
       "    </tr>\n",
       "    <tr>\n",
       "      <th>community</th>\n",
       "      <td>1</td>\n",
       "    </tr>\n",
       "    <tr>\n",
       "      <th>comical</th>\n",
       "      <td>1</td>\n",
       "    </tr>\n",
       "    <tr>\n",
       "      <th>zones</th>\n",
       "      <td>1</td>\n",
       "    </tr>\n",
       "  </tbody>\n",
       "</table>\n",
       "<p>467 rows × 1 columns</p>\n",
       "</div>"
      ],
      "text/plain": [
       "                       score\n",
       "sentiment word              \n",
       "POSITIVE  parking         29\n",
       "          city            21\n",
       "          people          20\n",
       "          enforcement     17\n",
       "          public          16\n",
       "...                      ...\n",
       "          concerned        1\n",
       "          company          1\n",
       "          community        1\n",
       "          comical          1\n",
       "          zones            1\n",
       "\n",
       "[467 rows x 1 columns]"
      ]
     },
     "execution_count": 92,
     "metadata": {},
     "output_type": "execute_result"
    }
   ],
   "source": [
    "df_words_sentiment.groupby(by=['sentiment', 'word']).agg('count').sort_values('score', ascending=False)"
   ]
  },
  {
   "cell_type": "code",
   "execution_count": null,
   "metadata": {},
   "outputs": [],
   "source": []
  }
 ],
 "metadata": {
  "kernelspec": {
   "display_name": "Python 3",
   "language": "python",
   "name": "python3"
  },
  "language_info": {
   "codemirror_mode": {
    "name": "ipython",
    "version": 3
   },
   "file_extension": ".py",
   "mimetype": "text/x-python",
   "name": "python",
   "nbconvert_exporter": "python",
   "pygments_lexer": "ipython3",
   "version": "3.7.6"
  }
 },
 "nbformat": 4,
 "nbformat_minor": 4
}
