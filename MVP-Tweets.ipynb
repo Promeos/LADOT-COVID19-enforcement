{
 "cells": [
  {
   "cell_type": "markdown",
   "metadata": {},
   "source": [
    "# Analyzing @LADOTofficial tweets"
   ]
  },
  {
   "cell_type": "code",
   "execution_count": 1,
   "metadata": {},
   "outputs": [],
   "source": [
    "import pandas as pd\n",
    "import numpy as np\n",
    "import requests\n",
    "from requests import get\n",
    "import matplotlib.pyplot as plt\n",
    "import json\n",
    "import spacy\n",
    "import seaborn as sns\n",
    "from time import sleep\n",
    "\n",
    "import env"
   ]
  },
  {
   "cell_type": "markdown",
   "metadata": {},
   "source": [
    "### Notes:\n",
    "\n",
    "Hootsuite: https://www.youtube.com/watch?v=Ztk6PXD1EjU"
   ]
  },
  {
   "cell_type": "markdown",
   "metadata": {},
   "source": [
    "# Twitter API"
   ]
  },
  {
   "cell_type": "markdown",
   "metadata": {},
   "source": [
    "## Wrangle"
   ]
  },
  {
   "cell_type": "code",
   "execution_count": 2,
   "metadata": {},
   "outputs": [],
   "source": [
    "data = [\n",
    "        {\n",
    "            \"id\": \"17070113\",\n",
    "            \"name\": \"MayorOfLA\",\n",
    "            \"username\": \"MayorOfLA\"\n",
    "        },\n",
    "        {\n",
    "            \"id\": \"61261275\",\n",
    "            \"name\": \"LADOT\",\n",
    "            \"username\": \"LADOTofficial\"\n",
    "        },\n",
    "        {\n",
    "            \"id\": \"956763276\",\n",
    "            \"name\": \"Nury Martinez\",\n",
    "            \"username\": \"CD6Nury\"\n",
    "        },\n",
    "        {\n",
    "            \"id\": \"893602974\",\n",
    "            \"name\": \"Curren D. Price, Jr.\",\n",
    "            \"username\": \"CurrenDPriceJr\"\n",
    "        },\n",
    "        {\n",
    "            \"id\": \"341250146\",\n",
    "            \"name\": \"Joe Buscaino\",\n",
    "            \"username\": \"JoeBuscaino\"\n",
    "        }\n",
    "]\n",
    "\n",
    "# {\n",
    "# \"id\": \"1167156666\",\n",
    "# \"name\": \"Gil Cedillo\",\n",
    "# \"username\": \"cmgilcedillo\"\n",
    "# }"
   ]
  },
  {
   "cell_type": "code",
   "execution_count": 3,
   "metadata": {},
   "outputs": [],
   "source": [
    "twitter_accounts = pd.DataFrame.from_records(data)"
   ]
  },
  {
   "cell_type": "code",
   "execution_count": 4,
   "metadata": {},
   "outputs": [],
   "source": [
    "twitter_accounts.name = twitter_accounts.name.str.replace('MayorOfLA', 'Eric Garcetti')\n",
    "twitter_accounts.name = twitter_accounts.name.str.replace('LADOT', 'Los Angeles Department of Transportation')"
   ]
  },
  {
   "cell_type": "code",
   "execution_count": 5,
   "metadata": {},
   "outputs": [
    {
     "data": {
      "text/html": [
       "<div>\n",
       "<style scoped>\n",
       "    .dataframe tbody tr th:only-of-type {\n",
       "        vertical-align: middle;\n",
       "    }\n",
       "\n",
       "    .dataframe tbody tr th {\n",
       "        vertical-align: top;\n",
       "    }\n",
       "\n",
       "    .dataframe thead th {\n",
       "        text-align: right;\n",
       "    }\n",
       "</style>\n",
       "<table border=\"1\" class=\"dataframe\">\n",
       "  <thead>\n",
       "    <tr style=\"text-align: right;\">\n",
       "      <th></th>\n",
       "      <th>id</th>\n",
       "      <th>name</th>\n",
       "      <th>username</th>\n",
       "    </tr>\n",
       "  </thead>\n",
       "  <tbody>\n",
       "    <tr>\n",
       "      <th>0</th>\n",
       "      <td>17070113</td>\n",
       "      <td>Eric Garcetti</td>\n",
       "      <td>MayorOfLA</td>\n",
       "    </tr>\n",
       "    <tr>\n",
       "      <th>1</th>\n",
       "      <td>61261275</td>\n",
       "      <td>Los Angeles Department of Transportation</td>\n",
       "      <td>LADOTofficial</td>\n",
       "    </tr>\n",
       "    <tr>\n",
       "      <th>2</th>\n",
       "      <td>956763276</td>\n",
       "      <td>Nury Martinez</td>\n",
       "      <td>CD6Nury</td>\n",
       "    </tr>\n",
       "    <tr>\n",
       "      <th>3</th>\n",
       "      <td>893602974</td>\n",
       "      <td>Curren D. Price, Jr.</td>\n",
       "      <td>CurrenDPriceJr</td>\n",
       "    </tr>\n",
       "    <tr>\n",
       "      <th>4</th>\n",
       "      <td>341250146</td>\n",
       "      <td>Joe Buscaino</td>\n",
       "      <td>JoeBuscaino</td>\n",
       "    </tr>\n",
       "  </tbody>\n",
       "</table>\n",
       "</div>"
      ],
      "text/plain": [
       "          id                                      name        username\n",
       "0   17070113                             Eric Garcetti       MayorOfLA\n",
       "1   61261275  Los Angeles Department of Transportation   LADOTofficial\n",
       "2  956763276                             Nury Martinez         CD6Nury\n",
       "3  893602974                      Curren D. Price, Jr.  CurrenDPriceJr\n",
       "4  341250146                              Joe Buscaino     JoeBuscaino"
      ]
     },
     "execution_count": 5,
     "metadata": {},
     "output_type": "execute_result"
    }
   ],
   "source": [
    "twitter_accounts"
   ]
  },
  {
   "cell_type": "code",
   "execution_count": 6,
   "metadata": {
    "scrolled": false
   },
   "outputs": [
    {
     "data": {
      "text/plain": [
       "200"
      ]
     },
     "execution_count": 6,
     "metadata": {},
     "output_type": "execute_result"
    }
   ],
   "source": [
    "url = \"https://api.twitter.com/2/users/17070113/tweets?user.fields=created_at,description,entities,id,location,name,pinned_tweet_id,profile_image_url,protected,public_metrics,url,username,verified&max_results=100&start_time=2020-09-30T00:00:00Z&end_time=2020-10-15T00:00:00Z&expansions=&tweet.fields=created_at,public_metrics,source,text\"\n",
    "\n",
    "payload = {}\n",
    "headers = {\"Authorization\": \"Bearer {}\".format(env.bearer_token)}\n",
    "\n",
    "response = requests.request(\"GET\", url, headers=headers)\n",
    "response.status_code"
   ]
  },
  {
   "cell_type": "code",
   "execution_count": 7,
   "metadata": {
    "scrolled": false
   },
   "outputs": [
    {
     "data": {
      "text/plain": [
       "{'source': 'Twitter Web App',\n",
       " 'text': 'RT @LADOTofficial: #LADOT has introduced economic relief measures to assist #Angelenos in need as parking enforcement resumes this Thursday…',\n",
       " 'public_metrics': {'retweet_count': 14,\n",
       "  'reply_count': 0,\n",
       "  'like_count': 0,\n",
       "  'quote_count': 0},\n",
       " 'id': '1316483098570186753',\n",
       " 'created_at': '2020-10-14T20:56:44.000Z'}"
      ]
     },
     "execution_count": 7,
     "metadata": {},
     "output_type": "execute_result"
    }
   ],
   "source": [
    "tweets = json.loads(response.text.encode('utf8'))['data']\n",
    "\n",
    "tweets[1]"
   ]
  },
  {
   "cell_type": "code",
   "execution_count": 8,
   "metadata": {
    "scrolled": false
   },
   "outputs": [],
   "source": [
    "data = pd.DataFrame()\n",
    "\n",
    "for tweet in tweets:\n",
    "    tweet_data = pd.DataFrame({'post_time': pd.to_datetime(tweet['created_at']),\n",
    "                               'tweet': tweet['text'].lower(),\n",
    "                               'retweet_count': tweet['public_metrics']['retweet_count'],\n",
    "                               'reply_count': tweet['public_metrics']['reply_count'],\n",
    "                               'like_count': tweet['public_metrics']['like_count'],\n",
    "                               'quote_count': tweet['public_metrics']['quote_count'],\n",
    "                               'tweet_url_id': tweet['id']\n",
    "                               },index=[0])\n",
    "    data = pd.concat([data, tweet_data])\n",
    "\n",
    "data = data.sort_values(by=['post_time']).reset_index(drop=True)\n",
    "data = data.assign(\n",
    "    total_engagement = data[['retweet_count', 'reply_count', 'like_count', 'quote_count']].sum(axis=1)\n",
    ")"
   ]
  },
  {
   "cell_type": "code",
   "execution_count": 9,
   "metadata": {
    "scrolled": false
   },
   "outputs": [
    {
     "data": {
      "text/html": [
       "<div>\n",
       "<style scoped>\n",
       "    .dataframe tbody tr th:only-of-type {\n",
       "        vertical-align: middle;\n",
       "    }\n",
       "\n",
       "    .dataframe tbody tr th {\n",
       "        vertical-align: top;\n",
       "    }\n",
       "\n",
       "    .dataframe thead th {\n",
       "        text-align: right;\n",
       "    }\n",
       "</style>\n",
       "<table border=\"1\" class=\"dataframe\">\n",
       "  <thead>\n",
       "    <tr style=\"text-align: right;\">\n",
       "      <th></th>\n",
       "      <th>post_time</th>\n",
       "      <th>tweet</th>\n",
       "      <th>retweet_count</th>\n",
       "      <th>reply_count</th>\n",
       "      <th>like_count</th>\n",
       "      <th>quote_count</th>\n",
       "      <th>tweet_url_id</th>\n",
       "      <th>total_engagement</th>\n",
       "    </tr>\n",
       "  </thead>\n",
       "  <tbody>\n",
       "    <tr>\n",
       "      <th>0</th>\n",
       "      <td>2020-09-30 18:57:42+00:00</td>\n",
       "      <td>rt @citylajobs: the city of la offers an onlin...</td>\n",
       "      <td>17</td>\n",
       "      <td>0</td>\n",
       "      <td>0</td>\n",
       "      <td>0</td>\n",
       "      <td>1311379712439058432</td>\n",
       "      <td>17</td>\n",
       "    </tr>\n",
       "    <tr>\n",
       "      <th>1</th>\n",
       "      <td>2020-09-30 19:50:15+00:00</td>\n",
       "      <td>check out our new bus lane on aliso st — runni...</td>\n",
       "      <td>12</td>\n",
       "      <td>22</td>\n",
       "      <td>76</td>\n",
       "      <td>2</td>\n",
       "      <td>1311392937096273922</td>\n",
       "      <td>112</td>\n",
       "    </tr>\n",
       "    <tr>\n",
       "      <th>2</th>\n",
       "      <td>2020-09-30 21:09:55+00:00</td>\n",
       "      <td>rt @metrolosangeles: views from the purple (d ...</td>\n",
       "      <td>42</td>\n",
       "      <td>0</td>\n",
       "      <td>0</td>\n",
       "      <td>0</td>\n",
       "      <td>1311412984787345408</td>\n",
       "      <td>42</td>\n",
       "    </tr>\n",
       "    <tr>\n",
       "      <th>3</th>\n",
       "      <td>2020-09-30 23:18:51+00:00</td>\n",
       "      <td>rt @ladotofficial: a new bus-only lane is maki...</td>\n",
       "      <td>27</td>\n",
       "      <td>0</td>\n",
       "      <td>0</td>\n",
       "      <td>0</td>\n",
       "      <td>1311445435488239616</td>\n",
       "      <td>27</td>\n",
       "    </tr>\n",
       "    <tr>\n",
       "      <th>4</th>\n",
       "      <td>2020-10-01 00:34:40+00:00</td>\n",
       "      <td>los angeles always stands with our immigrant c...</td>\n",
       "      <td>66</td>\n",
       "      <td>99</td>\n",
       "      <td>287</td>\n",
       "      <td>25</td>\n",
       "      <td>1311464515502960641</td>\n",
       "      <td>477</td>\n",
       "    </tr>\n",
       "  </tbody>\n",
       "</table>\n",
       "</div>"
      ],
      "text/plain": [
       "                  post_time  \\\n",
       "0 2020-09-30 18:57:42+00:00   \n",
       "1 2020-09-30 19:50:15+00:00   \n",
       "2 2020-09-30 21:09:55+00:00   \n",
       "3 2020-09-30 23:18:51+00:00   \n",
       "4 2020-10-01 00:34:40+00:00   \n",
       "\n",
       "                                               tweet  retweet_count  \\\n",
       "0  rt @citylajobs: the city of la offers an onlin...             17   \n",
       "1  check out our new bus lane on aliso st — runni...             12   \n",
       "2  rt @metrolosangeles: views from the purple (d ...             42   \n",
       "3  rt @ladotofficial: a new bus-only lane is maki...             27   \n",
       "4  los angeles always stands with our immigrant c...             66   \n",
       "\n",
       "   reply_count  like_count  quote_count         tweet_url_id  total_engagement  \n",
       "0            0           0            0  1311379712439058432                17  \n",
       "1           22          76            2  1311392937096273922               112  \n",
       "2            0           0            0  1311412984787345408                42  \n",
       "3            0           0            0  1311445435488239616                27  \n",
       "4           99         287           25  1311464515502960641               477  "
      ]
     },
     "execution_count": 9,
     "metadata": {},
     "output_type": "execute_result"
    }
   ],
   "source": [
    "data.head()"
   ]
  },
  {
   "cell_type": "markdown",
   "metadata": {},
   "source": [
    "## Putting it all together"
   ]
  },
  {
   "cell_type": "code",
   "execution_count": 10,
   "metadata": {},
   "outputs": [
    {
     "name": "stdout",
     "output_type": "stream",
     "text": [
      "Acquiring Eric Garcetti's tweets\n",
      "Acquiring Los Angeles Department of Transportation's tweets\n",
      "Acquiring Nury Martinez's tweets\n",
      "Acquiring Curren D. Price, Jr.'s tweets\n",
      "Acquiring Joe Buscaino's tweets\n"
     ]
    }
   ],
   "source": [
    "headers = {\"Authorization\": \"Bearer {}\".format(env.bearer_token)}\n",
    "data = pd.DataFrame()\n",
    "\n",
    "for index, account in twitter_accounts.iterrows():\n",
    "    url = f\"https://api.twitter.com/2/users/{account['id']}/tweets?user.fields=created_at,description\"\\\n",
    "        + \",entities,id,location,name,pinned_tweet_id,profile_image_url,protected,public_metrics\"\\\n",
    "        + \",url,username,verified&max_results=100&start_time=2020-09-30T00:00:00Z&end_time=2020-10-15T00:00:00\"\\\n",
    "        + \"Z&expansions=&tweet.fields=created_at,public_metrics,source,text\"\n",
    "    response = requests.request(\"GET\", url, headers=headers)\n",
    "    print(f\"Acquiring {account['name']}'s tweets\")\n",
    "    sleep(10)\n",
    "    tweets = json.loads(response.text.encode('utf8'))['data']\n",
    "    \n",
    "    for tweet in tweets:\n",
    "        tweet_data = pd.DataFrame({'post_time': pd.to_datetime(tweet['created_at']),\n",
    "                                   'id': account['id'],\n",
    "                                   'name': account['name'],\n",
    "                                   'username': account['username'],\n",
    "                                   'tweet': tweet['text'].lower(),\n",
    "                                   'retweet_count': tweet['public_metrics']['retweet_count'],\n",
    "                                   'reply_count': tweet['public_metrics']['reply_count'],\n",
    "                                   'like_count': tweet['public_metrics']['like_count'],\n",
    "                                   'quote_count': tweet['public_metrics']['quote_count'],\n",
    "                                   'tweet_url_id': tweet['id']\n",
    "                                   },index=[0])\n",
    "        data = pd.concat([data, tweet_data])"
   ]
  },
  {
   "cell_type": "code",
   "execution_count": 11,
   "metadata": {},
   "outputs": [],
   "source": [
    "data = data.sort_values(by=['post_time']).reset_index(drop=True)\n",
    "data = data.assign(\n",
    "    total_engagement = data[['retweet_count', 'reply_count', 'like_count', 'quote_count']].sum(axis=1)\n",
    ")"
   ]
  },
  {
   "cell_type": "code",
   "execution_count": 12,
   "metadata": {},
   "outputs": [
    {
     "data": {
      "text/html": [
       "<div>\n",
       "<style scoped>\n",
       "    .dataframe tbody tr th:only-of-type {\n",
       "        vertical-align: middle;\n",
       "    }\n",
       "\n",
       "    .dataframe tbody tr th {\n",
       "        vertical-align: top;\n",
       "    }\n",
       "\n",
       "    .dataframe thead th {\n",
       "        text-align: right;\n",
       "    }\n",
       "</style>\n",
       "<table border=\"1\" class=\"dataframe\">\n",
       "  <thead>\n",
       "    <tr style=\"text-align: right;\">\n",
       "      <th></th>\n",
       "      <th>post_time</th>\n",
       "      <th>id</th>\n",
       "      <th>name</th>\n",
       "      <th>username</th>\n",
       "      <th>tweet</th>\n",
       "      <th>retweet_count</th>\n",
       "      <th>reply_count</th>\n",
       "      <th>like_count</th>\n",
       "      <th>quote_count</th>\n",
       "      <th>tweet_url_id</th>\n",
       "      <th>total_engagement</th>\n",
       "    </tr>\n",
       "  </thead>\n",
       "  <tbody>\n",
       "    <tr>\n",
       "      <th>0</th>\n",
       "      <td>2020-09-30 16:02:18+00:00</td>\n",
       "      <td>61261275</td>\n",
       "      <td>Los Angeles Department of Transportation</td>\n",
       "      <td>LADOTofficial</td>\n",
       "      <td>a new bus-only lane is making its debut in #do...</td>\n",
       "      <td>27</td>\n",
       "      <td>9</td>\n",
       "      <td>111</td>\n",
       "      <td>8</td>\n",
       "      <td>1311335571097300996</td>\n",
       "      <td>155</td>\n",
       "    </tr>\n",
       "    <tr>\n",
       "      <th>1</th>\n",
       "      <td>2020-09-30 17:37:02+00:00</td>\n",
       "      <td>341250146</td>\n",
       "      <td>Joe Buscaino</td>\n",
       "      <td>JoeBuscaino</td>\n",
       "      <td>rt @bsslosangeles: what a difference it makes ...</td>\n",
       "      <td>3</td>\n",
       "      <td>0</td>\n",
       "      <td>0</td>\n",
       "      <td>0</td>\n",
       "      <td>1311359411806375936</td>\n",
       "      <td>3</td>\n",
       "    </tr>\n",
       "    <tr>\n",
       "      <th>2</th>\n",
       "      <td>2020-09-30 17:37:59+00:00</td>\n",
       "      <td>341250146</td>\n",
       "      <td>Joe Buscaino</td>\n",
       "      <td>JoeBuscaino</td>\n",
       "      <td>rt @losangeleswalks: safe streets organizing t...</td>\n",
       "      <td>3</td>\n",
       "      <td>0</td>\n",
       "      <td>0</td>\n",
       "      <td>0</td>\n",
       "      <td>1311359653037527040</td>\n",
       "      <td>3</td>\n",
       "    </tr>\n",
       "    <tr>\n",
       "      <th>3</th>\n",
       "      <td>2020-09-30 18:57:42+00:00</td>\n",
       "      <td>17070113</td>\n",
       "      <td>Eric Garcetti</td>\n",
       "      <td>MayorOfLA</td>\n",
       "      <td>rt @citylajobs: the city of la offers an onlin...</td>\n",
       "      <td>17</td>\n",
       "      <td>0</td>\n",
       "      <td>0</td>\n",
       "      <td>0</td>\n",
       "      <td>1311379712439058432</td>\n",
       "      <td>17</td>\n",
       "    </tr>\n",
       "    <tr>\n",
       "      <th>4</th>\n",
       "      <td>2020-09-30 19:10:52+00:00</td>\n",
       "      <td>893602974</td>\n",
       "      <td>Curren D. Price, Jr.</td>\n",
       "      <td>CurrenDPriceJr</td>\n",
       "      <td>i partnered with guardaheart to bring crucial ...</td>\n",
       "      <td>0</td>\n",
       "      <td>0</td>\n",
       "      <td>1</td>\n",
       "      <td>1</td>\n",
       "      <td>1311383024559218688</td>\n",
       "      <td>2</td>\n",
       "    </tr>\n",
       "    <tr>\n",
       "      <th>...</th>\n",
       "      <td>...</td>\n",
       "      <td>...</td>\n",
       "      <td>...</td>\n",
       "      <td>...</td>\n",
       "      <td>...</td>\n",
       "      <td>...</td>\n",
       "      <td>...</td>\n",
       "      <td>...</td>\n",
       "      <td>...</td>\n",
       "      <td>...</td>\n",
       "      <td>...</td>\n",
       "    </tr>\n",
       "    <tr>\n",
       "      <th>167</th>\n",
       "      <td>2020-10-14 20:30:07+00:00</td>\n",
       "      <td>61261275</td>\n",
       "      <td>Los Angeles Department of Transportation</td>\n",
       "      <td>LADOTofficial</td>\n",
       "      <td>have you registered for the great #california ...</td>\n",
       "      <td>1</td>\n",
       "      <td>3</td>\n",
       "      <td>1</td>\n",
       "      <td>0</td>\n",
       "      <td>1316476400401092608</td>\n",
       "      <td>5</td>\n",
       "    </tr>\n",
       "    <tr>\n",
       "      <th>168</th>\n",
       "      <td>2020-10-14 20:56:31+00:00</td>\n",
       "      <td>17070113</td>\n",
       "      <td>Eric Garcetti</td>\n",
       "      <td>MayorOfLA</td>\n",
       "      <td>rt @ladotofficial: ⚠️#reminder ⚠️ parking enfo...</td>\n",
       "      <td>48</td>\n",
       "      <td>0</td>\n",
       "      <td>0</td>\n",
       "      <td>0</td>\n",
       "      <td>1316483045227024384</td>\n",
       "      <td>48</td>\n",
       "    </tr>\n",
       "    <tr>\n",
       "      <th>169</th>\n",
       "      <td>2020-10-14 20:56:44+00:00</td>\n",
       "      <td>17070113</td>\n",
       "      <td>Eric Garcetti</td>\n",
       "      <td>MayorOfLA</td>\n",
       "      <td>rt @ladotofficial: #ladot has introduced econo...</td>\n",
       "      <td>14</td>\n",
       "      <td>0</td>\n",
       "      <td>0</td>\n",
       "      <td>0</td>\n",
       "      <td>1316483098570186753</td>\n",
       "      <td>14</td>\n",
       "    </tr>\n",
       "    <tr>\n",
       "      <th>170</th>\n",
       "      <td>2020-10-14 20:57:10+00:00</td>\n",
       "      <td>956763276</td>\n",
       "      <td>Nury Martinez</td>\n",
       "      <td>CD6Nury</td>\n",
       "      <td>today marks a seminal moment in la history w/ ...</td>\n",
       "      <td>4</td>\n",
       "      <td>3</td>\n",
       "      <td>7</td>\n",
       "      <td>2</td>\n",
       "      <td>1316483208507080705</td>\n",
       "      <td>16</td>\n",
       "    </tr>\n",
       "    <tr>\n",
       "      <th>171</th>\n",
       "      <td>2020-10-14 21:06:00+00:00</td>\n",
       "      <td>17070113</td>\n",
       "      <td>Eric Garcetti</td>\n",
       "      <td>MayorOfLA</td>\n",
       "      <td>are you prepared for an earthquake? join me to...</td>\n",
       "      <td>13</td>\n",
       "      <td>33</td>\n",
       "      <td>32</td>\n",
       "      <td>3</td>\n",
       "      <td>1316485432293511168</td>\n",
       "      <td>81</td>\n",
       "    </tr>\n",
       "  </tbody>\n",
       "</table>\n",
       "<p>172 rows × 11 columns</p>\n",
       "</div>"
      ],
      "text/plain": [
       "                    post_time         id  \\\n",
       "0   2020-09-30 16:02:18+00:00   61261275   \n",
       "1   2020-09-30 17:37:02+00:00  341250146   \n",
       "2   2020-09-30 17:37:59+00:00  341250146   \n",
       "3   2020-09-30 18:57:42+00:00   17070113   \n",
       "4   2020-09-30 19:10:52+00:00  893602974   \n",
       "..                        ...        ...   \n",
       "167 2020-10-14 20:30:07+00:00   61261275   \n",
       "168 2020-10-14 20:56:31+00:00   17070113   \n",
       "169 2020-10-14 20:56:44+00:00   17070113   \n",
       "170 2020-10-14 20:57:10+00:00  956763276   \n",
       "171 2020-10-14 21:06:00+00:00   17070113   \n",
       "\n",
       "                                         name        username  \\\n",
       "0    Los Angeles Department of Transportation   LADOTofficial   \n",
       "1                                Joe Buscaino     JoeBuscaino   \n",
       "2                                Joe Buscaino     JoeBuscaino   \n",
       "3                               Eric Garcetti       MayorOfLA   \n",
       "4                        Curren D. Price, Jr.  CurrenDPriceJr   \n",
       "..                                        ...             ...   \n",
       "167  Los Angeles Department of Transportation   LADOTofficial   \n",
       "168                             Eric Garcetti       MayorOfLA   \n",
       "169                             Eric Garcetti       MayorOfLA   \n",
       "170                             Nury Martinez         CD6Nury   \n",
       "171                             Eric Garcetti       MayorOfLA   \n",
       "\n",
       "                                                 tweet  retweet_count  \\\n",
       "0    a new bus-only lane is making its debut in #do...             27   \n",
       "1    rt @bsslosangeles: what a difference it makes ...              3   \n",
       "2    rt @losangeleswalks: safe streets organizing t...              3   \n",
       "3    rt @citylajobs: the city of la offers an onlin...             17   \n",
       "4    i partnered with guardaheart to bring crucial ...              0   \n",
       "..                                                 ...            ...   \n",
       "167  have you registered for the great #california ...              1   \n",
       "168  rt @ladotofficial: ⚠️#reminder ⚠️ parking enfo...             48   \n",
       "169  rt @ladotofficial: #ladot has introduced econo...             14   \n",
       "170  today marks a seminal moment in la history w/ ...              4   \n",
       "171  are you prepared for an earthquake? join me to...             13   \n",
       "\n",
       "     reply_count  like_count  quote_count         tweet_url_id  \\\n",
       "0              9         111            8  1311335571097300996   \n",
       "1              0           0            0  1311359411806375936   \n",
       "2              0           0            0  1311359653037527040   \n",
       "3              0           0            0  1311379712439058432   \n",
       "4              0           1            1  1311383024559218688   \n",
       "..           ...         ...          ...                  ...   \n",
       "167            3           1            0  1316476400401092608   \n",
       "168            0           0            0  1316483045227024384   \n",
       "169            0           0            0  1316483098570186753   \n",
       "170            3           7            2  1316483208507080705   \n",
       "171           33          32            3  1316485432293511168   \n",
       "\n",
       "     total_engagement  \n",
       "0                 155  \n",
       "1                   3  \n",
       "2                   3  \n",
       "3                  17  \n",
       "4                   2  \n",
       "..                ...  \n",
       "167                 5  \n",
       "168                48  \n",
       "169                14  \n",
       "170                16  \n",
       "171                81  \n",
       "\n",
       "[172 rows x 11 columns]"
      ]
     },
     "execution_count": 12,
     "metadata": {},
     "output_type": "execute_result"
    }
   ],
   "source": [
    "data"
   ]
  },
  {
   "cell_type": "code",
   "execution_count": 13,
   "metadata": {},
   "outputs": [],
   "source": [
    "# data.to_csv('tweets.csv', index=False)"
   ]
  },
  {
   "cell_type": "markdown",
   "metadata": {},
   "source": [
    "## Explore"
   ]
  },
  {
   "cell_type": "code",
   "execution_count": 14,
   "metadata": {},
   "outputs": [],
   "source": [
    "non_enforcement_tweets = data.loc[~data.tweet.str.contains('enforcement')]\n",
    "enforcement_tweets = data.loc[data.tweet.str.contains('enforcement')]\n",
    "\n",
    "non_enforcement_metrics = non_enforcement_tweets[['post_time', 'total_engagement']]\n",
    "enforcement_metrics = enforcement_tweets[['post_time', 'total_engagement']]\n",
    "\n",
    "non_enforcement_metrics.set_index('post_time', inplace=True)\n",
    "enforcement_metrics.set_index('post_time', inplace=True)"
   ]
  },
  {
   "cell_type": "code",
   "execution_count": 15,
   "metadata": {},
   "outputs": [
    {
     "data": {
      "image/png": "[encoded data removed]",
      "text/plain": [
       "<Figure size 432x288 with 2 Axes>"
      ]
     },
     "metadata": {
      "needs_background": "light"
     },
     "output_type": "display_data"
    }
   ],
   "source": [
    "sns.heatmap(non_enforcement_tweets.corr());"
   ]
  },
  {
   "cell_type": "code",
   "execution_count": 16,
   "metadata": {
    "scrolled": false
   },
   "outputs": [
    {
     "data": {
      "image/png": "[encoded data removed]",
      "text/plain": [
       "<Figure size 900x900 with 30 Axes>"
      ]
     },
     "metadata": {
      "needs_background": "light"
     },
     "output_type": "display_data"
    }
   ],
   "source": [
    "sns.pairplot(enforcement_tweets);"
   ]
  },
  {
   "cell_type": "code",
   "execution_count": 17,
   "metadata": {},
   "outputs": [
    {
     "name": "stdout",
     "output_type": "stream",
     "text": [
      "Number of enforcement tweets: 153\n"
     ]
    },
    {
     "data": {
      "image/png": "[encoded data removed]",
      "text/plain": [
       "<Figure size 720x432 with 1 Axes>"
      ]
     },
     "metadata": {
      "needs_background": "light"
     },
     "output_type": "display_data"
    }
   ],
   "source": [
    "sns.set_context('talk')\n",
    "\n",
    "plt.figure(figsize=(10, 6))\n",
    "sns.histplot(non_enforcement_metrics, bins=30, label='Other')\n",
    "\n",
    "plt.title(\"Non Parking Enforcement Tweets from 09/30/2020 - 10/15/2020\")\n",
    "print(f\"Number of enforcement tweets: {len(non_enforcement_metrics)}\");"
   ]
  },
  {
   "cell_type": "code",
   "execution_count": 18,
   "metadata": {},
   "outputs": [
    {
     "name": "stdout",
     "output_type": "stream",
     "text": [
      "Number of enforcement tweets: 19\n"
     ]
    },
    {
     "data": {
      "image/png": "[encoded data removed]",
      "text/plain": [
       "<Figure size 720x432 with 1 Axes>"
      ]
     },
     "metadata": {
      "needs_background": "light"
     },
     "output_type": "display_data"
    }
   ],
   "source": [
    "sns.set_context('talk')\n",
    "\n",
    "plt.figure(figsize=(10, 6))\n",
    "sns.histplot(enforcement_metrics, bins=30)\n",
    "plt.title(\"Parking Enforcement Tweets from 09/30/2020 - 10/15/2020\")\n",
    "print(f\"Number of enforcement tweets: {len(enforcement_metrics)}\");"
   ]
  }
 ],
 "metadata": {
  "kernelspec": {
   "display_name": "Python 3",
   "language": "python",
   "name": "python3"
  },
  "language_info": {
   "codemirror_mode": {
    "name": "ipython",
    "version": 3
   },
   "file_extension": ".py",
   "mimetype": "text/x-python",
   "name": "python",
   "nbconvert_exporter": "python",
   "pygments_lexer": "ipython3",
   "version": "3.7.6"
  }
 },
 "nbformat": 4,
 "nbformat_minor": 4
}
