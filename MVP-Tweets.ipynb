{
 "cells": [
  {
   "cell_type": "code",
   "execution_count": 1,
   "metadata": {},
   "outputs": [],
   "source": [
    "import pandas as pd\n",
    "import numpy as np\n",
    "import requests\n",
    "from requests import get\n",
    "\n",
    "import env"
   ]
  },
  {
   "cell_type": "markdown",
   "metadata": {},
   "source": [
    "# Twitter API"
   ]
  },
  {
   "cell_type": "markdown",
   "metadata": {},
   "source": [
    "# Notes:\n",
    "\n",
    "Hootsuite: https://www.youtube.com/watch?v=Ztk6PXD1EjU"
   ]
  },
  {
   "cell_type": "code",
   "execution_count": 2,
   "metadata": {},
   "outputs": [],
   "source": [
    "def auth():\n",
    "    return env.bearer_token\n",
    "\n",
    "\n",
    "def create_url():\n",
    "    # Replace with user ID below\n",
    "    user_id = 2244994945\n",
    "    return \"https://api.twitter.com/2/users/{}/tweets\".format(user_id)\n",
    "\n",
    "\n",
    "def get_params():\n",
    "    # Tweet fields are adjustable.\n",
    "    # Options include:\n",
    "    # attachments, author_id, context_annotations,\n",
    "    # conversation_id, created_at, entities, geo, id,\n",
    "    # in_reply_to_user_id, lang, non_public_metrics, organic_metrics,\n",
    "    # possibly_sensitive, promoted_metrics, public_metrics, referenced_tweets,\n",
    "    # source, text, and withheld\n",
    "    return {\"tweet.fields\": \"created_at\"}\n",
    "\n",
    "\n",
    "def create_headers(bearer_token):\n",
    "    headers = {\"Authorization\": \"Bearer {}\".format(bearer_token)}\n",
    "    return headers\n",
    "\n",
    "\n",
    "def connect_to_endpoint(url, headers, params):\n",
    "    response = requests.request(\"GET\", url, headers=headers, params=params)\n",
    "    print(response.status_code)\n",
    "    if response.status_code != 200:\n",
    "        raise Exception(\n",
    "            \"Request returned an error: {} {}\".format(\n",
    "                response.status_code, response.text\n",
    "            )\n",
    "        )\n",
    "    return response.json()\n",
    "\n",
    "\n",
    "def main():\n",
    "    bearer_token = auth()\n",
    "    url = create_url()\n",
    "    headers = create_headers(bearer_token)\n",
    "    params = get_params()\n",
    "    json_response = connect_to_endpoint(url, headers, params)\n",
    "    print(json.dumps(json_response, indent=4, sort_keys=True))"
   ]
  },
  {
   "cell_type": "code",
   "execution_count": 3,
   "metadata": {},
   "outputs": [
    {
     "name": "stdout",
     "output_type": "stream",
     "text": [
      "200\n",
      "{\n",
      "    \"data\": [\n",
      "        {\n",
      "            \"created_at\": \"2021-01-06T18:40:40.000Z\",\n",
      "            \"id\": \"1346889436626259968\",\n",
      "            \"text\": \"Learn how to use the user Tweet timeline and user mention timeline endpoints in the Twitter API v2 to explore Tweets and mentions \\ud83d\\udc47\\n\\nhttps://t.co/8ef0gXruSD\"\n",
      "        },\n",
      "        {\n",
      "            \"created_at\": \"2021-01-05T22:45:35.000Z\",\n",
      "            \"id\": \"1346588685555306497\",\n",
      "            \"text\": \"\\ud83d\\udd11\\ud83d\\udd11 On Tuesday, January 12th, we\\u2019re removing the ability to view existing consumer API keys from the developer portal. Be sure to save your API keys in a secure place before Tuesday to ensure your access to the #TwitterAPI is not disrupted. Learn more https://t.co/UztnVZrVwa\"\n",
      "        },\n",
      "        {\n",
      "            \"created_at\": \"2020-12-23T15:04:28.000Z\",\n",
      "            \"id\": \"1341761599976181763\",\n",
      "            \"text\": \"\\ud83d\\udcc8 From Tweets to Google Sheets: @JessicaGarson explains how to use Python to seamlessly turn a #TwitterAPI response into a spreadsheet. https://t.co/PYLaPlmUSU\"\n",
      "        },\n",
      "        {\n",
      "            \"created_at\": \"2020-12-18T17:09:57.000Z\",\n",
      "            \"id\": \"1339981239294566401\",\n",
      "            \"text\": \"Introducing a new Tweet field on v2 endpoints: \\u201creply_settings\\\" shows how the Tweet author allowed others to reply to their post. This can help you filter only by Tweets you can reply to, or better analyze public conversations. Learn more about it here \\ud83d\\udc47 https://t.co/XR09zDvpmZ https://t.co/YIfg7F0En2\"\n",
      "        },\n",
      "        {\n",
      "            \"created_at\": \"2020-12-18T16:46:19.000Z\",\n",
      "            \"id\": \"1339975291905527808\",\n",
      "            \"text\": \"\\ud83d\\udc4b We're going live on Twitch in just a few minutes! https://t.co/eNn2fvMB7W\"\n",
      "        },\n",
      "        {\n",
      "            \"created_at\": \"2020-12-17T21:21:00.000Z\",\n",
      "            \"id\": \"1339682027885522947\",\n",
      "            \"text\": \"Now in the new #TwitterAPI: user Tweet timeline and user mention timeline!\\nYou can now get Tweets composed by or mentioning an account with the #TwitterAPI. Check out today\\u2019s announcement for what\\u2019s new, use cases, and sample code \\ud83d\\udc47 https://t.co/L1PBSSjh1Q https://t.co/ydzhCIZ4Cy\"\n",
      "        },\n",
      "        {\n",
      "            \"created_at\": \"2020-12-17T20:02:01.000Z\",\n",
      "            \"id\": \"1339662151749910528\",\n",
      "            \"text\": \"\\ud83d\\udc40 Don\\u2019t sign off for the holidays just yet. We\\u2019ve got something else coming your way later this afternoon...\"\n",
      "        },\n",
      "        {\n",
      "            \"created_at\": \"2020-12-17T18:41:23.000Z\",\n",
      "            \"id\": \"1339641862265696256\",\n",
      "            \"text\": \"2021 can't come fast enough, but when it does, be on the lookout for functionality to follow/unfollow accounts, and manage and retrieve block and mute relationships using the new #TwitterAPI. Check out our roadmap to see what\\u2019s coming next! https://t.co/rspek8xGhV\"\n",
      "        },\n",
      "        {\n",
      "            \"created_at\": \"2020-12-17T18:41:23.000Z\",\n",
      "            \"id\": \"1339641861263245315\",\n",
      "            \"text\": \"\\ud83d\\udce3 We\\u2019re releasing new v2 endpoints today! The follows lookup endpoints enable you to retrieve a person\\u2019s follower and following relationships via the #TwitterAPI. Learn more \\ud83d\\udc47 https://t.co/YT13a2tPFE\"\n",
      "        },\n",
      "        {\n",
      "            \"created_at\": \"2020-12-15T22:15:53.000Z\",\n",
      "            \"id\": \"1338971066773905408\",\n",
      "            \"text\": \"\\ud83d\\udca1 Using Twitter data for academic research? Join our next livestream this Friday @ 9am PT on https://t.co/GrtBOXh5Y1!\\n \\n@SuhemParack will show how to get started with recent search &amp; filtered stream endpoints on the #TwitterAPI v2, the new Tweet payload, annotations, &amp; more. https://t.co/IraD2Z7wEg\"\n",
      "        }\n",
      "    ],\n",
      "    \"meta\": {\n",
      "        \"newest_id\": \"1346889436626259968\",\n",
      "        \"next_token\": \"7140dibdnow9c7btw3w29pbzpyo2i2z115csy9le6w56g\",\n",
      "        \"oldest_id\": \"1338971066773905408\",\n",
      "        \"result_count\": 10\n",
      "    }\n",
      "}\n"
     ]
    }
   ],
   "source": [
    "main()"
   ]
  }
 ],
 "metadata": {
  "kernelspec": {
   "display_name": "Python 3",
   "language": "python",
   "name": "python3"
  },
  "language_info": {
   "codemirror_mode": {
    "name": "ipython",
    "version": 3
   },
   "file_extension": ".py",
   "mimetype": "text/x-python",
   "name": "python",
   "nbconvert_exporter": "python",
   "pygments_lexer": "ipython3",
   "version": "3.7.6"
  }
 },
 "nbformat": 4,
 "nbformat_minor": 4
}
