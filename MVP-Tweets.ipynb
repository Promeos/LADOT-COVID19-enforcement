{
 "cells": [
  {
   "cell_type": "code",
   "execution_count": 1,
   "metadata": {},
   "outputs": [],
   "source": [
    "import pandas as pd\n",
    "import numpy as np\n",
    "import requests\n",
    "from requests import get\n",
    "import json\n",
    "\n",
    "import env"
   ]
  },
  {
   "cell_type": "markdown",
   "metadata": {},
   "source": [
    "# Twitter API"
   ]
  },
  {
   "cell_type": "markdown",
   "metadata": {},
   "source": [
    "# Notes:\n",
    "\n",
    "Hootsuite: https://www.youtube.com/watch?v=Ztk6PXD1EjU"
   ]
  },
  {
   "cell_type": "code",
   "execution_count": 5,
   "metadata": {
    "scrolled": false
   },
   "outputs": [
    {
     "name": "stdout",
     "output_type": "stream",
     "text": [
      "b'{\"data\":[{\"text\":\"Have you registered for the Great #California #Shakeout #Earthquake Preparedness Drill this Thursday, October 15? Plan to be safe and learn about how to prepare and secure your space for earthquakes. More info here: https://t.co/Q0iVvUIDbG  @ECA @ReadyLA @NotifyLA https://t.co/3rzXvNLWW2\",\"created_at\":\"2020-10-14T20:30:07.000Z\",\"source\":\"Hootsuite Inc.\",\"public_metrics\":{\"retweet_count\":1,\"reply_count\":3,\"like_count\":1,\"quote_count\":0},\"id\":\"1316476400401092608\"},{\"text\":\"#LADOT has introduced economic relief measures to assist #Angelenos in need as parking enforcement resumes this Thursday, October 15. For more information, visit: https://t.co/GG2HFz3xyT https://t.co/jEk7nl7CVU\",\"created_at\":\"2020-10-14T19:35:15.000Z\",\"source\":\"Twitter Web App\",\"public_metrics\":{\"retweet_count\":14,\"reply_count\":22,\"like_count\":8,\"quote_count\":12},\"id\":\"1316462593825894400\"},{\"text\":\"@YourDreamFit @YourDreamFit Thank you for reaching out. Please try this link https://t.co/GG2HFzl8Xt\",\"created_at\":\"2020-10-14T17:45:01.000Z\",\"source\":\"Hootsuite Inc.\",\"public_metrics\":{\"retweet_count\":0,\"reply_count\":1,\"like_count\":1,\"quote_count\":0},\"id\":\"1316434850438623232\"},{\"text\":\"We join the celebration of the #PedestrianSafetyMonth with our continuous efforts to improve safety for all #Angelenos. Check out this new pedestrian refuge island that our crew recently installed at Figueroa St. and 57th St, to help protect pedestrians crossing.  #LADOT https://t.co/SKXPWSBskx\",\"created_at\":\"2020-10-14T17:01:44.000Z\",\"source\":\"Hootsuite Inc.\",\"public_metrics\":{\"retweet_count\":2,\"reply_count\":0,\"like_count\":7,\"quote_count\":0},\"id\":\"1316423957374005248\"},{\"text\":\"RT @MikeBoninLA: Thanks to @LADOTofficial &amp; @BSSLosAngeles crews for adding a protected bike lane feature to the existing lane on Mancheste\\xe2\\x80\\xa6\",\"created_at\":\"2020-10-13T20:31:57.000Z\",\"source\":\"Hootsuite Inc.\",\"public_metrics\":{\"retweet_count\":7,\"reply_count\":0,\"like_count\":0,\"quote_count\":0},\"id\":\"1316114476152782850\"},{\"text\":\"Make a positive impact on your health by adding a few more steps to your day! #Walking is an ideal way to be active. Consider it as an alternative when running errands. Remember to use a mask and practice social distance when walking around the city. #Walktober #LADOT https://t.co/HokINvDg3k\",\"created_at\":\"2020-10-13T18:30:11.000Z\",\"source\":\"Hootsuite Inc.\",\"public_metrics\":{\"retweet_count\":2,\"reply_count\":0,\"like_count\":4,\"quote_count\":1},\"id\":\"1316083830239920140\"},{\"text\":\"@INTROVERTjenn @metrolosangeles @INTROVERTjenn Thank you for reaching out. Yes, this Thursday, October 15, LADOT will resume parking enforcement. Please follow the link for more information: https://t.co/GG2HFzl8Xt\",\"created_at\":\"2020-10-13T18:23:29.000Z\",\"source\":\"Hootsuite Inc.\",\"public_metrics\":{\"retweet_count\":0,\"reply_count\":0,\"like_count\":1,\"quote_count\":0},\"id\":\"1316082145685917703\"},{\"text\":\"RT @ConduentTranspo: LADOT and Conduent recognized for innovative #parking management programs that benefit low-income and economically dis\\xe2\\x80\\xa6\",\"created_at\":\"2020-10-13T17:00:27.000Z\",\"source\":\"Hootsuite Inc.\",\"public_metrics\":{\"retweet_count\":2,\"reply_count\":0,\"like_count\":0,\"quote_count\":0},\"id\":\"1316061248832901126\"},{\"text\":\"Celebramos a l\\xc3\\xadderes latinos como Mariana Valdivia quien crea proyectos de transporte que conectan a las comunidades. Su trabajo apoya el objetivo de LADOT de crear calles seguras para todos. Este #MesDeLaHerenciaLatina conoce su historia aqu\\xc3\\xad: https://t.co/BgSI2gfBn8 #SomosLADOT https://t.co/r17UJPuWkX\",\"created_at\":\"2020-10-12T20:01:00.000Z\",\"source\":\"Hootsuite Inc.\",\"public_metrics\":{\"retweet_count\":1,\"reply_count\":0,\"like_count\":5,\"quote_count\":0},\"id\":\"1315744297912860674\"},{\"text\":\"We celebrate #LatinoHeritageMonth by lifting up leaders like Mariana Valdivia. Mariana\\'s hard work supports LADOT\\'s goal of creating safe streets for all. Learn about her story here: https://t.co/mqUbOSrKD2 #SomosLADOT https://t.co/OVBbH3K5uY\",\"created_at\":\"2020-10-12T20:01:00.000Z\",\"source\":\"Hootsuite Inc.\",\"public_metrics\":{\"retweet_count\":2,\"reply_count\":0,\"like_count\":6,\"quote_count\":0},\"id\":\"1315744297308880897\"},{\"text\":\"\\xe2\\x9a\\xa0\\xef\\xb8\\x8f#Reminder \\xe2\\x9a\\xa0\\xef\\xb8\\x8f Parking Enforcement returns this next Thursday, October 15! Please follow the link for full details:  https://t.co/GG2HFzl8Xt https://t.co/UpkElOcarE\",\"created_at\":\"2020-10-12T16:02:16.000Z\",\"source\":\"Hootsuite Inc.\",\"public_metrics\":{\"retweet_count\":48,\"reply_count\":25,\"like_count\":32,\"quote_count\":13},\"id\":\"1315684217485959170\"},{\"text\":\"Last weekend, #LADOT and the office of @mhdcd8 hosted a community bike ride to check out the new bike lanes and improvements to create safer streets for all #Angelenos on #Broadway. #MovingLAForward https://t.co/RIQrZyZZwQ\",\"created_at\":\"2020-10-10T16:01:18.000Z\",\"source\":\"Hootsuite Inc.\",\"public_metrics\":{\"retweet_count\":6,\"reply_count\":2,\"like_count\":11,\"quote_count\":0},\"id\":\"1314959197243609089\"},{\"text\":\"Este #MesDeLaHerenciaLatina estamos celebrando a los l\\xc3\\xadderes latinos en #LADOT. Hoy queremos que conozcas c\\xc3\\xb3mo el trabajo duro y la determinaci\\xc3\\xb3n de Karina Macias contin\\xc3\\xbaan moviendo a #LA hacia adelante. Lee su historia aqu\\xc3\\xad:  https://t.co/jSL0J5A8JH\\\\n#SomosLADOT https://t.co/g6Xg7GEfN5\",\"created_at\":\"2020-10-09T16:02:16.000Z\",\"source\":\"Hootsuite Inc.\",\"public_metrics\":{\"retweet_count\":0,\"reply_count\":0,\"like_count\":6,\"quote_count\":0},\"id\":\"1314597053696278529\"},{\"text\":\"This #LatinoHeritageMonth, we are celebrating the contributions of Latino leaders at #LADOT! Meet Karina Macias whose hard work and determination helps keep #MovingLAForward.  Read more about her story here: https://t.co/jSL0J5A8JH #SomosLADOT https://t.co/fUsoY8lxXl\",\"created_at\":\"2020-10-09T16:02:16.000Z\",\"source\":\"Hootsuite Inc.\",\"public_metrics\":{\"retweet_count\":5,\"reply_count\":2,\"like_count\":24,\"quote_count\":3},\"id\":\"1314597053486559234\"},{\"text\":\"We keep #MovingLAForward with safety improvements like these new traffic signal mast arms that #LADOT crew installed at the intersection of Florence Ave and Vermont Ave to allow protected left-turn phasing. #SafeStreets #CD8 @mhdcd8 https://t.co/bmp3bLE6dT\",\"created_at\":\"2020-10-08T22:00:37.000Z\",\"source\":\"Hootsuite Inc.\",\"public_metrics\":{\"retweet_count\":0,\"reply_count\":1,\"like_count\":5,\"quote_count\":0},\"id\":\"1314324849540698114\"},{\"text\":\"Join us today for a virtual workshop to give input on safety and transit improvements on Lincoln Blvd in #Venice. Visit think this link to register and take our survey!  https://t.co/sBDXIKKTQE #LADOT https://t.co/ho6EwB52iM\",\"created_at\":\"2020-10-08T18:01:07.000Z\",\"source\":\"Hootsuite Inc.\",\"public_metrics\":{\"retweet_count\":5,\"reply_count\":0,\"like_count\":2,\"quote_count\":1},\"id\":\"1314264574288420869\"},{\"text\":\"RT @MayorOfLA: We\\'re continuing to expand bike lanes throughout the city on our way to a cleaner, greener tomorrow for Los Angeles. https:/\\xe2\\x80\\xa6\",\"created_at\":\"2020-10-08T17:44:54.000Z\",\"source\":\"Twitter Web App\",\"public_metrics\":{\"retweet_count\":69,\"reply_count\":0,\"like_count\":0,\"quote_count\":0},\"id\":\"1314260495294099459\"},{\"text\":\"This #LatinoHeritageMonth meet Freddie Nu\\xc3\\xb1o. Freddie is a 2nd gen #chicano and a Commanding Officers for our Parking Enforcement Offices. As an emblem of his heritage, he remembers how mariachi music strikes a vivid chord of his youth in #LA.  #SomosLADOT https://t.co/WgpTWJ407L https://t.co/IhyLy5Zp7r\",\"created_at\":\"2020-10-08T01:00:29.000Z\",\"source\":\"Hootsuite Inc.\",\"public_metrics\":{\"retweet_count\":0,\"reply_count\":0,\"like_count\":5,\"quote_count\":0},\"id\":\"1314007723860799491\"},{\"text\":\"RT @TheNewYorkBlvd: Don\\xe2\\x80\\x99t forget today is #CleanAirDay and @LADOTofficial is providing free rides on these lines. Take advantage of it toda\\xe2\\x80\\xa6\",\"created_at\":\"2020-10-07T20:01:58.000Z\",\"source\":\"Hootsuite Inc.\",\"public_metrics\":{\"retweet_count\":1,\"reply_count\":0,\"like_count\":0,\"quote_count\":0},\"id\":\"1313932601892188160\"},{\"text\":\"#DidYouKnow that #Walking is good for your body, mind, and spirit? This #Walktober, add walking in your daily routine for at least 30 min and improve your health. https://t.co/dn13QWO9uz\",\"created_at\":\"2020-10-07T17:01:49.000Z\",\"source\":\"Hootsuite Inc.\",\"public_metrics\":{\"retweet_count\":9,\"reply_count\":1,\"like_count\":16,\"quote_count\":4},\"id\":\"1313887265945530371\"},{\"text\":\"@gibblertron @gibblertron Hello. Thank you for your question. Please send us a direct message with your information (ticket number, email, and phone number) and our staff will reach out.\",\"created_at\":\"2020-10-06T22:29:08.000Z\",\"source\":\"Hootsuite Inc.\",\"public_metrics\":{\"retweet_count\":0,\"reply_count\":1,\"like_count\":0,\"quote_count\":0},\"id\":\"1313607248015511554\"},{\"text\":\"Thanks for everyone who joined on our bike ride and workshop on #Broadway with @mhcd8 to check out the new bike lane and safety improvements. Learn more about \\\\\"Broadway, Our Way\\\\\" Safety project here: https://t.co/b2yKaRl9Wu @mhdcd8 https://t.co/ZVfoLq9j7L\",\"created_at\":\"2020-10-06T21:00:52.000Z\",\"source\":\"Hootsuite Inc.\",\"public_metrics\":{\"retweet_count\":3,\"reply_count\":0,\"like_count\":5,\"quote_count\":0},\"id\":\"1313585037686829070\"},{\"text\":\"Please be advised that parking enforcement will resume next Thurs, October 15. Visit this link to learn more about our economic relief measures to assist Angelenos in need. https://t.co/GRbTNigyDO https://t.co/gvKV1hvBJw\",\"created_at\":\"2020-10-05T23:00:43.000Z\",\"source\":\"Hootsuite Inc.\",\"public_metrics\":{\"retweet_count\":19,\"reply_count\":19,\"like_count\":31,\"quote_count\":6},\"id\":\"1313252809588998150\"},{\"text\":\"RT @LADOTofficial: \\xc2\\xa1Celebremos el Mes de la Herencia Latina, cont\\xc3\\xa1ndonos! Quedan pocos d\\xc3\\xadas para completar el #Censo2020, no te olvides de\\xe2\\x80\\xa6\",\"created_at\":\"2020-10-05T22:46:34.000Z\",\"source\":\"Twitter for iPhone\",\"public_metrics\":{\"retweet_count\":1,\"reply_count\":0,\"like_count\":0,\"quote_count\":0},\"id\":\"1313249250407452672\"},{\"text\":\"We\\'re excited to share that #LADOT parking management was recognized by the National Parking Association for their initiatives benefiting low-income and economically disadvantaged motorists! Read more here: https://t.co/eItq9oZ8gQ\",\"created_at\":\"2020-10-05T22:30:04.000Z\",\"source\":\"Hootsuite Inc.\",\"public_metrics\":{\"retweet_count\":0,\"reply_count\":0,\"like_count\":1,\"quote_count\":0},\"id\":\"1313245098109476864\"},{\"text\":\"@nbdunitz @nbdunitz Thank you for reaching out. LADOT will resume parking enforcement beginning on Thursday, October 15. Please follow the link for more information: https://t.co/GG2HFzl8Xt\",\"created_at\":\"2020-10-05T17:10:09.000Z\",\"source\":\"Hootsuite Inc.\",\"public_metrics\":{\"retweet_count\":0,\"reply_count\":0,\"like_count\":0,\"quote_count\":0},\"id\":\"1313164588544860161\"},{\"text\":\"#LADOT crew has been working hard implementing improvements to make Avalon Blvd a safe street for all #Angelenos! #MovingLAForward #SafeStreets https://t.co/lWfXvBwLCQ\",\"created_at\":\"2020-10-03T17:00:02.000Z\",\"source\":\"Hootsuite Inc.\",\"public_metrics\":{\"retweet_count\":3,\"reply_count\":0,\"like_count\":7,\"quote_count\":0},\"id\":\"1312437265675677701\"},{\"text\":\"RT @lacbc: The #ArroyoSecobikepath has officially been repaired and reopened! Thank you to @LADOTofficial, The Bureau of Engineering, @LACi\\xe2\\x80\\xa6\",\"created_at\":\"2020-10-02T21:50:30.000Z\",\"source\":\"Hootsuite Inc.\",\"public_metrics\":{\"retweet_count\":8,\"reply_count\":0,\"like_count\":0,\"quote_count\":0},\"id\":\"1312147974357622786\"},{\"text\":\"\\xc2\\xa1Celebremos el Mes de la Herencia Latina, cont\\xc3\\xa1ndonos! Quedan pocos d\\xc3\\xadas para completar el #Censo2020, no te olvides de hacerlo para asegurar recursos para tu familia y tu comunidad. Puedes completarlo en https://t.co/zJfxQeDUgA  #LADOT https://t.co/aiey7Wc0DW\",\"created_at\":\"2020-10-02T21:00:54.000Z\",\"source\":\"Hootsuite Inc.\",\"public_metrics\":{\"retweet_count\":1,\"reply_count\":0,\"like_count\":1,\"quote_count\":0},\"id\":\"1312135494520631296\"},{\"text\":\"Let\\'s get counted! Complete the #2020Census today and make a difference for your family and your community! Visit https://t.co/zJfxQeDUgA and #BeCounted. https://t.co/SMVwDC7pME\",\"created_at\":\"2020-10-02T21:00:54.000Z\",\"source\":\"Hootsuite Inc.\",\"public_metrics\":{\"retweet_count\":0,\"reply_count\":0,\"like_count\":0,\"quote_count\":0},\"id\":\"1312135494143111168\"},{\"text\":\"@alexdecordoba @mhdcd8 @alexdecordoba  Hello. Thank you for reaching out. Yes, you can learn more about the project here: https://t.co/b2yKaR3yxU\",\"created_at\":\"2020-10-02T18:54:31.000Z\",\"source\":\"Hootsuite Inc.\",\"public_metrics\":{\"retweet_count\":0,\"reply_count\":1,\"like_count\":3,\"quote_count\":0},\"id\":\"1312103686827433984\"},{\"text\":\"@twitcher31337 @twitcher31337 Hello. Thank you for reaching out.  You can make service requests to 311 or online here: https://t.co/xAIZIgXFRG\",\"created_at\":\"2020-10-02T18:54:20.000Z\",\"source\":\"Hootsuite Inc.\",\"public_metrics\":{\"retweet_count\":0,\"reply_count\":0,\"like_count\":0,\"quote_count\":0},\"id\":\"1312103640983764993\"},{\"text\":\"A new Broadway is on the way! Join us this Sunday, October 4,  for a socially distanced bike ride \\\\uD83D\\\\uDEB2 and check out designs for a Broadway median park! There is still time to register here: https://t.co/0Epmsmqf4C @mhdcd8 https://t.co/Qa46rpK9bB\",\"created_at\":\"2020-10-02T16:02:11.000Z\",\"source\":\"Hootsuite Inc.\",\"public_metrics\":{\"retweet_count\":11,\"reply_count\":6,\"like_count\":58,\"quote_count\":4},\"id\":\"1312060318630191105\"},{\"text\":\"Make the most of this fall and add walking to your daily routine this #Walktober. Walking the recommended 30 minutes a day can help improve your mood and your health. Remember to continue practicing social distance when walking around town. #LADOT https://t.co/wuKqSLnP1x\",\"created_at\":\"2020-10-01T23:00:47.000Z\",\"source\":\"Hootsuite Inc.\",\"public_metrics\":{\"retweet_count\":2,\"reply_count\":1,\"like_count\":5,\"quote_count\":0},\"id\":\"1311803276908793858\"},{\"text\":\"\\xe2\\x9a\\xa0\\xef\\xb8\\x8fPlease be advised!\\xe2\\x9a\\xa0\\xef\\xb8\\x8f #LADOT will resume parking enforcement beginning on Thursday, October 15. For full details regarding resumed enforcement, click here: https://t.co/O7q6aWioT3 https://t.co/duy7bx6MyR\",\"created_at\":\"2020-10-01T21:30:06.000Z\",\"source\":\"Hootsuite Inc.\",\"public_metrics\":{\"retweet_count\":18,\"reply_count\":9,\"like_count\":18,\"quote_count\":4},\"id\":\"1311780452991209479\"},{\"text\":\"@kennyc1987 @kennyc1987  Hello. Thank you for reaching out. LADOT will resume parking enforcement beginning on Thursday, October 15. Please follow the link for more information: https://t.co/GG2HFzl8Xt\",\"created_at\":\"2020-10-01T21:18:24.000Z\",\"source\":\"Hootsuite Inc.\",\"public_metrics\":{\"retweet_count\":0,\"reply_count\":0,\"like_count\":0,\"quote_count\":0},\"id\":\"1311777509277564930\"},{\"text\":\"@LourdesCo17 @LourdesCo17 Hello. Thank you for reaching out. LADOT will resume parking enforcement beginning on Thursday, October 15. Please follow the link for more information: https://t.co/GG2HFzl8Xt\",\"created_at\":\"2020-10-01T21:18:09.000Z\",\"source\":\"Hootsuite Inc.\",\"public_metrics\":{\"retweet_count\":0,\"reply_count\":1,\"like_count\":0,\"quote_count\":0},\"id\":\"1311777445025021953\"},{\"text\":\"@reb12588 @reb12588 Hello. Thank you for reaching out. LADOT will resume parking enforcement beginning on Thursday, October 15. Please follow the link for more information: https://t.co/GG2HFzl8Xt\",\"created_at\":\"2020-10-01T21:18:07.000Z\",\"source\":\"Hootsuite Inc.\",\"public_metrics\":{\"retweet_count\":0,\"reply_count\":1,\"like_count\":0,\"quote_count\":0},\"id\":\"1311777439266361344\"},{\"text\":\"@IAmReaDavis @IAmReaDavis Hello. Thank you for reaching out. LADOT will resume parking enforcement beginning on Thursday, October 15.  Please follow the link for more information: https://t.co/GG2HFzl8Xt\",\"created_at\":\"2020-10-01T21:18:05.000Z\",\"source\":\"Hootsuite Inc.\",\"public_metrics\":{\"retweet_count\":0,\"reply_count\":0,\"like_count\":1,\"quote_count\":0},\"id\":\"1311777430600921099\"},{\"text\":\"@MsLara85 @MsLara85 Hello. Thank you for reaching out. LADOT will resume parking enforcement beginning on Thursday, October 15. Please follow the link for more information: https://t.co/GG2HFzl8Xt\",\"created_at\":\"2020-10-01T21:18:04.000Z\",\"source\":\"Hootsuite Inc.\",\"public_metrics\":{\"retweet_count\":0,\"reply_count\":1,\"like_count\":0,\"quote_count\":0},\"id\":\"1311777424582021120\"},{\"text\":\"@evirybody Hello. Thank you for reaching out. LADOT will resume parking enforcement beginning on Thursday,  October 15.  Please follow the link for more information: https://t.co/GG2HFzl8Xt\",\"created_at\":\"2020-10-01T20:28:52.000Z\",\"source\":\"Hootsuite Inc.\",\"public_metrics\":{\"retweet_count\":0,\"reply_count\":0,\"like_count\":0,\"quote_count\":0},\"id\":\"1311765042245898241\"},{\"text\":\"@Hermy15 @MayorOfLA Hello @Hermy15, Thank you for reaching out. LADOT will resume parking enforcement beginning on Thursday,  October 15.  Please follow the link for more information: https://t.co/GG2HFzl8Xt\",\"created_at\":\"2020-10-01T20:27:46.000Z\",\"source\":\"Hootsuite Inc.\",\"public_metrics\":{\"retweet_count\":0,\"reply_count\":0,\"like_count\":0,\"quote_count\":0},\"id\":\"1311764768244498433\"},{\"text\":\"@ahmong Hello. Thank you for reaching out. LADOT will resume parking enforcement beginning on Thursday,  October 15.  Please follow the link for more information: https://t.co/GG2HFz3xyT\",\"created_at\":\"2020-10-01T20:26:56.000Z\",\"source\":\"Hootsuite Inc.\",\"public_metrics\":{\"retweet_count\":0,\"reply_count\":1,\"like_count\":0,\"quote_count\":0},\"id\":\"1311764556998344704\"},{\"text\":\"@ManuPag @ManuPag Hello. Thank you for your question. Please send us a direct message with your information (ticket number, permit number, email, and phone number) and our staff will reach out.\",\"created_at\":\"2020-10-01T18:22:26.000Z\",\"source\":\"Hootsuite Inc.\",\"public_metrics\":{\"retweet_count\":0,\"reply_count\":1,\"like_count\":0,\"quote_count\":0},\"id\":\"1311733227665715201\"},{\"text\":\"RT @bicyclecomfort: RT BikeLeague: \\\\\"So not everybody thinks about it this way, but streets are actually public space. They\\xe2\\x80\\x99re just like par\\xe2\\x80\\xa6\",\"created_at\":\"2020-10-01T16:57:29.000Z\",\"source\":\"Twitter for iPhone\",\"public_metrics\":{\"retweet_count\":2,\"reply_count\":0,\"like_count\":0,\"quote_count\":0},\"id\":\"1311711846198464512\"},{\"text\":\"A new bus-only lane is making its debut in #DowtownLA! Over the weekend, our crew was installing a dedicated bus line at Alison St,  to enhance mobility for the thousands of people who ride transit or drive in the area. @metrolosangeles #LADOT #MovingLAForward https://t.co/hMQcSyzEL2\",\"created_at\":\"2020-09-30T16:02:18.000Z\",\"source\":\"Hootsuite Inc.\",\"public_metrics\":{\"retweet_count\":27,\"reply_count\":9,\"like_count\":111,\"quote_count\":8},\"id\":\"1311335571097300996\"}],\"meta\":{\"oldest_id\":\"1311335571097300996\",\"newest_id\":\"1316476400401092608\",\"result_count\":46}}'\n"
     ]
    }
   ],
   "source": [
    "url = \"https://api.twitter.com/2/users/61261275/tweets?user.fields=created_at,description,entities,id,location,name,pinned_tweet_id,profile_image_url,protected,public_metrics,url,username,verified,withheld&max_results=100&start_time=2020-09-30T00:00:00Z&end_time=2020-10-15T00:00:00Z&expansions=&tweet.fields=created_at,public_metrics,source,text\"\n",
    "\n",
    "payload = {}\n",
    "headers = {\"Authorization\": \"Bearer {}\".format(env.bearer_token)}\n",
    "\n",
    "response = requests.request(\"GET\", url, headers=headers, data = payload)\n",
    "\n",
    "print(response.text.encode('utf8'))"
   ]
  },
  {
   "cell_type": "code",
   "execution_count": 8,
   "metadata": {},
   "outputs": [],
   "source": [
    "def get_params():\n",
    "    # Tweet fields are adjustable.\n",
    "    # Options include:\n",
    "    # attachments, author_id, context_annotations,\n",
    "    # conversation_id, created_at, entities, geo, id,\n",
    "    # in_reply_to_user_id, lang, non_public_metrics, organic_metrics,\n",
    "    # possibly_sensitive, promoted_metrics, public_metrics, referenced_tweets,\n",
    "    # source, text, and withheld\n",
    "    return {\"tweet.fields\": \"created_at\"}\n",
    "\n",
    "\n",
    "def create_headers(bearer_token):\n",
    "    headers = {\"Authorization\": \"Bearer {}\".format(bearer_token)}\n",
    "    return headers\n",
    "\n",
    "\n",
    "def connect_to_endpoint(url, headers, params):\n",
    "    response = requests.request(\"GET\", url, headers=headers, params=params)\n",
    "    print(response.status_code)\n",
    "    if response.status_code != 200:\n",
    "        raise Exception(\n",
    "            \"Request returned an error: {} {}\".format(\n",
    "                response.status_code, response.text\n",
    "            )\n",
    "        )\n",
    "    return response.json()\n",
    "\n",
    "\n",
    "def main():\n",
    "    bearer_token = auth()\n",
    "    url = create_url()\n",
    "    headers = create_headers(bearer_token)\n",
    "    params = get_params()\n",
    "    json_response = connect_to_endpoint(url, headers, params)\n",
    "    print(json.dumps(json_response, indent=4, sort_keys=True))"
   ]
  },
  {
   "cell_type": "code",
   "execution_count": 9,
   "metadata": {},
   "outputs": [
    {
     "name": "stdout",
     "output_type": "stream",
     "text": [
      "200\n",
      "{\n",
      "    \"data\": [\n",
      "        {\n",
      "            \"created_at\": \"2021-01-06T18:40:40.000Z\",\n",
      "            \"id\": \"1346889436626259968\",\n",
      "            \"text\": \"Learn how to use the user Tweet timeline and user mention timeline endpoints in the Twitter API v2 to explore Tweets and mentions \\ud83d\\udc47\\n\\nhttps://t.co/8ef0gXruSD\"\n",
      "        },\n",
      "        {\n",
      "            \"created_at\": \"2021-01-05T22:45:35.000Z\",\n",
      "            \"id\": \"1346588685555306497\",\n",
      "            \"text\": \"\\ud83d\\udd11\\ud83d\\udd11 On Tuesday, January 12th, we\\u2019re removing the ability to view existing consumer API keys from the developer portal. Be sure to save your API keys in a secure place before Tuesday to ensure your access to the #TwitterAPI is not disrupted. Learn more https://t.co/UztnVZrVwa\"\n",
      "        },\n",
      "        {\n",
      "            \"created_at\": \"2020-12-23T15:04:28.000Z\",\n",
      "            \"id\": \"1341761599976181763\",\n",
      "            \"text\": \"\\ud83d\\udcc8 From Tweets to Google Sheets: @JessicaGarson explains how to use Python to seamlessly turn a #TwitterAPI response into a spreadsheet. https://t.co/PYLaPlmUSU\"\n",
      "        },\n",
      "        {\n",
      "            \"created_at\": \"2020-12-18T17:09:57.000Z\",\n",
      "            \"id\": \"1339981239294566401\",\n",
      "            \"text\": \"Introducing a new Tweet field on v2 endpoints: \\u201creply_settings\\\" shows how the Tweet author allowed others to reply to their post. This can help you filter only by Tweets you can reply to, or better analyze public conversations. Learn more about it here \\ud83d\\udc47 https://t.co/XR09zDvpmZ https://t.co/YIfg7F0En2\"\n",
      "        },\n",
      "        {\n",
      "            \"created_at\": \"2020-12-18T16:46:19.000Z\",\n",
      "            \"id\": \"1339975291905527808\",\n",
      "            \"text\": \"\\ud83d\\udc4b We're going live on Twitch in just a few minutes! https://t.co/eNn2fvMB7W\"\n",
      "        },\n",
      "        {\n",
      "            \"created_at\": \"2020-12-17T21:21:00.000Z\",\n",
      "            \"id\": \"1339682027885522947\",\n",
      "            \"text\": \"Now in the new #TwitterAPI: user Tweet timeline and user mention timeline!\\nYou can now get Tweets composed by or mentioning an account with the #TwitterAPI. Check out today\\u2019s announcement for what\\u2019s new, use cases, and sample code \\ud83d\\udc47 https://t.co/L1PBSSjh1Q https://t.co/ydzhCIZ4Cy\"\n",
      "        },\n",
      "        {\n",
      "            \"created_at\": \"2020-12-17T20:02:01.000Z\",\n",
      "            \"id\": \"1339662151749910528\",\n",
      "            \"text\": \"\\ud83d\\udc40 Don\\u2019t sign off for the holidays just yet. We\\u2019ve got something else coming your way later this afternoon...\"\n",
      "        },\n",
      "        {\n",
      "            \"created_at\": \"2020-12-17T18:41:23.000Z\",\n",
      "            \"id\": \"1339641862265696256\",\n",
      "            \"text\": \"2021 can't come fast enough, but when it does, be on the lookout for functionality to follow/unfollow accounts, and manage and retrieve block and mute relationships using the new #TwitterAPI. Check out our roadmap to see what\\u2019s coming next! https://t.co/rspek8xGhV\"\n",
      "        },\n",
      "        {\n",
      "            \"created_at\": \"2020-12-17T18:41:23.000Z\",\n",
      "            \"id\": \"1339641861263245315\",\n",
      "            \"text\": \"\\ud83d\\udce3 We\\u2019re releasing new v2 endpoints today! The follows lookup endpoints enable you to retrieve a person\\u2019s follower and following relationships via the #TwitterAPI. Learn more \\ud83d\\udc47 https://t.co/YT13a2tPFE\"\n",
      "        },\n",
      "        {\n",
      "            \"created_at\": \"2020-12-15T22:15:53.000Z\",\n",
      "            \"id\": \"1338971066773905408\",\n",
      "            \"text\": \"\\ud83d\\udca1 Using Twitter data for academic research? Join our next livestream this Friday @ 9am PT on https://t.co/GrtBOXh5Y1!\\n \\n@SuhemParack will show how to get started with recent search &amp; filtered stream endpoints on the #TwitterAPI v2, the new Tweet payload, annotations, &amp; more. https://t.co/IraD2Z7wEg\"\n",
      "        }\n",
      "    ],\n",
      "    \"meta\": {\n",
      "        \"newest_id\": \"1346889436626259968\",\n",
      "        \"next_token\": \"7140dibdnow9c7btw3w29pbzpyo2i2z115csy9le6w56g\",\n",
      "        \"oldest_id\": \"1338971066773905408\",\n",
      "        \"result_count\": 10\n",
      "    }\n",
      "}\n"
     ]
    }
   ],
   "source": [
    "main()"
   ]
  },
  {
   "cell_type": "code",
   "execution_count": null,
   "metadata": {},
   "outputs": [],
   "source": []
  }
 ],
 "metadata": {
  "kernelspec": {
   "display_name": "Python 3",
   "language": "python",
   "name": "python3"
  },
  "language_info": {
   "codemirror_mode": {
    "name": "ipython",
    "version": 3
   },
   "file_extension": ".py",
   "mimetype": "text/x-python",
   "name": "python",
   "nbconvert_exporter": "python",
   "pygments_lexer": "ipython3",
   "version": "3.7.6"
  }
 },
 "nbformat": 4,
 "nbformat_minor": 4
}
