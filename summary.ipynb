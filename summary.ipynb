{
 "cells": [
  {
   "cell_type": "markdown",
   "metadata": {},
   "source": [
    "# LADOT Parking Enforcement: Street Sweeping Transition\n",
    "\n",
    "On March 16th, 2020, the city of Los Angeles halted parking enforcement of certain citations one of which was street sweepers. This was done to help angelenos practice safe social distancing in the midst of the pandemic. On October 15th, 2020, LADOT resumed sweeping the streets of Los Angeles.\n",
    "> October 15th, 2020 saw the most street sweeping citations "
   ]
  },
  {
   "cell_type": "code",
   "execution_count": 1,
   "metadata": {},
   "outputs": [],
   "source": [
    "import pandas as pd"
   ]
  },
  {
   "cell_type": "code",
   "execution_count": 2,
   "metadata": {},
   "outputs": [],
   "source": [
    "df = pd.read_csv('data/cleaned-citation-data.csv', date_parser=pd.to_datetime)"
   ]
  },
  {
   "cell_type": "code",
   "execution_count": 3,
   "metadata": {},
   "outputs": [
    {
     "data": {
      "text/html": [
       "<div>\n",
       "<style scoped>\n",
       "    .dataframe tbody tr th:only-of-type {\n",
       "        vertical-align: middle;\n",
       "    }\n",
       "\n",
       "    .dataframe tbody tr th {\n",
       "        vertical-align: top;\n",
       "    }\n",
       "\n",
       "    .dataframe thead th {\n",
       "        text-align: right;\n",
       "    }\n",
       "</style>\n",
       "<table border=\"1\" class=\"dataframe\">\n",
       "  <thead>\n",
       "    <tr style=\"text-align: right;\">\n",
       "      <th></th>\n",
       "      <th>issue_date</th>\n",
       "      <th>issue_time</th>\n",
       "      <th>rp_state_plate</th>\n",
       "      <th>plate_expiry_date</th>\n",
       "      <th>make</th>\n",
       "      <th>body_style</th>\n",
       "      <th>color</th>\n",
       "      <th>location</th>\n",
       "      <th>route</th>\n",
       "      <th>agency</th>\n",
       "      <th>violation_code</th>\n",
       "      <th>violation_description</th>\n",
       "      <th>fine_amount</th>\n",
       "      <th>latitude</th>\n",
       "      <th>longitude</th>\n",
       "      <th>day_of_week</th>\n",
       "      <th>issue_year</th>\n",
       "      <th>issue_hour</th>\n",
       "      <th>issue_minute</th>\n",
       "    </tr>\n",
       "  </thead>\n",
       "  <tbody>\n",
       "    <tr>\n",
       "      <th>0</th>\n",
       "      <td>2015-01-01</td>\n",
       "      <td>15:16:00</td>\n",
       "      <td>CA</td>\n",
       "      <td>2015-05-01</td>\n",
       "      <td>FORD</td>\n",
       "      <td>PU</td>\n",
       "      <td>WT</td>\n",
       "      <td>7300 MULHOLLAND DR</td>\n",
       "      <td>00491</td>\n",
       "      <td>54</td>\n",
       "      <td>80.69AP+</td>\n",
       "      <td>NO STOP/STANDING</td>\n",
       "      <td>93.0</td>\n",
       "      <td>6454906.6</td>\n",
       "      <td>1866097.2</td>\n",
       "      <td>Thursday</td>\n",
       "      <td>2015</td>\n",
       "      <td>15</td>\n",
       "      <td>16</td>\n",
       "    </tr>\n",
       "    <tr>\n",
       "      <th>1</th>\n",
       "      <td>2015-01-01</td>\n",
       "      <td>12:47:00</td>\n",
       "      <td>CA</td>\n",
       "      <td>2015-03-01</td>\n",
       "      <td>HOND</td>\n",
       "      <td>PA</td>\n",
       "      <td>BK</td>\n",
       "      <td>1484 WALLACE AVE</td>\n",
       "      <td>00601</td>\n",
       "      <td>56</td>\n",
       "      <td>80.61</td>\n",
       "      <td>STANDNG IN ALLEY</td>\n",
       "      <td>68.0</td>\n",
       "      <td>6483824.0</td>\n",
       "      <td>1848435.7</td>\n",
       "      <td>Thursday</td>\n",
       "      <td>2015</td>\n",
       "      <td>12</td>\n",
       "      <td>47</td>\n",
       "    </tr>\n",
       "    <tr>\n",
       "      <th>2</th>\n",
       "      <td>2015-01-01</td>\n",
       "      <td>12:48:00</td>\n",
       "      <td>CA</td>\n",
       "      <td>2015-11-01</td>\n",
       "      <td>TOYT</td>\n",
       "      <td>PA</td>\n",
       "      <td>GY</td>\n",
       "      <td>1484 WALLACE AVE</td>\n",
       "      <td>00601</td>\n",
       "      <td>56</td>\n",
       "      <td>80.61</td>\n",
       "      <td>STANDNG IN ALLEY</td>\n",
       "      <td>68.0</td>\n",
       "      <td>6483824.0</td>\n",
       "      <td>1848435.7</td>\n",
       "      <td>Thursday</td>\n",
       "      <td>2015</td>\n",
       "      <td>12</td>\n",
       "      <td>48</td>\n",
       "    </tr>\n",
       "    <tr>\n",
       "      <th>3</th>\n",
       "      <td>2015-01-01</td>\n",
       "      <td>12:50:00</td>\n",
       "      <td>CA</td>\n",
       "      <td>2015-10-01</td>\n",
       "      <td>NISS</td>\n",
       "      <td>PA</td>\n",
       "      <td>BL</td>\n",
       "      <td>1484 WALLACE AVE</td>\n",
       "      <td>00601</td>\n",
       "      <td>56</td>\n",
       "      <td>80.61</td>\n",
       "      <td>STANDNG IN ALLEY</td>\n",
       "      <td>68.0</td>\n",
       "      <td>6483824.0</td>\n",
       "      <td>1848435.7</td>\n",
       "      <td>Thursday</td>\n",
       "      <td>2015</td>\n",
       "      <td>12</td>\n",
       "      <td>50</td>\n",
       "    </tr>\n",
       "    <tr>\n",
       "      <th>4</th>\n",
       "      <td>2015-01-01</td>\n",
       "      <td>12:51:00</td>\n",
       "      <td>CA</td>\n",
       "      <td>2015-08-01</td>\n",
       "      <td>DODG</td>\n",
       "      <td>PA</td>\n",
       "      <td>GY</td>\n",
       "      <td>1484 WALLACE AVE</td>\n",
       "      <td>00601</td>\n",
       "      <td>56</td>\n",
       "      <td>22500A</td>\n",
       "      <td>WITHIN INTERSECTION</td>\n",
       "      <td>68.0</td>\n",
       "      <td>6483824.0</td>\n",
       "      <td>1848435.7</td>\n",
       "      <td>Thursday</td>\n",
       "      <td>2015</td>\n",
       "      <td>12</td>\n",
       "      <td>51</td>\n",
       "    </tr>\n",
       "  </tbody>\n",
       "</table>\n",
       "</div>"
      ],
      "text/plain": [
       "   issue_date issue_time rp_state_plate plate_expiry_date  make body_style  \\\n",
       "0  2015-01-01   15:16:00             CA        2015-05-01  FORD         PU   \n",
       "1  2015-01-01   12:47:00             CA        2015-03-01  HOND         PA   \n",
       "2  2015-01-01   12:48:00             CA        2015-11-01  TOYT         PA   \n",
       "3  2015-01-01   12:50:00             CA        2015-10-01  NISS         PA   \n",
       "4  2015-01-01   12:51:00             CA        2015-08-01  DODG         PA   \n",
       "\n",
       "  color            location  route  agency violation_code  \\\n",
       "0    WT  7300 MULHOLLAND DR  00491      54       80.69AP+   \n",
       "1    BK    1484 WALLACE AVE  00601      56          80.61   \n",
       "2    GY    1484 WALLACE AVE  00601      56          80.61   \n",
       "3    BL    1484 WALLACE AVE  00601      56          80.61   \n",
       "4    GY    1484 WALLACE AVE  00601      56         22500A   \n",
       "\n",
       "  violation_description  fine_amount   latitude  longitude day_of_week  \\\n",
       "0      NO STOP/STANDING         93.0  6454906.6  1866097.2    Thursday   \n",
       "1      STANDNG IN ALLEY         68.0  6483824.0  1848435.7    Thursday   \n",
       "2      STANDNG IN ALLEY         68.0  6483824.0  1848435.7    Thursday   \n",
       "3      STANDNG IN ALLEY         68.0  6483824.0  1848435.7    Thursday   \n",
       "4   WITHIN INTERSECTION         68.0  6483824.0  1848435.7    Thursday   \n",
       "\n",
       "   issue_year  issue_hour  issue_minute  \n",
       "0        2015          15            16  \n",
       "1        2015          12            47  \n",
       "2        2015          12            48  \n",
       "3        2015          12            50  \n",
       "4        2015          12            51  "
      ]
     },
     "execution_count": 3,
     "metadata": {},
     "output_type": "execute_result"
    }
   ],
   "source": [
    "df.head()"
   ]
  },
  {
   "cell_type": "code",
   "execution_count": 4,
   "metadata": {},
   "outputs": [
    {
     "name": "stdout",
     "output_type": "stream",
     "text": [
      "<class 'pandas.core.frame.DataFrame'>\n",
      "RangeIndex: 7887763 entries, 0 to 7887762\n",
      "Data columns (total 19 columns):\n",
      " #   Column                 Dtype  \n",
      "---  ------                 -----  \n",
      " 0   issue_date             object \n",
      " 1   issue_time             object \n",
      " 2   rp_state_plate         object \n",
      " 3   plate_expiry_date      object \n",
      " 4   make                   object \n",
      " 5   body_style             object \n",
      " 6   color                  object \n",
      " 7   location               object \n",
      " 8   route                  object \n",
      " 9   agency                 int64  \n",
      " 10  violation_code         object \n",
      " 11  violation_description  object \n",
      " 12  fine_amount            float64\n",
      " 13  latitude               float64\n",
      " 14  longitude              float64\n",
      " 15  day_of_week            object \n",
      " 16  issue_year             int64  \n",
      " 17  issue_hour             int64  \n",
      " 18  issue_minute           int64  \n",
      "dtypes: float64(3), int64(4), object(12)\n",
      "memory usage: 1.1+ GB\n"
     ]
    }
   ],
   "source": [
    "df.info()"
   ]
  },
  {
   "cell_type": "code",
   "execution_count": 5,
   "metadata": {},
   "outputs": [],
   "source": [
    "enforcement = df.loc[(df.issue_date >= '2020-10-15')&(df.issue_date <= '2020-10-21')]"
   ]
  },
  {
   "cell_type": "code",
   "execution_count": 6,
   "metadata": {},
   "outputs": [
    {
     "data": {
      "text/plain": [
       "3606590.0"
      ]
     },
     "execution_count": 6,
     "metadata": {},
     "output_type": "execute_result"
    }
   ],
   "source": [
    "enforcement.fine_amount.sum()"
   ]
  },
  {
   "cell_type": "code",
   "execution_count": 7,
   "metadata": {},
   "outputs": [],
   "source": [
    "df.set_index(pd.to_datetime(df['issue_date']), inplace=True)"
   ]
  },
  {
   "cell_type": "code",
   "execution_count": 8,
   "metadata": {},
   "outputs": [],
   "source": [
    "df = df.loc[(df.longitude != 99999.0)&(df.latitude != 99999.0)]\n",
    "df = df.loc[df.violation_description == 'NO PARK/STREET CLEAN']"
   ]
  },
  {
   "cell_type": "code",
   "execution_count": 23,
   "metadata": {},
   "outputs": [
    {
     "data": {
      "text/plain": [
       "<matplotlib.axes._subplots.AxesSubplot at 0x7fa5bd673210>"
      ]
     },
     "execution_count": 23,
     "metadata": {},
     "output_type": "execute_result"
    },
    {
     "data": {
      "image/png": "[encoded data removed]",
      "text/plain": [
       "<Figure size 432x288 with 1 Axes>"
      ]
     },
     "metadata": {
      "needs_background": "light"
     },
     "output_type": "display_data"
    }
   ],
   "source": [
    "df.fine_amount.resample('D').sum().nlargest(10).sort_index().plot.bar()"
   ]
  },
  {
   "cell_type": "code",
   "execution_count": 25,
   "metadata": {},
   "outputs": [
    {
     "data": {
      "text/plain": [
       "issue_date\n",
       "2020-10-25    25480.0\n",
       "2020-11-01    21190.0\n",
       "2020-11-22    13966.0\n",
       "2020-11-08    13248.0\n",
       "2016-12-25    12889.0\n",
       "2017-12-24    12735.0\n",
       "2017-08-06    12032.0\n",
       "2020-11-15    12027.0\n",
       "2020-10-18    11920.0\n",
       "2016-11-06    11598.0\n",
       "Name: fine_amount, dtype: float64"
      ]
     },
     "execution_count": 25,
     "metadata": {},
     "output_type": "execute_result"
    }
   ],
   "source": [
    "df.fine_amount.resample('W').sum().nlargest(10)/73.0"
   ]
  },
  {
   "cell_type": "code",
   "execution_count": 17,
   "metadata": {},
   "outputs": [
    {
     "data": {
      "text/plain": [
       "issue_date\n",
       "2020-10-31    58842.0\n",
       "2017-08-31    49828.0\n",
       "2020-11-30    49693.0\n",
       "2016-12-31    48488.0\n",
       "2017-06-30    48321.0\n",
       "2017-03-31    47949.0\n",
       "2016-08-31    47947.0\n",
       "2017-05-31    47911.0\n",
       "2017-07-31    46933.0\n",
       "2017-12-31    46621.0\n",
       "Name: fine_amount, dtype: float64"
      ]
     },
     "execution_count": 17,
     "metadata": {},
     "output_type": "execute_result"
    }
   ],
   "source": [
    "df.fine_amount.resample('M').sum().nlargest(10)/73.0"
   ]
  },
  {
   "cell_type": "code",
   "execution_count": null,
   "metadata": {},
   "outputs": [],
   "source": []
  }
 ],
 "metadata": {
  "kernelspec": {
   "display_name": "Python 3",
   "language": "python",
   "name": "python3"
  },
  "language_info": {
   "codemirror_mode": {
    "name": "ipython",
    "version": 3
   },
   "file_extension": ".py",
   "mimetype": "text/x-python",
   "name": "python",
   "nbconvert_exporter": "python",
   "pygments_lexer": "ipython3",
   "version": "3.7.6"
  }
 },
 "nbformat": 4,
 "nbformat_minor": 4
}
