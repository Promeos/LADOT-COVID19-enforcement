{
 "cells": [
  {
   "cell_type": "markdown",
   "metadata": {},
   "source": [
    "# Acquire"
   ]
  },
  {
   "cell_type": "code",
   "execution_count": 1,
   "metadata": {},
   "outputs": [],
   "source": [
    "import numpy as np\n",
    "import pandas as pd\n",
    "import os\n",
    "\n",
    "from pdfminer.high_level import extract_text"
   ]
  },
  {
   "cell_type": "code",
   "execution_count": 2,
   "metadata": {
    "scrolled": false
   },
   "outputs": [
    {
     "data": {
      "text/plain": [
       "\"CITY OF LOS ANGELES\\nINTER-DEPARTMENTAL MEMORANDUM\\n\\nDate:\\n\\nSeptember 17, 2020\\n\\nTo:\\n\\nHonorable City Council\\nc/o City Clerk, Room 395, City Hall\\nAttention: Honorable Mike Bonin, Chair, Transportation Committee\\n\\nFrom:\\n\\nSeleta J. Reynolds, General Manager ^ \\nDepartment of Transportation\\n\\nSubject:\\n\\nTRANSITION PLAN TO RESUME PARKING ENFORCEMENT FOR PREVIOUSLY SUSPENDED \\n\\nPARKING INFRACTIONS AND PROPOSED ECONOMIC RELIEF MEASURES FOR PARKING \\n\\nFINES\\n\\nSUMMARY\\n\\nThe Los Angeles Department of Transportation (LADOT) proposes a transition plan to resume parking \\nenforcement of parking infractions that were suspended in response to the novel coronavirus (COVID- \\n19), and economic relief measures for parking fines (CF 20-0147-S7).\\n\\nRECOMMENDATIONS\\n\\nThat the City Council, subject to approval of the Mayor:\\n\\n1.\\n\\nDIRECT LADOT, beginning October 1, 2020, to resume parking enforcement and impounds, when \\napplicable, for street cleaning, abandoned vehicles, oversize and overnight restrictions, peak hour \\nand anti-gridlock zones, and expired registration;\\n\\n2. DIRECT LADOT, beginning October 15, 2020, to resume enforcement of expired preferential parking \\n\\ndistrict permits;\\n\\n3.\\n\\nDIRECT LADOT to suspend imposing new citation late penalties until October 22, 2020; and\\n\\n4.\\n\\nDIRECT LADOT, beginning January 1, 2021, to resume scofflaw enforcement and impounds.\\n\\nBACKGROUND\\n\\nOn March 4, 2020, the Mayor declared a local emergency in response to the COVID-19 pandemic. On \\nMarch 6, the City Council approved a resolution ratifying the Declaration of Local Emergency. With the \\nDeclaration of a Local Emergency and the unique public health risks posed by COVID-19, on March 16, \\nthe Mayor relaxed parking enforcement across the City putting a temporary halt to the issuance of \\nseveral citations so that residents can more effectively practice the safe social distancing necessary \\nduring the outbreak. Subsequently, LADOT relaxed enforcement for the following categories: \\n\\nResidential street sweeping \\nExpired registration on a vehicle\\n\\n\\x0cThe Honorable City Council\\n\\n2\\n\\nSeptember 17, 2020\\n\\nPeak/rush hour and anti-gridlock zone parking restrictions\\nVehicles displaying recently expired permits within preferential parking districts were granted a \\ntwo-week grace period following the expiration\\nNo ticket or tow for abandoned vehicles, overnight parking, or oversize vehicles.\\n\\nOn September 1, 2020, City Council instructed LADOT to continue the current relaxed enforcement until \\nOctober 1, 2020 and to report back with a phased transition plan to resume parking enforcement and \\npropose economic relief measures for parking fines.\\n\\nDISCUSSION\\n\\nEnforcement Transition Plan\\n\\nBelow is an explanation of the City suspended parking violations with recommendations when \\nenforcement should resume.\\n\\nStreet Cleaning and Abandoned Vehicles\\n\\nThe Mayor's Safer at Home emergency order dictated that City residents must isolate themselves in \\ntheir residences where feasible. Typically, residents are required to move their on-street parked vehicles \\nfor street cleaning, and cannot leave them parked on the street for more than 72 hours per the \\nCalifornia Vehicle Code. While residents remain at home and use their vehicles less, moving and \\nreparking them is more challenging. To acknowledge that challenge, both street cleaning and 72-hour \\n(abandoned vehicle) enforcement was relaxed under the emergency order, and LADOT closed the \\nabandoned-vehicle complaint line.\\n\\nAfter months without street sweeping, the debris and trash build up around unmoved vehicles creates a \\npublic health and safety concern with vermin and rodent infestations. Even with the compliant line \\nclosed, LADOT receives daily complaints from disgruntled residents requesting vehicles be cited and/or \\nremoved. Prior to COVID-19, LADOT's abandoned complaint line received an average of 10,500 \\nabandoned vehicle complaints per month or 126,000 per year.\\n\\nMany residents are now back to work, and the challenge of moving vehicles is reduced. To address \\nhealth and safety and respond to constituent complaints, LADOT recommends resuming enforcement \\nand impounds for street cleaning and abandoned vehicles, when warranted, beginning on October 1, \\n2020.\\n\\nPeak Hour and Anti-gridlock Zones\\n\\nWith the State of California, and County and City of Los Angeles public health orders to stay at home and \\nclose nonessential businesses, traffic volumes and travel delay significantly decreased. This reduction in \\ntraffic volume eliminates the need for peak period lanes and punitive penalties and impounds to keep \\nthose lanes clear. To allow businesses to operate safely, curbside parking and pick-up and delivery \\naccess to restaurants and other essential businesses were temporarily in greater demand. As \\nbusinesses reopen, there is a noticeable increase in traffic volumes and delay during peak periods. \\nStreets that have peak hour lanes and that are designated as anti-gridlock zones can now benefit from \\nnormal operation and enforcement. LADOT recommends resuming peak hour lane and anti-gridlock \\nzone enforcement, when warranted, beginning on October 1, 2020.\\n\\n\\x0cThe Honorable City Council\\n\\n3\\n\\nSeptember 17, 2020\\n\\nExpired Registrations\\n\\nAt the beginning of the pandemic, the Department of Motor Vehicles (DMV) temporarily closed their \\noffices making it more difficult for the public to renew their car registrations, and the City suspended \\nregistration violations. In June 2020, the DMV reopened all field offices to the public so suspending this \\ncitation is no longer necessary. LADOT recommends resuming enforcement for expired registration, \\nwhen warranted, beginning on October 1, 2020.\\n\\nOvernight and Oversized Vehicles\\n\\nTo ensure traffic safety, the California Vehicle Code authorizes cities to restrict oversized vehicle parking \\nwhere it may constrict or even block vehicle travel lanes. These overnight restrictions require City \\nCouncil resolution and posted signs to enforce. When LADOT traffic enforcement officers encounter an \\noccupied oversized vehicle in a restricted area, they do not ticket or tow these vehicles. Instead, they \\ncoordinate with agencies including the Los Angeles Homeless Services Authority (LAHSA) and the Los \\nAngeles Police Department (LAPD) who can provide occupants with access to supportive services. At the \\nbeginning of the pandemic, while traffic volumes were low, the City ceased oversized vehicle restrictions \\nand enforcement to further assist people experiencing homelessness who use vehicles as shelter. As \\ntraffic patterns and volumes return to normal, and oversize vehicles create increased safety concerns, \\nLADOT recommends resuming enforcement and impound for overnight oversized vehicles, when \\nwarranted, beginning October 1, 2020. LADOT will continue to coordinate with partner agencies to assist \\nindividuals living in oversized vehicles, and to establish protocols that ensure occupied vehicles are not \\nimpounded.\\n\\nExpired Preferential Permits\\n\\nLADOT and its contractor closed public service centers to maintain the health and safety of the public \\nand the contractor's employees. While services continued online, by telephone, and through mail, \\nLADOT recognized that there may be instances where permits processed by mail are delayed, and the \\nMayor granted a two-week grace period for expired permits. Beginning the week of October 1, 2020, \\nthe public service centers will reopen and resume processing parking permits in person in addition to \\nthe other mediums. Once those centers are reopened, LADOT recommends a minimum two-week grace \\nperiod to resume enforcement of expired preferential parking permits, when warranted, on October 15, \\n2020.\\n\\nScofflaws\\n\\nVehicles that accumulate five or more delinquent citations, known as scofflaws, can be booted and/or \\ntowed. In the emergency orders to relax enforcement, the Mayor also granted extensions on all \\noutstanding parking fines, which suspended scofflaw enforcement. During this time, LADOT's Smart \\nBoot vendor contract expired and is in the process of renewal. LADOT expects to execute the contract \\nwithin the next 90 days. Upcoming citation amnesty programs that will tentatively be in effect until \\nDecember 31, 2020 could assist scofflaw motorists with coming into compliance. LADOT recommends \\nresuming scofflaw enforcement, when warranted, starting January 1, 2021 once the vendor contract is \\nrenewed.\\n\\nParking Fine Economic Relief\\n\\n\\x0cThe Honorable City Council\\n\\n4\\n\\nSeptember 17, 2020\\n\\nThe City of Los Angeles offers several programs to assist low income individuals and individuals \\nexperiencing homelessness with outstanding parking citation debt. At the direction of the Mayor's \\noffice, LADOT is also working on new economic relief programs to allow citation amnesty and provide an \\nearly citation payment incentive. The citation amnesty program will grant a one-time opportunity for \\nthose with citations over three years old the chance to have all late fees waived and pay the base \\ncitation amount(s) over a period of time thereby clearing DMV holds, tax intercepts, and/or tow orders. \\nAn unemployment citation amnesty program will assist those that lost their job during the pandemic by \\nallowing them to have late fees waived and pay only the base citation amount over a period of time. As \\nenforcement resumes, an additional program will allow motorists an early payment discount for parking \\nviolations previously relaxed under Safer at Home order (e.g. street sweeping, expired tags, expired \\npreferential parking permits, etc.). This program will reward those who pay citations within 48 hours \\nwith a $20 discount.\\n\\nPrograms the Department already has in place to provide economic relief include:\\n\\nCommunity Assistance Parking Program (CAPP): LADOT offers the CAPP for individuals \\nexperiencing homelessness that allows them to pay their parking citations through volunteer \\ncommunity service or through enrollment in a homeless service program. As of June 30, 2020, \\nLADOT assisted 1,070 participants to complete 14,238 community service hours for a total of \\n$559,783 worth of citations converted to community service.\\nLow Income Payment Plans: LADOT worked with the State Legislature to shape bills that created \\nor modified payment plans for the indigent and eligible low income motorists. Depending on the \\nexisting payment plan, the City may waive all late fees for eligible motorists and allow up to 18 \\nmonths to pay off the base citation fines.\\nAccessible Adjudication Hearings: To prevent further spread of COVID-19 and protect the health \\nof the public and City staff, LADOT quickly pivoted to accommodate the public by conducting \\nadjudication hearings through mail and telephone and most recently through video \\nconferencing. The video conferencing was only allowed through the emergency order of the \\nGovernor. LADOT intends to submit a legislative proposal to request to make this a permanent \\noption.\\nTemporary Suspension of Parking Fines and Payments: Under the direction of the Mayor and in \\nresponse to the economic impact created by the pandemic, LADOT suspended parking fines and \\ngranted extensions on all deadlines for payments until October 1, 2020. Motorists are allowed \\nup to 21 days to pay citations to avoid the late penalties. With the complexity of programming \\nsystems to determine the number of remaining days for payment of citations issued pre\\xad\\nsuspension, during the suspension, and post-suspension, LADOT recommends allowing 21 days, \\nuntil October 21, 2020, for motorists to pay their citations to avoid new late penalties.\\nBeginning October 22, 2020, citations older than 21 days would be subject to the late penalty \\nschedule.\\n\\nFISCAL IMPACT STATEMENT\\n\\nParking citation revenue is deposited into the General Fund. In Fiscal Year 2019-20, prior to the \\nDeclaration of a Local Emergency, LADOT projected parking citation revenue to reach approximately \\n$135 million annually or an average of $11.25 million per month. For Fiscal Year 2020-21, assuming \\ncurrent conditions remain the same with reduced parking enforcement and officers are deployed \\nsimilarly for the remainder of the fiscal year, parking citation revenue is estimated to be between $55\\n\\n\\x0cThe Honorable City Council\\n\\n5\\n\\nSeptember 17, 2020\\n\\nmillion and $60 million or $4.5 million to $5 million per month. Compared to the 2020-21 Adopted \\nBudget, the estimates for the current year are up to approximately $85.5 million below budget, which is \\nabout 62% below budget. Delayed normal parking enforcement is one of the main drivers for the $6 \\nmillion revenue loss each month. The revenue may continue to drop with work output impacts related \\nto the recently approved employee Separation Incentive Program, upcoming furloughs, unfilled \\nvacancies, and other factors associated with the pandemic.\\n\\nThe new citation amnesty programs combined could be revenue generating or neutral as the citation \\npayments would otherwise be difficult to collect. Assuming the early payment program extends to the \\nend of the fiscal year, it is estimated to result in a revenue loss of approximately $1-2 million.\\n\\nSJR:JK:kh\\n\\n\\x0c\""
      ]
     },
     "execution_count": 2,
     "metadata": {},
     "output_type": "execute_result"
    }
   ],
   "source": [
    "# Load in the text from a pdf using pdfminer\n",
    "extract_text('city-documents/city-council/LADOT-transition-plan.pdf')"
   ]
  },
  {
   "cell_type": "code",
   "execution_count": 3,
   "metadata": {},
   "outputs": [
    {
     "name": "stdout",
     "output_type": "stream",
     "text": [
      "city-documents/city-council/LADOT-transition-plan.pdf\n",
      "city-documents/city-council/public-outreach-period.pdf\n",
      "city-documents/city-council/relief-report-motion.pdf\n",
      "city-documents/city-council/relief-program-report-121720.pdf\n",
      "city-documents/public-comments/public-comments-parking-enforcement.pdf\n",
      "city-documents/LADOT/enforcement.pdf\n",
      "city-documents/LADOT/citation-pay-program.pdf\n"
     ]
    }
   ],
   "source": [
    "# Create an empty dictionary to scrape text from all the pdfs\n",
    "# stored in the city-documents folder.\n",
    "documents = []\n",
    "\n",
    "for root, dirs, files in os.walk(\"city-documents/\"):\n",
    "    for file in files:\n",
    "        # If the ends with .pdf, display the path\n",
    "        if file.endswith(\".pdf\"):\n",
    "            print(os.path.join(root, file))\n",
    "            # Add the filename and relative path as a dictionary to documents\n",
    "            documents.append({'pdf': file,\n",
    "                              'path': os.path.join(root, file)})"
   ]
  },
  {
   "cell_type": "code",
   "execution_count": 4,
   "metadata": {},
   "outputs": [
    {
     "data": {
      "text/html": [
       "<div>\n",
       "<style scoped>\n",
       "    .dataframe tbody tr th:only-of-type {\n",
       "        vertical-align: middle;\n",
       "    }\n",
       "\n",
       "    .dataframe tbody tr th {\n",
       "        vertical-align: top;\n",
       "    }\n",
       "\n",
       "    .dataframe thead th {\n",
       "        text-align: right;\n",
       "    }\n",
       "</style>\n",
       "<table border=\"1\" class=\"dataframe\">\n",
       "  <thead>\n",
       "    <tr style=\"text-align: right;\">\n",
       "      <th></th>\n",
       "      <th>pdf</th>\n",
       "      <th>path</th>\n",
       "    </tr>\n",
       "  </thead>\n",
       "  <tbody>\n",
       "    <tr>\n",
       "      <th>0</th>\n",
       "      <td>LADOT-transition-plan.pdf</td>\n",
       "      <td>city-documents/city-council/LADOT-transition-p...</td>\n",
       "    </tr>\n",
       "    <tr>\n",
       "      <th>1</th>\n",
       "      <td>public-outreach-period.pdf</td>\n",
       "      <td>city-documents/city-council/public-outreach-pe...</td>\n",
       "    </tr>\n",
       "    <tr>\n",
       "      <th>2</th>\n",
       "      <td>relief-report-motion.pdf</td>\n",
       "      <td>city-documents/city-council/relief-report-moti...</td>\n",
       "    </tr>\n",
       "    <tr>\n",
       "      <th>3</th>\n",
       "      <td>relief-program-report-121720.pdf</td>\n",
       "      <td>city-documents/city-council/relief-program-rep...</td>\n",
       "    </tr>\n",
       "    <tr>\n",
       "      <th>4</th>\n",
       "      <td>public-comments-parking-enforcement.pdf</td>\n",
       "      <td>city-documents/public-comments/public-comments...</td>\n",
       "    </tr>\n",
       "    <tr>\n",
       "      <th>5</th>\n",
       "      <td>enforcement.pdf</td>\n",
       "      <td>city-documents/LADOT/enforcement.pdf</td>\n",
       "    </tr>\n",
       "    <tr>\n",
       "      <th>6</th>\n",
       "      <td>citation-pay-program.pdf</td>\n",
       "      <td>city-documents/LADOT/citation-pay-program.pdf</td>\n",
       "    </tr>\n",
       "  </tbody>\n",
       "</table>\n",
       "</div>"
      ],
      "text/plain": [
       "                                       pdf  \\\n",
       "0                LADOT-transition-plan.pdf   \n",
       "1               public-outreach-period.pdf   \n",
       "2                 relief-report-motion.pdf   \n",
       "3         relief-program-report-121720.pdf   \n",
       "4  public-comments-parking-enforcement.pdf   \n",
       "5                          enforcement.pdf   \n",
       "6                 citation-pay-program.pdf   \n",
       "\n",
       "                                                path  \n",
       "0  city-documents/city-council/LADOT-transition-p...  \n",
       "1  city-documents/city-council/public-outreach-pe...  \n",
       "2  city-documents/city-council/relief-report-moti...  \n",
       "3  city-documents/city-council/relief-program-rep...  \n",
       "4  city-documents/public-comments/public-comments...  \n",
       "5               city-documents/LADOT/enforcement.pdf  \n",
       "6      city-documents/LADOT/citation-pay-program.pdf  "
      ]
     },
     "execution_count": 4,
     "metadata": {},
     "output_type": "execute_result"
    }
   ],
   "source": [
    "# Convert the list of dictionaries into a dataframe\n",
    "pdfs = pd.DataFrame(documents)\n",
    "pdfs"
   ]
  },
  {
   "cell_type": "code",
   "execution_count": 5,
   "metadata": {},
   "outputs": [
    {
     "name": "stdout",
     "output_type": "stream",
     "text": [
      "city-documents/city-council/LADOT-transition-plan.pdf\n",
      "city-documents/city-council/public-outreach-period.pdf\n",
      "city-documents/city-council/relief-report-motion.pdf\n",
      "city-documents/city-council/relief-program-report-121720.pdf\n",
      "city-documents/public-comments/public-comments-parking-enforcement.pdf\n",
      "city-documents/LADOT/enforcement.pdf\n",
      "city-documents/LADOT/citation-pay-program.pdf\n"
     ]
    }
   ],
   "source": [
    "# Collect the relative paths for each pdfs\n",
    "pdfs_to_scrape = []\n",
    "\n",
    "for index, file in pdfs.iterrows():\n",
    "    print(file['path'])\n",
    "    pdfs_to_scrape.append(file['path'])"
   ]
  },
  {
   "cell_type": "code",
   "execution_count": 6,
   "metadata": {},
   "outputs": [
    {
     "data": {
      "text/plain": [
       "['city-documents/city-council/LADOT-transition-plan.pdf',\n",
       " 'city-documents/city-council/public-outreach-period.pdf',\n",
       " 'city-documents/city-council/relief-report-motion.pdf',\n",
       " 'city-documents/city-council/relief-program-report-121720.pdf',\n",
       " 'city-documents/public-comments/public-comments-parking-enforcement.pdf',\n",
       " 'city-documents/LADOT/enforcement.pdf',\n",
       " 'city-documents/LADOT/citation-pay-program.pdf']"
      ]
     },
     "execution_count": 6,
     "metadata": {},
     "output_type": "execute_result"
    }
   ],
   "source": [
    "# Display all file paths\n",
    "pdfs_to_scrape"
   ]
  },
  {
   "cell_type": "code",
   "execution_count": 7,
   "metadata": {},
   "outputs": [],
   "source": [
    "# Create an empty list to store text extracted from each pdf.\n",
    "text = []\n",
    "\n",
    "# Scrape the text from each pdf and store the result in text\n",
    "for file in pdfs_to_scrape:\n",
    "    text.append(extract_text(file))"
   ]
  },
  {
   "cell_type": "code",
   "execution_count": 8,
   "metadata": {},
   "outputs": [
    {
     "data": {
      "text/plain": [
       "7"
      ]
     },
     "execution_count": 8,
     "metadata": {},
     "output_type": "execute_result"
    }
   ],
   "source": [
    "# Display the number of documents stored in the variable `text`.\n",
    "len(text)"
   ]
  },
  {
   "cell_type": "code",
   "execution_count": 9,
   "metadata": {
    "scrolled": false
   },
   "outputs": [
    {
     "name": "stdout",
     "output_type": "stream",
     "text": [
      "CITY OF LOS ANGELES\n",
      "INTER-DEPARTMENTAL MEMORANDUM\n",
      "\n",
      "Date:\n",
      "\n",
      "September 17, 2020\n",
      "\n",
      "To:\n",
      "\n",
      "Honorable City Council\n",
      "c/o City Clerk, Room 395, City Hall\n",
      "Attention: Honorable Mike Bonin, Chair, Transportation Com\n"
     ]
    }
   ],
   "source": [
    "# Display text from the first document\n",
    "print(text[0][:200])"
   ]
  },
  {
   "cell_type": "code",
   "execution_count": 10,
   "metadata": {},
   "outputs": [
    {
     "name": "stdout",
     "output_type": "stream",
     "text": [
      "\n",
      "DOCUMENT #1\n",
      "-----------------\n",
      "CITY OF LOS ANGELES\n",
      "INTER-DEPARTMENTAL MEMORANDUM\n",
      "\n",
      "Date:\n",
      "\n",
      "September 17, 2020\n",
      "\n",
      "To:\n",
      "\n",
      "Honorable City Council\n",
      "c/o City Clerk, Room 395, City Hall\n",
      "Attention: Honorable Mike Bonin, Chair, Transportation Com\n",
      "\n",
      "DOCUMENT #2\n",
      "-----------------\n",
      "MOTION\n",
      "\n",
      "3 0 A\n",
      "\n",
      "I MOVE that the report from the Transportation Committee, Item #30 on today’s Council \n",
      "agenda (C.F. 20-0147-S7), relative to the transition plan to resume parking enforcement for \n",
      "previ\n",
      "\n",
      "DOCUMENT #3\n",
      "-----------------\n",
      "TRANSPORTATION\n",
      "\n",
      "MOTION\n",
      "\n",
      "On October 15th, the Los Angeles Department of Transportation (LADOT) resumed parking \n",
      "\n",
      "enforcement for most violations that had been suspended during the initial months of the\n",
      "\n",
      "DOCUMENT #4\n",
      "-----------------\n",
      "File No. 20-1365\n",
      "\n",
      "TRANSPORTATION  COMMITTEE  REPORT  relative  to  expanding  and  broadening  the\n",
      "economic hardship relief programs for persons who have received parking fines.\n",
      " \n",
      "Recommendation for C\n",
      "\n",
      "DOCUMENT #5\n",
      "-----------------\n",
      "Communication from Public\n",
      "\n",
      " \n",
      " \n",
      "Name:\n",
      "Date Submitted:\n",
      "Council File No:\n",
      "Comments for Public Posting:  My comments are in reference to item #3 of today's\n",
      "\n",
      "Armen Makasjian\n",
      "08/17/2020 01:30 PM\n",
      "20-0147-S7\n",
      "\n",
      "DOCUMENT #6\n",
      "-----------------\n",
      "FOR IMMEDIATE RELEASE   \n",
      "Media Inquiries Only \n",
      "Communications Office \n",
      "LADOT: (213) 972-8406, dot_public_info@lacity.org \n",
      " \n",
      "\n",
      "LADOT to Resume Parking Enforcement, \n",
      "Introduce New Economic Relie\n",
      "\n",
      "DOCUMENT #7\n",
      "-----------------\n",
      "FOR IMMEDIATE RELEASE  \n",
      "Media Inquiries Only \n",
      "Communications Office \n",
      "LADOT: (213) 972-8406, dot_public_info@lacity.org \n",
      " \n",
      "\n",
      "LADOT Launches Early Pay LA Offering \n",
      "Payment Discounts for Parking\n"
     ]
    }
   ],
   "source": [
    "# Display the first 200 characters of each docuemnt in the variable `text`.\n",
    "for i in range(0, len(text)):\n",
    "    print(f\"\\nDOCUMENT #{i+1}\")\n",
    "    print(\"-----------------\")\n",
    "    print(text[i][:200].strip())"
   ]
  }
 ],
 "metadata": {
  "kernelspec": {
   "display_name": "Python 3",
   "language": "python",
   "name": "python3"
  },
  "language_info": {
   "codemirror_mode": {
    "name": "ipython",
    "version": 3
   },
   "file_extension": ".py",
   "mimetype": "text/x-python",
   "name": "python",
   "nbconvert_exporter": "python",
   "pygments_lexer": "ipython3",
   "version": "3.7.6"
  }
 },
 "nbformat": 4,
 "nbformat_minor": 4
}
